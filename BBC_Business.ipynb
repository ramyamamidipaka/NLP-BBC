{
 "cells": [
  {
   "cell_type": "markdown",
   "metadata": {},
   "source": [
    "## Importing Relavant Packages"
   ]
  },
  {
   "cell_type": "code",
   "execution_count": 98,
   "metadata": {},
   "outputs": [
    {
     "name": "stderr",
     "output_type": "stream",
     "text": [
      "[nltk_data] Downloading package punkt to\n",
      "[nltk_data]     C:\\Users\\ramya\\AppData\\Roaming\\nltk_data...\n",
      "[nltk_data]   Package punkt is already up-to-date!\n"
     ]
    }
   ],
   "source": [
    "import numpy as np\n",
    "import pandas as pd\n",
    "from pandas import DataFrame\n",
    "import re\n",
    "import itertools\n",
    "\n",
    "import spacy\n",
    "import en_core_web_sm\n",
    "\n",
    "nlp = en_core_web_sm.load()\n",
    "\n",
    "import gensim\n",
    "from gensim.utils import simple_preprocess\n",
    "from gensim.parsing.preprocessing import STOPWORDS\n",
    "from nltk.stem import WordNetLemmatizer, SnowballStemmer\n",
    "from nltk.corpus import stopwords\n",
    "from nltk.tokenize import word_tokenize\n",
    "import nltk\n",
    "nltk.download('punkt')\n",
    "\n",
    "import warnings\n",
    "warnings.filterwarnings(\"ignore\")"
   ]
  },
  {
   "cell_type": "markdown",
   "metadata": {},
   "source": [
    "### We had several text files as articles in a specific path, so each textfile can be pushed as single entity in a dataframe"
   ]
  },
  {
   "cell_type": "code",
   "execution_count": 99,
   "metadata": {},
   "outputs": [],
   "source": [
    "import os\n",
    "\n",
    "directory = r'C:\\Users\\ramya\\Downloads\\bbc-fulltext\\bbc\\business'\n",
    "\n",
    "num=0\n",
    "business={}\n",
    "for filename in os.listdir(directory):\n",
    "    if filename.endswith(\".txt\") :\n",
    "        num=num+1\n",
    "        x_file = open(os.path.join(directory, filename), \"r\")\n",
    "\n",
    "        words=x_file.read()\n",
    "        business[num]=words   "
   ]
  },
  {
   "cell_type": "markdown",
   "metadata": {},
   "source": [
    "### Example- A typical article"
   ]
  },
  {
   "cell_type": "code",
   "execution_count": 100,
   "metadata": {},
   "outputs": [
    {
     "name": "stdout",
     "output_type": "stream",
     "text": [
      "High fuel prices hit BA's profits\n",
      "\n",
      "British Airways has blamed high fuel prices for a 40% drop in profits.\n",
      "\n",
      "Reporting its results for the three months to 31 December 2004, the airline made a pre-tax profit of Â£75m ($141m) compared with Â£125m a year earlier. Rod Eddington, BA's chief executive, said the results were \"respectable\" in a third quarter when fuel costs rose by Â£106m or 47.3%. BA's profits were still better than market expectation of Â£59m, and it expects a rise in full-year revenues.\n",
      "\n",
      "To help offset the increased price of aviation fuel, BA last year introduced a fuel surcharge for passengers.\n",
      "\n",
      "In October, it increased this from Â£6 to Â£10 one-way for all long-haul flights, while the short-haul surcharge was raised from Â£2.50 to Â£4 a leg. Yet aviation analyst Mike Powell of Dresdner Kleinwort Wasserstein says BA's estimated annual surcharge revenues - Â£160m - will still be way short of its additional fuel costs - a predicted extra Â£250m. Turnover for the quarter was up 4.3% to Â£1.97bn, further benefiting from a rise in cargo revenue. Looking ahead to its full year results to March 2005, BA warned that yields - average revenues per passenger - were expected to decline as it continues to lower prices in the face of competition from low-cost carriers. However, it said sales would be better than previously forecast. \"For the year to March 2005, the total revenue outlook is slightly better than previous guidance with a 3% to 3.5% improvement anticipated,\" BA chairman Martin Broughton said. BA had previously forecast a 2% to 3% rise in full-year revenue.\n",
      "\n",
      "It also reported on Friday that passenger numbers rose 8.1% in January. Aviation analyst Nick Van den Brul of BNP Paribas described BA's latest quarterly results as \"pretty modest\". \"It is quite good on the revenue side and it shows the impact of fuel surcharges and a positive cargo development, however, operating margins down and cost impact of fuel are very strong,\" he said. Since the 11 September 2001 attacks in the United States, BA has cut 13,000 jobs as part of a major cost-cutting drive. \"Our focus remains on reducing controllable costs and debt whilst continuing to invest in our products,\" Mr Eddington said. \"For example, we have taken delivery of six Airbus A321 aircraft and next month we will start further improvements to our Club World flat beds.\" BA's shares closed up four pence at 274.5 pence.\n",
      "\n"
     ]
    }
   ],
   "source": [
    "print (business[4])"
   ]
  },
  {
   "cell_type": "code",
   "execution_count": 101,
   "metadata": {},
   "outputs": [],
   "source": [
    "pd.set_option('display.min_rows', 500)"
   ]
  },
  {
   "cell_type": "code",
   "execution_count": 102,
   "metadata": {},
   "outputs": [],
   "source": [
    "df = DataFrame(list(business.items()),columns = ['filename','article'])\n",
    "df.set_index(\"filename\",inplace=True)"
   ]
  },
  {
   "cell_type": "markdown",
   "metadata": {},
   "source": [
    "# Cleaning"
   ]
  },
  {
   "cell_type": "markdown",
   "metadata": {},
   "source": [
    "### Removing Punctuations and Symbols"
   ]
  },
  {
   "cell_type": "code",
   "execution_count": 103,
   "metadata": {},
   "outputs": [],
   "source": [
    "df[\"article\"]=df[\"article\"].apply(lambda x: re.sub(\"\\W+\",\" \",x))"
   ]
  },
  {
   "cell_type": "code",
   "execution_count": 104,
   "metadata": {},
   "outputs": [
    {
     "data": {
      "text/plain": [
       "'High fuel prices hit BA s profits British Airways has blamed high fuel prices for a 40 drop in profits Reporting its results for the three months to 31 December 2004 the airline made a pre tax profit of Â 75m 141m compared with Â 125m a year earlier Rod Eddington BA s chief executive said the results were respectable in a third quarter when fuel costs rose by Â 106m or 47 3 BA s profits were still better than market expectation of Â 59m and it expects a rise in full year revenues To help offset the increased price of aviation fuel BA last year introduced a fuel surcharge for passengers In October it increased this from Â 6 to Â 10 one way for all long haul flights while the short haul surcharge was raised from Â 2 50 to Â 4 a leg Yet aviation analyst Mike Powell of Dresdner Kleinwort Wasserstein says BA s estimated annual surcharge revenues Â 160m will still be way short of its additional fuel costs a predicted extra Â 250m Turnover for the quarter was up 4 3 to Â 1 97bn further benefiting from a rise in cargo revenue Looking ahead to its full year results to March 2005 BA warned that yields average revenues per passenger were expected to decline as it continues to lower prices in the face of competition from low cost carriers However it said sales would be better than previously forecast For the year to March 2005 the total revenue outlook is slightly better than previous guidance with a 3 to 3 5 improvement anticipated BA chairman Martin Broughton said BA had previously forecast a 2 to 3 rise in full year revenue It also reported on Friday that passenger numbers rose 8 1 in January Aviation analyst Nick Van den Brul of BNP Paribas described BA s latest quarterly results as pretty modest It is quite good on the revenue side and it shows the impact of fuel surcharges and a positive cargo development however operating margins down and cost impact of fuel are very strong he said Since the 11 September 2001 attacks in the United States BA has cut 13 000 jobs as part of a major cost cutting drive Our focus remains on reducing controllable costs and debt whilst continuing to invest in our products Mr Eddington said For example we have taken delivery of six Airbus A321 aircraft and next month we will start further improvements to our Club World flat beds BA s shares closed up four pence at 274 5 pence '"
      ]
     },
     "execution_count": 104,
     "metadata": {},
     "output_type": "execute_result"
    }
   ],
   "source": [
    "df[\"article\"][4]"
   ]
  },
  {
   "cell_type": "code",
   "execution_count": 105,
   "metadata": {},
   "outputs": [
    {
     "data": {
      "text/html": [
       "<div>\n",
       "<style scoped>\n",
       "    .dataframe tbody tr th:only-of-type {\n",
       "        vertical-align: middle;\n",
       "    }\n",
       "\n",
       "    .dataframe tbody tr th {\n",
       "        vertical-align: top;\n",
       "    }\n",
       "\n",
       "    .dataframe thead th {\n",
       "        text-align: right;\n",
       "    }\n",
       "</style>\n",
       "<table border=\"1\" class=\"dataframe\">\n",
       "  <thead>\n",
       "    <tr style=\"text-align: right;\">\n",
       "      <th></th>\n",
       "      <th>article</th>\n",
       "    </tr>\n",
       "    <tr>\n",
       "      <th>filename</th>\n",
       "      <th></th>\n",
       "    </tr>\n",
       "  </thead>\n",
       "  <tbody>\n",
       "    <tr>\n",
       "      <th>1</th>\n",
       "      <td>Ad sales boost Time Warner profit Quarterly pr...</td>\n",
       "    </tr>\n",
       "    <tr>\n",
       "      <th>2</th>\n",
       "      <td>Dollar gains on Greenspan speech The dollar ha...</td>\n",
       "    </tr>\n",
       "    <tr>\n",
       "      <th>3</th>\n",
       "      <td>Yukos unit buyer faces loan claim The owners o...</td>\n",
       "    </tr>\n",
       "    <tr>\n",
       "      <th>4</th>\n",
       "      <td>High fuel prices hit BA s profits British Airw...</td>\n",
       "    </tr>\n",
       "    <tr>\n",
       "      <th>5</th>\n",
       "      <td>Pernod takeover talk lifts Domecq Shares in UK...</td>\n",
       "    </tr>\n",
       "  </tbody>\n",
       "</table>\n",
       "</div>"
      ],
      "text/plain": [
       "                                                    article\n",
       "filename                                                   \n",
       "1         Ad sales boost Time Warner profit Quarterly pr...\n",
       "2         Dollar gains on Greenspan speech The dollar ha...\n",
       "3         Yukos unit buyer faces loan claim The owners o...\n",
       "4         High fuel prices hit BA s profits British Airw...\n",
       "5         Pernod takeover talk lifts Domecq Shares in UK..."
      ]
     },
     "execution_count": 105,
     "metadata": {},
     "output_type": "execute_result"
    }
   ],
   "source": [
    "df.head()"
   ]
  },
  {
   "cell_type": "markdown",
   "metadata": {},
   "source": [
    "### Defining G20 Countries and Nationalities"
   ]
  },
  {
   "cell_type": "code",
   "execution_count": 106,
   "metadata": {},
   "outputs": [],
   "source": [
    "G20=[\"Argentina\", \"Australia\", \"Brazil\", \"Canada\", \"China\", \"Germany\", \"France\", \"India\", \"Indonesia\",\\\n",
    "      \"Japan\", \"Mexico\", \"Russia\", \\\n",
    "     \"Saudi Arabia\", \"Italy\",\"South Africa\", \"Korea\", \"Turkey\", \"UK\",\"US\",\"USA\",\"United States\",\"United Kingdom\",\"America\",\\\n",
    "     ]\n",
    "Europe=[\"Austria\",\"Belgium\",\"Latvia\",\\\n",
    "\"Bulgaria\",\"Lithuania\",\"Croatia\",\"Luxembourg\",\"Cyprus\",\"Malta\",\"Czechia\",\"Netherlands\",\\\n",
    "\"Denmark\",\"Poland\",\"Estonia\",\"Portugal\",\"Finland\",\"Romania\",\"France\",\"Slovakia\",\"Slovenia\",\\\n",
    "\"Greece\",\"Spain\",\"Hungary\",\"Sweden\",\"Europe\",\\\n",
    "            \"Italian\",\"British\",\"Hungary\",\"Finland\",\"Finnish\",\"Sweden\",\n",
    "            \"European\",\"Belgian\",\"Latvian\",\"Polish\",\"Czech\",\"Swedish\",\"Swiss\",\"Spanish\",\\\n",
    "             \"greek\",\"Dutch\",\"Croatian\"]\n",
    "UK=[\"England\", \"Scotland\", \"Wales\",\"Ireland\",\"Scottish\",\"Irish\"]"
   ]
  },
  {
   "cell_type": "code",
   "execution_count": 107,
   "metadata": {},
   "outputs": [],
   "source": [
    "Nationality=[\"Chinese\",\"Russian\",\"South African\",\"Korean\",\"Argentine\",\"Argentinean\",\"Australian\",\"Brazilian\",\"Canadian\",\\\n",
    "               \"Japanese\",\"Mexican\",\"American\",\"Turkish\",\"Indian\",\"Indonesian\",\"German\",\"Italian\"]"
   ]
  },
  {
   "cell_type": "code",
   "execution_count": 108,
   "metadata": {},
   "outputs": [],
   "source": [
    "Nationality_dict={\"Chinese\":\"China\",\"Russian\":\"Russia\",\\\n",
    "                  \"South African\":\"South African\",\"Korean\":\"Korea\",\\\n",
    "                  \"Argentine\":\"Argentina\",\"Argentinean\":\"Argentina\",\\\n",
    "                  \"Australian\":\"Australia\",\"Brazilian\":\"Brazil\",\"Canadian\":\"Canada\",\\\n",
    "               \"Japanese\":\"Japan\",\"Mexican\":\"Mexico\",\\\n",
    "                  \"American\":\"US\",\"Turkish\":\"Turkey\",\"Indian\":\"India\",\"Indonesian\":\"Indonesia\",\\\n",
    "                  \"German\":\"Germany\",\"Italian\":\"Italy\",\"America\":\"US\",\"American\":\"US\",\"United States\":\"US\",\\\n",
    "                  \"United Kingdom\":\"UK\",\"South African\":\"South Africa\",\"USA\":\"US\"}"
   ]
  },
  {
   "cell_type": "markdown",
   "metadata": {},
   "source": [
    "### Removing stopwords, numbers"
   ]
  },
  {
   "cell_type": "code",
   "execution_count": 109,
   "metadata": {},
   "outputs": [],
   "source": [
    "all_stopwords = nlp.Defaults.stop_words"
   ]
  },
  {
   "cell_type": "code",
   "execution_count": 110,
   "metadata": {},
   "outputs": [],
   "source": [
    "all_stopwords.add(\"The\")\n",
    "all_stopwords.add(\"It\")\n",
    "all_stopwords.add(\"In\")\n",
    "all_stopwords.add(\"But\")\n",
    "all_stopwords.add(\"said\")\n",
    "all_stopwords.add(\"Mr\")\n",
    "all_stopwords.add(\"year\")"
   ]
  },
  {
   "cell_type": "code",
   "execution_count": 111,
   "metadata": {
    "scrolled": true
   },
   "outputs": [],
   "source": [
    "\n",
    "\n",
    "def removestop(article):\n",
    "    \n",
    "    text_tokens = word_tokenize(article)\n",
    "    tokens_without_sw= [word for word in text_tokens if not word.lower() in all_stopwords and word.isalpha() and len(word)>1]\n",
    "\n",
    "    return (\" \".join(tokens_without_sw))"
   ]
  },
  {
   "cell_type": "code",
   "execution_count": 112,
   "metadata": {},
   "outputs": [],
   "source": [
    "df[\"article\"]=df[\"article\"].apply(lambda x: removestop(x))"
   ]
  },
  {
   "cell_type": "markdown",
   "metadata": {},
   "source": [
    "### Entity Recognition using Spacy NLP"
   ]
  },
  {
   "cell_type": "code",
   "execution_count": 113,
   "metadata": {},
   "outputs": [],
   "source": [
    "def entityrec(article):\n",
    "    return list({(ent.text) for ent in nlp(article).ents if ent.label_ not in (\"DATE\",\"MONEY\",\"TIME\",\"PERCENT\",\\\n",
    "                                                                                     \"QUANTITY\",\"ORDINAL\",\"CARDINAL\",\"PERSON\")})\n",
    "    "
   ]
  },
  {
   "cell_type": "markdown",
   "metadata": {},
   "source": [
    "### Example- For the above published article 4, the recognised entities are as follows"
   ]
  },
  {
   "cell_type": "code",
   "execution_count": 114,
   "metadata": {},
   "outputs": [
    {
     "data": {
      "text/plain": [
       "['Airbus',\n",
       " 'Club World',\n",
       " 'United States BA',\n",
       " 'BA',\n",
       " 'British Airways',\n",
       " 'Dresdner Kleinwort Wasserstein',\n",
       " 'Brul BNP Paribas']"
      ]
     },
     "execution_count": 114,
     "metadata": {},
     "output_type": "execute_result"
    }
   ],
   "source": [
    "entityrec(df.loc[4][0])"
   ]
  },
  {
   "cell_type": "code",
   "execution_count": 115,
   "metadata": {},
   "outputs": [],
   "source": [
    "df[\"entities\"]=df[\"article\"].apply(lambda x : \" \".join(entityrec(x)))"
   ]
  },
  {
   "cell_type": "code",
   "execution_count": 116,
   "metadata": {},
   "outputs": [],
   "source": [
    "df[\"entities_list\"]=df[\"article\"].apply(entityrec)"
   ]
  },
  {
   "cell_type": "code",
   "execution_count": 117,
   "metadata": {},
   "outputs": [
    {
     "data": {
      "text/html": [
       "<div>\n",
       "<style scoped>\n",
       "    .dataframe tbody tr th:only-of-type {\n",
       "        vertical-align: middle;\n",
       "    }\n",
       "\n",
       "    .dataframe tbody tr th {\n",
       "        vertical-align: top;\n",
       "    }\n",
       "\n",
       "    .dataframe thead th {\n",
       "        text-align: right;\n",
       "    }\n",
       "</style>\n",
       "<table border=\"1\" class=\"dataframe\">\n",
       "  <thead>\n",
       "    <tr style=\"text-align: right;\">\n",
       "      <th></th>\n",
       "      <th>article</th>\n",
       "      <th>entities</th>\n",
       "      <th>entities_list</th>\n",
       "    </tr>\n",
       "    <tr>\n",
       "      <th>filename</th>\n",
       "      <th></th>\n",
       "      <th></th>\n",
       "      <th></th>\n",
       "    </tr>\n",
       "  </thead>\n",
       "  <tbody>\n",
       "    <tr>\n",
       "      <th>1</th>\n",
       "      <td>Ad sales boost Time Warner profit Quarterly pr...</td>\n",
       "      <td>Securities Exchange Commission SEC AOL Time Wa...</td>\n",
       "      <td>[Securities Exchange Commission, SEC, AOL Time...</td>\n",
       "    </tr>\n",
       "    <tr>\n",
       "      <th>2</th>\n",
       "      <td>Dollar gains Greenspan speech dollar hit highe...</td>\n",
       "      <td>Friday Federal Reserve Bank America China Fede...</td>\n",
       "      <td>[Friday Federal Reserve, Bank America, China, ...</td>\n",
       "    </tr>\n",
       "    <tr>\n",
       "      <th>3</th>\n",
       "      <td>Yukos unit buyer faces loan claim owners embat...</td>\n",
       "      <td>Legal Russian State Russia Yukos Menatep Group...</td>\n",
       "      <td>[Legal, Russian, State, Russia, Yukos, Menatep...</td>\n",
       "    </tr>\n",
       "    <tr>\n",
       "      <th>4</th>\n",
       "      <td>High fuel prices hit BA profits British Airway...</td>\n",
       "      <td>Airbus Club World United States BA BA British ...</td>\n",
       "      <td>[Airbus, Club World, United States BA, BA, Bri...</td>\n",
       "    </tr>\n",
       "    <tr>\n",
       "      <th>5</th>\n",
       "      <td>Pernod takeover talk lifts Domecq Shares UK dr...</td>\n",
       "      <td>Scotland Allied Chivas Regal Scotch Paris Fren...</td>\n",
       "      <td>[Scotland, Allied, Chivas Regal Scotch, Paris,...</td>\n",
       "    </tr>\n",
       "  </tbody>\n",
       "</table>\n",
       "</div>"
      ],
      "text/plain": [
       "                                                    article  \\\n",
       "filename                                                      \n",
       "1         Ad sales boost Time Warner profit Quarterly pr...   \n",
       "2         Dollar gains Greenspan speech dollar hit highe...   \n",
       "3         Yukos unit buyer faces loan claim owners embat...   \n",
       "4         High fuel prices hit BA profits British Airway...   \n",
       "5         Pernod takeover talk lifts Domecq Shares UK dr...   \n",
       "\n",
       "                                                   entities  \\\n",
       "filename                                                      \n",
       "1         Securities Exchange Commission SEC AOL Time Wa...   \n",
       "2         Friday Federal Reserve Bank America China Fede...   \n",
       "3         Legal Russian State Russia Yukos Menatep Group...   \n",
       "4         Airbus Club World United States BA BA British ...   \n",
       "5         Scotland Allied Chivas Regal Scotch Paris Fren...   \n",
       "\n",
       "                                              entities_list  \n",
       "filename                                                     \n",
       "1         [Securities Exchange Commission, SEC, AOL Time...  \n",
       "2         [Friday Federal Reserve, Bank America, China, ...  \n",
       "3         [Legal, Russian, State, Russia, Yukos, Menatep...  \n",
       "4         [Airbus, Club World, United States BA, BA, Bri...  \n",
       "5         [Scotland, Allied, Chivas Regal Scotch, Paris,...  "
      ]
     },
     "execution_count": 117,
     "metadata": {},
     "output_type": "execute_result"
    }
   ],
   "source": [
    "df.head()"
   ]
  },
  {
   "cell_type": "code",
   "execution_count": 118,
   "metadata": {},
   "outputs": [
    {
     "data": {
      "text/plain": [
       "'Airbus Club World United States BA BA British Airways Dresdner Kleinwort Wasserstein Brul BNP Paribas'"
      ]
     },
     "execution_count": 118,
     "metadata": {},
     "output_type": "execute_result"
    }
   ],
   "source": [
    "df[\"entities\"][4]"
   ]
  },
  {
   "cell_type": "code",
   "execution_count": 119,
   "metadata": {},
   "outputs": [
    {
     "data": {
      "text/plain": [
       "['Airbus',\n",
       " 'Club World',\n",
       " 'United States BA',\n",
       " 'BA',\n",
       " 'British Airways',\n",
       " 'Dresdner Kleinwort Wasserstein',\n",
       " 'Brul BNP Paribas']"
      ]
     },
     "execution_count": 119,
     "metadata": {},
     "output_type": "execute_result"
    }
   ],
   "source": [
    "df[\"entities_list\"][4]"
   ]
  },
  {
   "cell_type": "markdown",
   "metadata": {},
   "source": [
    "### Function for Comparing Nationality and entity "
   ]
  },
  {
   "cell_type": "code",
   "execution_count": 120,
   "metadata": {},
   "outputs": [],
   "source": [
    "def directcountries(entities):\n",
    "    newlist=[]\n",
    "    x=\" \".join(entities)\n",
    "    for i in itertools.chain(G20,UK,Europe,Nationality):\n",
    "        \n",
    "        if i in x:\n",
    "            newlist.append(i)\n",
    "    return newlist"
   ]
  },
  {
   "cell_type": "markdown",
   "metadata": {},
   "source": [
    "### Example- in first article these are the countries directly mentioned"
   ]
  },
  {
   "cell_type": "code",
   "execution_count": 123,
   "metadata": {},
   "outputs": [
    {
     "data": {
      "text/plain": [
       "'High fuel prices hit BA profits British Airways blamed high fuel prices drop profits Reporting results months December airline pre tax profit compared earlier Rod Eddington BA chief executive results respectable quarter fuel costs rose BA profits better market expectation expects rise revenues help offset increased price aviation fuel BA introduced fuel surcharge passengers October increased way long haul flights short haul surcharge raised leg aviation analyst Mike Powell Dresdner Kleinwort Wasserstein says BA estimated annual surcharge revenues way short additional fuel costs predicted extra Turnover quarter benefiting rise cargo revenue Looking ahead results March BA warned yields average revenues passenger expected decline continues lower prices face competition low cost carriers sales better previously forecast March total revenue outlook slightly better previous guidance improvement anticipated BA chairman Martin Broughton BA previously forecast rise revenue reported Friday passenger numbers rose January Aviation analyst Nick Van den Brul BNP Paribas described BA latest quarterly results pretty modest good revenue shows impact fuel surcharges positive cargo development operating margins cost impact fuel strong September attacks United States BA cut jobs major cost cutting drive focus remains reducing controllable costs debt whilst continuing invest products Mr Eddington example taken delivery Airbus aircraft month start improvements Club World flat beds BA shares closed pence pence'"
      ]
     },
     "execution_count": 123,
     "metadata": {},
     "output_type": "execute_result"
    }
   ],
   "source": [
    "df.loc[4][0]"
   ]
  },
  {
   "cell_type": "code",
   "execution_count": 25,
   "metadata": {
    "scrolled": false
   },
   "outputs": [
    {
     "data": {
      "text/plain": [
       "['United States', 'British']"
      ]
     },
     "execution_count": 25,
     "metadata": {},
     "output_type": "execute_result"
    }
   ],
   "source": [
    "directcountries(df[\"entities_set\"][4])\n"
   ]
  },
  {
   "cell_type": "code",
   "execution_count": 124,
   "metadata": {},
   "outputs": [],
   "source": [
    "df[\"direct\"]=df[\"entities_list\"].apply(lambda x : directcountries(x))"
   ]
  },
  {
   "cell_type": "code",
   "execution_count": 125,
   "metadata": {},
   "outputs": [
    {
     "data": {
      "text/plain": [
       "filename\n",
       "1                               [Europe, German]\n",
       "2    [China, America, Europe, European, Chinese]\n",
       "3                              [Russia, Russian]\n",
       "4                       [United States, British]\n",
       "5                 [France, UK, Scotland, France]\n",
       "Name: direct, dtype: object"
      ]
     },
     "execution_count": 125,
     "metadata": {},
     "output_type": "execute_result"
    }
   ],
   "source": [
    "df[\"direct\"].head()"
   ]
  },
  {
   "cell_type": "markdown",
   "metadata": {},
   "source": [
    "### Creating a new column by Removing directly implied countries from the original entities and then now search for indirectly implied countries"
   ]
  },
  {
   "cell_type": "code",
   "execution_count": 126,
   "metadata": {},
   "outputs": [
    {
     "data": {
      "text/plain": [
       "['Airbus',\n",
       " 'Club World',\n",
       " 'United States BA',\n",
       " 'BA',\n",
       " 'British Airways',\n",
       " 'Dresdner Kleinwort Wasserstein',\n",
       " 'Brul BNP Paribas']"
      ]
     },
     "execution_count": 126,
     "metadata": {},
     "output_type": "execute_result"
    }
   ],
   "source": [
    "df[\"entities_list\"][4]"
   ]
  },
  {
   "cell_type": "code",
   "execution_count": 138,
   "metadata": {},
   "outputs": [
    {
     "data": {
      "text/plain": [
       "['United States', 'British']"
      ]
     },
     "execution_count": 138,
     "metadata": {},
     "output_type": "execute_result"
    }
   ],
   "source": [
    "df[\"direct\"][4]"
   ]
  },
  {
   "cell_type": "code",
   "execution_count": 139,
   "metadata": {},
   "outputs": [],
   "source": [
    "def remove_direct_countries(x):\n",
    "    entities_list = x['entities_list']\n",
    "    direct = x['direct']\n",
    "    \n",
    "    for entity in entities_list:\n",
    "        for country in direct:\n",
    "            if country in entity:\n",
    "                entities_list.remove(entity)\n",
    "    return entities_list\n"
   ]
  },
  {
   "cell_type": "code",
   "execution_count": 142,
   "metadata": {},
   "outputs": [
    {
     "data": {
      "text/plain": [
       "['Airbus',\n",
       " 'Club World',\n",
       " 'BA',\n",
       " 'Dresdner Kleinwort Wasserstein',\n",
       " 'Brul BNP Paribas']"
      ]
     },
     "execution_count": 142,
     "metadata": {},
     "output_type": "execute_result"
    }
   ],
   "source": [
    "remove_direct_countries(df.loc[4])"
   ]
  },
  {
   "cell_type": "code",
   "execution_count": 143,
   "metadata": {},
   "outputs": [],
   "source": [
    "df[\"entities_list\"]=remove_direct_countries(df)"
   ]
  },
  {
   "cell_type": "code",
   "execution_count": 144,
   "metadata": {},
   "outputs": [
    {
     "data": {
      "text/plain": [
       "['Airbus',\n",
       " 'Club World',\n",
       " 'BA',\n",
       " 'Dresdner Kleinwort Wasserstein',\n",
       " 'Brul BNP Paribas']"
      ]
     },
     "execution_count": 144,
     "metadata": {},
     "output_type": "execute_result"
    }
   ],
   "source": [
    "df[\"entities_list\"][4]"
   ]
  },
  {
   "cell_type": "code",
   "execution_count": 145,
   "metadata": {},
   "outputs": [
    {
     "data": {
      "text/plain": [
       "['United States', 'British']"
      ]
     },
     "execution_count": 145,
     "metadata": {},
     "output_type": "execute_result"
    }
   ],
   "source": [
    "df.loc[4][3]"
   ]
  },
  {
   "cell_type": "code",
   "execution_count": 146,
   "metadata": {},
   "outputs": [
    {
     "data": {
      "text/html": [
       "<div>\n",
       "<style scoped>\n",
       "    .dataframe tbody tr th:only-of-type {\n",
       "        vertical-align: middle;\n",
       "    }\n",
       "\n",
       "    .dataframe tbody tr th {\n",
       "        vertical-align: top;\n",
       "    }\n",
       "\n",
       "    .dataframe thead th {\n",
       "        text-align: right;\n",
       "    }\n",
       "</style>\n",
       "<table border=\"1\" class=\"dataframe\">\n",
       "  <thead>\n",
       "    <tr style=\"text-align: right;\">\n",
       "      <th></th>\n",
       "      <th>article</th>\n",
       "      <th>entities</th>\n",
       "      <th>entities_list</th>\n",
       "      <th>direct</th>\n",
       "    </tr>\n",
       "    <tr>\n",
       "      <th>filename</th>\n",
       "      <th></th>\n",
       "      <th></th>\n",
       "      <th></th>\n",
       "      <th></th>\n",
       "    </tr>\n",
       "  </thead>\n",
       "  <tbody>\n",
       "    <tr>\n",
       "      <th>1</th>\n",
       "      <td>Ad sales boost Time Warner profit Quarterly pr...</td>\n",
       "      <td>Securities Exchange Commission SEC AOL Time Wa...</td>\n",
       "      <td>[Securities Exchange Commission, SEC, AOL Time...</td>\n",
       "      <td>[Europe, German]</td>\n",
       "    </tr>\n",
       "    <tr>\n",
       "      <th>2</th>\n",
       "      <td>Dollar gains Greenspan speech dollar hit highe...</td>\n",
       "      <td>Friday Federal Reserve Bank America China Fede...</td>\n",
       "      <td>[Friday Federal Reserve, Bank America, China, ...</td>\n",
       "      <td>[China, America, Europe, European, Chinese]</td>\n",
       "    </tr>\n",
       "    <tr>\n",
       "      <th>3</th>\n",
       "      <td>Yukos unit buyer faces loan claim owners embat...</td>\n",
       "      <td>Legal Russian State Russia Yukos Menatep Group...</td>\n",
       "      <td>[Legal, Russian, State, Russia, Yukos, Menatep...</td>\n",
       "      <td>[Russia, Russian]</td>\n",
       "    </tr>\n",
       "    <tr>\n",
       "      <th>4</th>\n",
       "      <td>High fuel prices hit BA profits British Airway...</td>\n",
       "      <td>Airbus Club World United States BA BA British ...</td>\n",
       "      <td>[Airbus, Club World, BA, Dresdner Kleinwort Wa...</td>\n",
       "      <td>[United States, British]</td>\n",
       "    </tr>\n",
       "    <tr>\n",
       "      <th>5</th>\n",
       "      <td>Pernod takeover talk lifts Domecq Shares UK dr...</td>\n",
       "      <td>Scotland Allied Chivas Regal Scotch Paris Fren...</td>\n",
       "      <td>[Scotland, Allied, Chivas Regal Scotch, Paris,...</td>\n",
       "      <td>[France, UK, Scotland, France]</td>\n",
       "    </tr>\n",
       "  </tbody>\n",
       "</table>\n",
       "</div>"
      ],
      "text/plain": [
       "                                                    article  \\\n",
       "filename                                                      \n",
       "1         Ad sales boost Time Warner profit Quarterly pr...   \n",
       "2         Dollar gains Greenspan speech dollar hit highe...   \n",
       "3         Yukos unit buyer faces loan claim owners embat...   \n",
       "4         High fuel prices hit BA profits British Airway...   \n",
       "5         Pernod takeover talk lifts Domecq Shares UK dr...   \n",
       "\n",
       "                                                   entities  \\\n",
       "filename                                                      \n",
       "1         Securities Exchange Commission SEC AOL Time Wa...   \n",
       "2         Friday Federal Reserve Bank America China Fede...   \n",
       "3         Legal Russian State Russia Yukos Menatep Group...   \n",
       "4         Airbus Club World United States BA BA British ...   \n",
       "5         Scotland Allied Chivas Regal Scotch Paris Fren...   \n",
       "\n",
       "                                              entities_list  \\\n",
       "filename                                                      \n",
       "1         [Securities Exchange Commission, SEC, AOL Time...   \n",
       "2         [Friday Federal Reserve, Bank America, China, ...   \n",
       "3         [Legal, Russian, State, Russia, Yukos, Menatep...   \n",
       "4         [Airbus, Club World, BA, Dresdner Kleinwort Wa...   \n",
       "5         [Scotland, Allied, Chivas Regal Scotch, Paris,...   \n",
       "\n",
       "                                               direct  \n",
       "filename                                               \n",
       "1                                    [Europe, German]  \n",
       "2         [China, America, Europe, European, Chinese]  \n",
       "3                                   [Russia, Russian]  \n",
       "4                            [United States, British]  \n",
       "5                      [France, UK, Scotland, France]  "
      ]
     },
     "execution_count": 146,
     "metadata": {},
     "output_type": "execute_result"
    }
   ],
   "source": [
    "df.head()"
   ]
  },
  {
   "cell_type": "code",
   "execution_count": 148,
   "metadata": {},
   "outputs": [
    {
     "data": {
      "text/plain": [
       "['Airbus',\n",
       " 'Club World',\n",
       " 'BA',\n",
       " 'Dresdner Kleinwort Wasserstein',\n",
       " 'Brul BNP Paribas']"
      ]
     },
     "execution_count": 148,
     "metadata": {},
     "output_type": "execute_result"
    }
   ],
   "source": [
    "df[\"entities_list\"][4]"
   ]
  },
  {
   "cell_type": "markdown",
   "metadata": {},
   "source": [
    "### Using Wikipedia Web pages summary for extracting country"
   ]
  },
  {
   "cell_type": "code",
   "execution_count": 149,
   "metadata": {},
   "outputs": [],
   "source": [
    "import wikipedia\n",
    "from pprint import pprint"
   ]
  },
  {
   "cell_type": "markdown",
   "metadata": {},
   "source": [
    "### Examples- the number of wikipages with Trump as a keyword"
   ]
  },
  {
   "cell_type": "code",
   "execution_count": 150,
   "metadata": {},
   "outputs": [
    {
     "data": {
      "text/plain": [
       "['Donald Trump',\n",
       " 'Melania Trump',\n",
       " 'Trump',\n",
       " 'Ivanka Trump',\n",
       " 'Fred Trump',\n",
       " 'Tiffany Trump',\n",
       " 'The Trump Organization',\n",
       " 'Ivana Trump',\n",
       " 'Eric Trump',\n",
       " 'Family of Donald Trump']"
      ]
     },
     "execution_count": 150,
     "metadata": {},
     "output_type": "execute_result"
    }
   ],
   "source": [
    "wikipedia.search(\"trump\")"
   ]
  },
  {
   "cell_type": "code",
   "execution_count": 151,
   "metadata": {},
   "outputs": [
    {
     "data": {
      "text/plain": [
       "['Labour Party (UK)',\n",
       " 'Labour Party',\n",
       " '2020 Labour Party leadership election',\n",
       " 'Leader of the Labour Party (UK)',\n",
       " 'Labour Party (Norway)',\n",
       " 'Labour Party (Ireland)',\n",
       " 'New Zealand Labour Party',\n",
       " 'Deputy leader of the Labour Party (UK)',\n",
       " 'Labour Party (Malta)',\n",
       " 'Labour Party (Netherlands)']"
      ]
     },
     "execution_count": 151,
     "metadata": {},
     "output_type": "execute_result"
    }
   ],
   "source": [
    "(wikipedia.search(\"Labour party\"))"
   ]
  },
  {
   "cell_type": "code",
   "execution_count": 153,
   "metadata": {},
   "outputs": [
    {
     "data": {
      "text/plain": [
       "\"Airbus SE  is a European multinational aerospace corporation. In 2019, Airbus was the world's largest airliner manufacturer\""
      ]
     },
     "execution_count": 153,
     "metadata": {},
     "output_type": "execute_result"
    }
   ],
   "source": [
    "re.sub(r'\\([^)].*\\)', '', wikipedia.page((wikipedia.search(\"Airbus\"))[0]).summary[:200])"
   ]
  },
  {
   "cell_type": "markdown",
   "metadata": {},
   "source": [
    "### Defining a function for knowing the nationality of an entity from wikipedia's first few lines of summary"
   ]
  },
  {
   "cell_type": "code",
   "execution_count": 154,
   "metadata": {},
   "outputs": [],
   "source": [
    "def getting_relavant_wikipedia_pages_and_country(x):\n",
    "    result=\" \"\n",
    "    for i in x:\n",
    "        if (len(wikipedia.search(i))!=0):\n",
    "            try:\n",
    "                info = wikipedia.page((wikipedia.search(i))[0]).summary[:200]\n",
    "                first_page_summary = re.sub(r'\\([^)].*\\)', '', info)\n",
    "                \n",
    "                result=result+(first_page_summary)\n",
    "            except:\n",
    "                continue\n",
    "    \n",
    "    k= [(ent.text) for ent in nlp(result).ents if ent.label_ in (\"GPE\",\"LOC\") ]\n",
    "    country=[]\n",
    "    \n",
    "    \n",
    "    for i in itertools.chain(G20,UK,Europe,Nationality):\n",
    "\n",
    "        if i in k:\n",
    "            country.append(i)\n",
    "    return country\n",
    "    \n",
    "        "
   ]
  },
  {
   "cell_type": "code",
   "execution_count": 156,
   "metadata": {},
   "outputs": [
    {
     "data": {
      "text/html": [
       "<div>\n",
       "<style scoped>\n",
       "    .dataframe tbody tr th:only-of-type {\n",
       "        vertical-align: middle;\n",
       "    }\n",
       "\n",
       "    .dataframe tbody tr th {\n",
       "        vertical-align: top;\n",
       "    }\n",
       "\n",
       "    .dataframe thead th {\n",
       "        text-align: right;\n",
       "    }\n",
       "</style>\n",
       "<table border=\"1\" class=\"dataframe\">\n",
       "  <thead>\n",
       "    <tr style=\"text-align: right;\">\n",
       "      <th></th>\n",
       "      <th>article</th>\n",
       "      <th>entities</th>\n",
       "      <th>entities_list</th>\n",
       "      <th>direct</th>\n",
       "    </tr>\n",
       "    <tr>\n",
       "      <th>filename</th>\n",
       "      <th></th>\n",
       "      <th></th>\n",
       "      <th></th>\n",
       "      <th></th>\n",
       "    </tr>\n",
       "  </thead>\n",
       "  <tbody>\n",
       "    <tr>\n",
       "      <th>1</th>\n",
       "      <td>Ad sales boost Time Warner profit Quarterly pr...</td>\n",
       "      <td>Securities Exchange Commission SEC AOL Time Wa...</td>\n",
       "      <td>[Securities Exchange Commission, SEC, AOL Time...</td>\n",
       "      <td>[Europe, German]</td>\n",
       "    </tr>\n",
       "    <tr>\n",
       "      <th>2</th>\n",
       "      <td>Dollar gains Greenspan speech dollar hit highe...</td>\n",
       "      <td>Friday Federal Reserve Bank America China Fede...</td>\n",
       "      <td>[Friday Federal Reserve, Bank America, China, ...</td>\n",
       "      <td>[China, America, Europe, European, Chinese]</td>\n",
       "    </tr>\n",
       "    <tr>\n",
       "      <th>3</th>\n",
       "      <td>Yukos unit buyer faces loan claim owners embat...</td>\n",
       "      <td>Legal Russian State Russia Yukos Menatep Group...</td>\n",
       "      <td>[Legal, Russian, State, Russia, Yukos, Menatep...</td>\n",
       "      <td>[Russia, Russian]</td>\n",
       "    </tr>\n",
       "    <tr>\n",
       "      <th>4</th>\n",
       "      <td>High fuel prices hit BA profits British Airway...</td>\n",
       "      <td>Airbus Club World United States BA BA British ...</td>\n",
       "      <td>[Airbus, Club World, BA, Dresdner Kleinwort Wa...</td>\n",
       "      <td>[United States, British]</td>\n",
       "    </tr>\n",
       "    <tr>\n",
       "      <th>5</th>\n",
       "      <td>Pernod takeover talk lifts Domecq Shares UK dr...</td>\n",
       "      <td>Scotland Allied Chivas Regal Scotch Paris Fren...</td>\n",
       "      <td>[Scotland, Allied, Chivas Regal Scotch, Paris,...</td>\n",
       "      <td>[France, UK, Scotland, France]</td>\n",
       "    </tr>\n",
       "  </tbody>\n",
       "</table>\n",
       "</div>"
      ],
      "text/plain": [
       "                                                    article  \\\n",
       "filename                                                      \n",
       "1         Ad sales boost Time Warner profit Quarterly pr...   \n",
       "2         Dollar gains Greenspan speech dollar hit highe...   \n",
       "3         Yukos unit buyer faces loan claim owners embat...   \n",
       "4         High fuel prices hit BA profits British Airway...   \n",
       "5         Pernod takeover talk lifts Domecq Shares UK dr...   \n",
       "\n",
       "                                                   entities  \\\n",
       "filename                                                      \n",
       "1         Securities Exchange Commission SEC AOL Time Wa...   \n",
       "2         Friday Federal Reserve Bank America China Fede...   \n",
       "3         Legal Russian State Russia Yukos Menatep Group...   \n",
       "4         Airbus Club World United States BA BA British ...   \n",
       "5         Scotland Allied Chivas Regal Scotch Paris Fren...   \n",
       "\n",
       "                                              entities_list  \\\n",
       "filename                                                      \n",
       "1         [Securities Exchange Commission, SEC, AOL Time...   \n",
       "2         [Friday Federal Reserve, Bank America, China, ...   \n",
       "3         [Legal, Russian, State, Russia, Yukos, Menatep...   \n",
       "4         [Airbus, Club World, BA, Dresdner Kleinwort Wa...   \n",
       "5         [Scotland, Allied, Chivas Regal Scotch, Paris,...   \n",
       "\n",
       "                                               direct  \n",
       "filename                                               \n",
       "1                                    [Europe, German]  \n",
       "2         [China, America, Europe, European, Chinese]  \n",
       "3                                   [Russia, Russian]  \n",
       "4                            [United States, British]  \n",
       "5                      [France, UK, Scotland, France]  "
      ]
     },
     "execution_count": 156,
     "metadata": {},
     "output_type": "execute_result"
    }
   ],
   "source": [
    "df.head()"
   ]
  },
  {
   "cell_type": "code",
   "execution_count": 158,
   "metadata": {},
   "outputs": [
    {
     "data": {
      "text/plain": [
       "['England', 'Belgium']"
      ]
     },
     "execution_count": 158,
     "metadata": {},
     "output_type": "execute_result"
    }
   ],
   "source": [
    "getting_relavant_wikipedia_pages_and_country(df[\"entities_list\"].loc[4])"
   ]
  },
  {
   "cell_type": "code",
   "execution_count": 43,
   "metadata": {},
   "outputs": [],
   "source": [
    "df[\"indirect\"]=df[\"entities_list\"].apply(lambda x : getting_relavant_wikipedia_pages_and_country(x))"
   ]
  },
  {
   "cell_type": "markdown",
   "metadata": {},
   "source": [
    "### Defining a total column for directly and indirectly implied countries"
   ]
  },
  {
   "cell_type": "code",
   "execution_count": 45,
   "metadata": {},
   "outputs": [],
   "source": [
    "df[\"total\"]=df.apply(lambda x : list(set(x[\"direct\"]+x[\"indirect\"])),axis=1)"
   ]
  },
  {
   "cell_type": "code",
   "execution_count": 46,
   "metadata": {},
   "outputs": [
    {
     "data": {
      "text/html": [
       "<div>\n",
       "<style scoped>\n",
       "    .dataframe tbody tr th:only-of-type {\n",
       "        vertical-align: middle;\n",
       "    }\n",
       "\n",
       "    .dataframe tbody tr th {\n",
       "        vertical-align: top;\n",
       "    }\n",
       "\n",
       "    .dataframe thead th {\n",
       "        text-align: right;\n",
       "    }\n",
       "</style>\n",
       "<table border=\"1\" class=\"dataframe\">\n",
       "  <thead>\n",
       "    <tr style=\"text-align: right;\">\n",
       "      <th></th>\n",
       "      <th>article</th>\n",
       "      <th>entities</th>\n",
       "      <th>entities_set</th>\n",
       "      <th>direct</th>\n",
       "      <th>indirect</th>\n",
       "      <th>total</th>\n",
       "    </tr>\n",
       "    <tr>\n",
       "      <th>filename</th>\n",
       "      <th></th>\n",
       "      <th></th>\n",
       "      <th></th>\n",
       "      <th></th>\n",
       "      <th></th>\n",
       "      <th></th>\n",
       "    </tr>\n",
       "  </thead>\n",
       "  <tbody>\n",
       "    <tr>\n",
       "      <th>1</th>\n",
       "      <td>Ad sales boost Time Warner profit Quarterly pr...</td>\n",
       "      <td>SEC AOL Europe AOL Time Warner Google Time War...</td>\n",
       "      <td>[SEC, AOL Europe, AOL Time Warner, Google, Tim...</td>\n",
       "      <td>[US, Europe, German]</td>\n",
       "      <td>[Germany]</td>\n",
       "      <td>[Europe, German, US, Germany]</td>\n",
       "    </tr>\n",
       "    <tr>\n",
       "      <th>2</th>\n",
       "      <td>Dollar gains Greenspan speech dollar hit highe...</td>\n",
       "      <td>White House Friday Federal Reserve Bank Americ...</td>\n",
       "      <td>[White House, Friday Federal Reserve, Bank Ame...</td>\n",
       "      <td>[China, US, America, Europe, European, Chinese]</td>\n",
       "      <td>[England]</td>\n",
       "      <td>[America, China, England, Europe, Chinese, Eur...</td>\n",
       "    </tr>\n",
       "    <tr>\n",
       "      <th>3</th>\n",
       "      <td>Yukos unit buyer faces loan claim owners embat...</td>\n",
       "      <td>Legal Russian State Russia Yukos Reuters Yugan...</td>\n",
       "      <td>[Legal, Russian, State, Russia, Yukos, Reuters...</td>\n",
       "      <td>[Russia, US, Russian]</td>\n",
       "      <td>[Russia]</td>\n",
       "      <td>[US, Russian, Russia]</td>\n",
       "    </tr>\n",
       "    <tr>\n",
       "      <th>4</th>\n",
       "      <td>High fuel prices hit BA profits British Airway...</td>\n",
       "      <td>Airbus Club World United States BA BA British ...</td>\n",
       "      <td>[Airbus, Club World, United States BA, BA, Bri...</td>\n",
       "      <td>[United States, British]</td>\n",
       "      <td>[England, Belgium]</td>\n",
       "      <td>[United States, Belgium, British, England]</td>\n",
       "    </tr>\n",
       "    <tr>\n",
       "      <th>5</th>\n",
       "      <td>Pernod takeover talk lifts Domecq Shares UK dr...</td>\n",
       "      <td>Scotland Allied Chivas Regal Scotch Paris Fren...</td>\n",
       "      <td>[Scotland, Allied, Chivas Regal Scotch, Paris,...</td>\n",
       "      <td>[France, UK, US, Scotland, France]</td>\n",
       "      <td>[England, Scotland]</td>\n",
       "      <td>[Scotland, France, England, UK, US]</td>\n",
       "    </tr>\n",
       "  </tbody>\n",
       "</table>\n",
       "</div>"
      ],
      "text/plain": [
       "                                                    article  \\\n",
       "filename                                                      \n",
       "1         Ad sales boost Time Warner profit Quarterly pr...   \n",
       "2         Dollar gains Greenspan speech dollar hit highe...   \n",
       "3         Yukos unit buyer faces loan claim owners embat...   \n",
       "4         High fuel prices hit BA profits British Airway...   \n",
       "5         Pernod takeover talk lifts Domecq Shares UK dr...   \n",
       "\n",
       "                                                   entities  \\\n",
       "filename                                                      \n",
       "1         SEC AOL Europe AOL Time Warner Google Time War...   \n",
       "2         White House Friday Federal Reserve Bank Americ...   \n",
       "3         Legal Russian State Russia Yukos Reuters Yugan...   \n",
       "4         Airbus Club World United States BA BA British ...   \n",
       "5         Scotland Allied Chivas Regal Scotch Paris Fren...   \n",
       "\n",
       "                                               entities_set  \\\n",
       "filename                                                      \n",
       "1         [SEC, AOL Europe, AOL Time Warner, Google, Tim...   \n",
       "2         [White House, Friday Federal Reserve, Bank Ame...   \n",
       "3         [Legal, Russian, State, Russia, Yukos, Reuters...   \n",
       "4         [Airbus, Club World, United States BA, BA, Bri...   \n",
       "5         [Scotland, Allied, Chivas Regal Scotch, Paris,...   \n",
       "\n",
       "                                                   direct  \\\n",
       "filename                                                    \n",
       "1                                    [US, Europe, German]   \n",
       "2         [China, US, America, Europe, European, Chinese]   \n",
       "3                                   [Russia, US, Russian]   \n",
       "4                                [United States, British]   \n",
       "5                      [France, UK, US, Scotland, France]   \n",
       "\n",
       "                     indirect  \\\n",
       "filename                        \n",
       "1                   [Germany]   \n",
       "2                   [England]   \n",
       "3                    [Russia]   \n",
       "4          [England, Belgium]   \n",
       "5         [England, Scotland]   \n",
       "\n",
       "                                                      total  \n",
       "filename                                                     \n",
       "1                             [Europe, German, US, Germany]  \n",
       "2         [America, China, England, Europe, Chinese, Eur...  \n",
       "3                                     [US, Russian, Russia]  \n",
       "4                [United States, Belgium, British, England]  \n",
       "5                       [Scotland, France, England, UK, US]  "
      ]
     },
     "execution_count": 46,
     "metadata": {},
     "output_type": "execute_result"
    }
   ],
   "source": [
    "df.head()"
   ]
  },
  {
   "cell_type": "code",
   "execution_count": 47,
   "metadata": {},
   "outputs": [],
   "source": [
    "df.to_csv('business1.csv', index=False)"
   ]
  },
  {
   "cell_type": "code",
   "execution_count": 48,
   "metadata": {},
   "outputs": [],
   "source": [
    "df1=df[[\"article\",\"total\"]]"
   ]
  },
  {
   "cell_type": "code",
   "execution_count": 49,
   "metadata": {},
   "outputs": [
    {
     "data": {
      "text/html": [
       "<div>\n",
       "<style scoped>\n",
       "    .dataframe tbody tr th:only-of-type {\n",
       "        vertical-align: middle;\n",
       "    }\n",
       "\n",
       "    .dataframe tbody tr th {\n",
       "        vertical-align: top;\n",
       "    }\n",
       "\n",
       "    .dataframe thead th {\n",
       "        text-align: right;\n",
       "    }\n",
       "</style>\n",
       "<table border=\"1\" class=\"dataframe\">\n",
       "  <thead>\n",
       "    <tr style=\"text-align: right;\">\n",
       "      <th></th>\n",
       "      <th>article</th>\n",
       "      <th>total</th>\n",
       "    </tr>\n",
       "    <tr>\n",
       "      <th>filename</th>\n",
       "      <th></th>\n",
       "      <th></th>\n",
       "    </tr>\n",
       "  </thead>\n",
       "  <tbody>\n",
       "    <tr>\n",
       "      <th>1</th>\n",
       "      <td>Ad sales boost Time Warner profit Quarterly pr...</td>\n",
       "      <td>[Europe, German, US, Germany]</td>\n",
       "    </tr>\n",
       "    <tr>\n",
       "      <th>2</th>\n",
       "      <td>Dollar gains Greenspan speech dollar hit highe...</td>\n",
       "      <td>[America, China, England, Europe, Chinese, Eur...</td>\n",
       "    </tr>\n",
       "    <tr>\n",
       "      <th>3</th>\n",
       "      <td>Yukos unit buyer faces loan claim owners embat...</td>\n",
       "      <td>[US, Russian, Russia]</td>\n",
       "    </tr>\n",
       "    <tr>\n",
       "      <th>4</th>\n",
       "      <td>High fuel prices hit BA profits British Airway...</td>\n",
       "      <td>[United States, Belgium, British, England]</td>\n",
       "    </tr>\n",
       "    <tr>\n",
       "      <th>5</th>\n",
       "      <td>Pernod takeover talk lifts Domecq Shares UK dr...</td>\n",
       "      <td>[Scotland, France, England, UK, US]</td>\n",
       "    </tr>\n",
       "  </tbody>\n",
       "</table>\n",
       "</div>"
      ],
      "text/plain": [
       "                                                    article  \\\n",
       "filename                                                      \n",
       "1         Ad sales boost Time Warner profit Quarterly pr...   \n",
       "2         Dollar gains Greenspan speech dollar hit highe...   \n",
       "3         Yukos unit buyer faces loan claim owners embat...   \n",
       "4         High fuel prices hit BA profits British Airway...   \n",
       "5         Pernod takeover talk lifts Domecq Shares UK dr...   \n",
       "\n",
       "                                                      total  \n",
       "filename                                                     \n",
       "1                             [Europe, German, US, Germany]  \n",
       "2         [America, China, England, Europe, Chinese, Eur...  \n",
       "3                                     [US, Russian, Russia]  \n",
       "4                [United States, Belgium, British, England]  \n",
       "5                       [Scotland, France, England, UK, US]  "
      ]
     },
     "execution_count": 49,
     "metadata": {},
     "output_type": "execute_result"
    }
   ],
   "source": [
    "df1.head()"
   ]
  },
  {
   "cell_type": "markdown",
   "metadata": {},
   "source": [
    "### Defining a function for dealing with similar words like Chinese and Chine, both refer to China"
   ]
  },
  {
   "cell_type": "code",
   "execution_count": 50,
   "metadata": {},
   "outputs": [
    {
     "data": {
      "text/plain": [
       "['America', 'China', 'England', 'Europe', 'Chinese', 'European', 'US']"
      ]
     },
     "execution_count": 50,
     "metadata": {},
     "output_type": "execute_result"
    }
   ],
   "source": [
    "df1.total[2]"
   ]
  },
  {
   "cell_type": "code",
   "execution_count": 75,
   "metadata": {},
   "outputs": [],
   "source": [
    "def countries_Nationalities(x):\n",
    "    final_list=[]\n",
    "    for i in x:\n",
    "              \n",
    "        if i in list(Nationality_dict.keys()):\n",
    "            final_list.append(Nationality_dict[i])\n",
    "        elif i in G20:\n",
    "            final_list.append(i)  \n",
    "        elif i in Europe:\n",
    "            final_list.append(\"Europe\")\n",
    "        elif i in UK:\n",
    "            final_list.append(\"UK\")\n",
    "    return list(set(final_list))"
   ]
  },
  {
   "cell_type": "code",
   "execution_count": 76,
   "metadata": {},
   "outputs": [
    {
     "data": {
      "text/plain": [
       "['Europe', 'US', 'China', 'UK']"
      ]
     },
     "execution_count": 76,
     "metadata": {},
     "output_type": "execute_result"
    }
   ],
   "source": [
    "countries_Nationalities(df1.total[2])"
   ]
  },
  {
   "cell_type": "code",
   "execution_count": 77,
   "metadata": {},
   "outputs": [],
   "source": [
    "df1[\"final_total\"]=df1[\"total\"].apply(lambda x : countries_Nationalities(x))"
   ]
  },
  {
   "cell_type": "markdown",
   "metadata": {},
   "source": [
    "### 2 countries were referred in 104 articles, 1 country was referred in 99 articles and so on"
   ]
  },
  {
   "cell_type": "code",
   "execution_count": 78,
   "metadata": {},
   "outputs": [
    {
     "data": {
      "text/plain": [
       "1    151\n",
       "2    135\n",
       "3     99\n",
       "4     44\n",
       "5     33\n",
       "0     27\n",
       "7     10\n",
       "6      7\n",
       "8      3\n",
       "9      1\n",
       "Name: final_total, dtype: int64"
      ]
     },
     "execution_count": 78,
     "metadata": {},
     "output_type": "execute_result"
    }
   ],
   "source": [
    "df1[\"final_total\"].apply(lambda x : len(x)).value_counts()"
   ]
  },
  {
   "cell_type": "code",
   "execution_count": 79,
   "metadata": {},
   "outputs": [
    {
     "data": {
      "text/html": [
       "<div>\n",
       "<style scoped>\n",
       "    .dataframe tbody tr th:only-of-type {\n",
       "        vertical-align: middle;\n",
       "    }\n",
       "\n",
       "    .dataframe tbody tr th {\n",
       "        vertical-align: top;\n",
       "    }\n",
       "\n",
       "    .dataframe thead th {\n",
       "        text-align: right;\n",
       "    }\n",
       "</style>\n",
       "<table border=\"1\" class=\"dataframe\">\n",
       "  <thead>\n",
       "    <tr style=\"text-align: right;\">\n",
       "      <th></th>\n",
       "      <th>article</th>\n",
       "      <th>total</th>\n",
       "      <th>final_total</th>\n",
       "    </tr>\n",
       "    <tr>\n",
       "      <th>filename</th>\n",
       "      <th></th>\n",
       "      <th></th>\n",
       "      <th></th>\n",
       "    </tr>\n",
       "  </thead>\n",
       "  <tbody>\n",
       "    <tr>\n",
       "      <th>1</th>\n",
       "      <td>Ad sales boost Time Warner profit Quarterly pr...</td>\n",
       "      <td>[Europe, German, US, Germany]</td>\n",
       "      <td>[Europe, US, Germany]</td>\n",
       "    </tr>\n",
       "    <tr>\n",
       "      <th>2</th>\n",
       "      <td>Dollar gains Greenspan speech dollar hit highe...</td>\n",
       "      <td>[America, China, England, Europe, Chinese, Eur...</td>\n",
       "      <td>[Europe, US, China, UK]</td>\n",
       "    </tr>\n",
       "    <tr>\n",
       "      <th>3</th>\n",
       "      <td>Yukos unit buyer faces loan claim owners embat...</td>\n",
       "      <td>[US, Russian, Russia]</td>\n",
       "      <td>[US, Russia]</td>\n",
       "    </tr>\n",
       "    <tr>\n",
       "      <th>4</th>\n",
       "      <td>High fuel prices hit BA profits British Airway...</td>\n",
       "      <td>[United States, Belgium, British, England]</td>\n",
       "      <td>[Europe, US, UK]</td>\n",
       "    </tr>\n",
       "    <tr>\n",
       "      <th>5</th>\n",
       "      <td>Pernod takeover talk lifts Domecq Shares UK dr...</td>\n",
       "      <td>[Scotland, France, England, UK, US]</td>\n",
       "      <td>[US, France, UK]</td>\n",
       "    </tr>\n",
       "  </tbody>\n",
       "</table>\n",
       "</div>"
      ],
      "text/plain": [
       "                                                    article  \\\n",
       "filename                                                      \n",
       "1         Ad sales boost Time Warner profit Quarterly pr...   \n",
       "2         Dollar gains Greenspan speech dollar hit highe...   \n",
       "3         Yukos unit buyer faces loan claim owners embat...   \n",
       "4         High fuel prices hit BA profits British Airway...   \n",
       "5         Pernod takeover talk lifts Domecq Shares UK dr...   \n",
       "\n",
       "                                                      total  \\\n",
       "filename                                                      \n",
       "1                             [Europe, German, US, Germany]   \n",
       "2         [America, China, England, Europe, Chinese, Eur...   \n",
       "3                                     [US, Russian, Russia]   \n",
       "4                [United States, Belgium, British, England]   \n",
       "5                       [Scotland, France, England, UK, US]   \n",
       "\n",
       "                      final_total  \n",
       "filename                           \n",
       "1           [Europe, US, Germany]  \n",
       "2         [Europe, US, China, UK]  \n",
       "3                    [US, Russia]  \n",
       "4                [Europe, US, UK]  \n",
       "5                [US, France, UK]  "
      ]
     },
     "execution_count": 79,
     "metadata": {},
     "output_type": "execute_result"
    }
   ],
   "source": [
    "df1.head()"
   ]
  },
  {
   "cell_type": "code",
   "execution_count": 80,
   "metadata": {},
   "outputs": [],
   "source": [
    "df2=pd.get_dummies(df1.final_total.apply(pd.Series).stack()).sum(level=0)"
   ]
  },
  {
   "cell_type": "code",
   "execution_count": 81,
   "metadata": {},
   "outputs": [
    {
     "data": {
      "text/html": [
       "<div>\n",
       "<style scoped>\n",
       "    .dataframe tbody tr th:only-of-type {\n",
       "        vertical-align: middle;\n",
       "    }\n",
       "\n",
       "    .dataframe tbody tr th {\n",
       "        vertical-align: top;\n",
       "    }\n",
       "\n",
       "    .dataframe thead th {\n",
       "        text-align: right;\n",
       "    }\n",
       "</style>\n",
       "<table border=\"1\" class=\"dataframe\">\n",
       "  <thead>\n",
       "    <tr style=\"text-align: right;\">\n",
       "      <th></th>\n",
       "      <th>Argentina</th>\n",
       "      <th>Australia</th>\n",
       "      <th>Brazil</th>\n",
       "      <th>Canada</th>\n",
       "      <th>China</th>\n",
       "      <th>Europe</th>\n",
       "      <th>France</th>\n",
       "      <th>Germany</th>\n",
       "      <th>India</th>\n",
       "      <th>Indonesia</th>\n",
       "      <th>Italy</th>\n",
       "      <th>Japan</th>\n",
       "      <th>Korea</th>\n",
       "      <th>Mexico</th>\n",
       "      <th>Russia</th>\n",
       "      <th>Saudi Arabia</th>\n",
       "      <th>South Africa</th>\n",
       "      <th>Turkey</th>\n",
       "      <th>UK</th>\n",
       "      <th>US</th>\n",
       "    </tr>\n",
       "    <tr>\n",
       "      <th>filename</th>\n",
       "      <th></th>\n",
       "      <th></th>\n",
       "      <th></th>\n",
       "      <th></th>\n",
       "      <th></th>\n",
       "      <th></th>\n",
       "      <th></th>\n",
       "      <th></th>\n",
       "      <th></th>\n",
       "      <th></th>\n",
       "      <th></th>\n",
       "      <th></th>\n",
       "      <th></th>\n",
       "      <th></th>\n",
       "      <th></th>\n",
       "      <th></th>\n",
       "      <th></th>\n",
       "      <th></th>\n",
       "      <th></th>\n",
       "      <th></th>\n",
       "    </tr>\n",
       "  </thead>\n",
       "  <tbody>\n",
       "    <tr>\n",
       "      <th>1</th>\n",
       "      <td>0</td>\n",
       "      <td>0</td>\n",
       "      <td>0</td>\n",
       "      <td>0</td>\n",
       "      <td>0</td>\n",
       "      <td>1</td>\n",
       "      <td>0</td>\n",
       "      <td>1</td>\n",
       "      <td>0</td>\n",
       "      <td>0</td>\n",
       "      <td>0</td>\n",
       "      <td>0</td>\n",
       "      <td>0</td>\n",
       "      <td>0</td>\n",
       "      <td>0</td>\n",
       "      <td>0</td>\n",
       "      <td>0</td>\n",
       "      <td>0</td>\n",
       "      <td>0</td>\n",
       "      <td>1</td>\n",
       "    </tr>\n",
       "    <tr>\n",
       "      <th>2</th>\n",
       "      <td>0</td>\n",
       "      <td>0</td>\n",
       "      <td>0</td>\n",
       "      <td>0</td>\n",
       "      <td>1</td>\n",
       "      <td>1</td>\n",
       "      <td>0</td>\n",
       "      <td>0</td>\n",
       "      <td>0</td>\n",
       "      <td>0</td>\n",
       "      <td>0</td>\n",
       "      <td>0</td>\n",
       "      <td>0</td>\n",
       "      <td>0</td>\n",
       "      <td>0</td>\n",
       "      <td>0</td>\n",
       "      <td>0</td>\n",
       "      <td>0</td>\n",
       "      <td>1</td>\n",
       "      <td>1</td>\n",
       "    </tr>\n",
       "    <tr>\n",
       "      <th>3</th>\n",
       "      <td>0</td>\n",
       "      <td>0</td>\n",
       "      <td>0</td>\n",
       "      <td>0</td>\n",
       "      <td>0</td>\n",
       "      <td>0</td>\n",
       "      <td>0</td>\n",
       "      <td>0</td>\n",
       "      <td>0</td>\n",
       "      <td>0</td>\n",
       "      <td>0</td>\n",
       "      <td>0</td>\n",
       "      <td>0</td>\n",
       "      <td>0</td>\n",
       "      <td>1</td>\n",
       "      <td>0</td>\n",
       "      <td>0</td>\n",
       "      <td>0</td>\n",
       "      <td>0</td>\n",
       "      <td>1</td>\n",
       "    </tr>\n",
       "    <tr>\n",
       "      <th>4</th>\n",
       "      <td>0</td>\n",
       "      <td>0</td>\n",
       "      <td>0</td>\n",
       "      <td>0</td>\n",
       "      <td>0</td>\n",
       "      <td>1</td>\n",
       "      <td>0</td>\n",
       "      <td>0</td>\n",
       "      <td>0</td>\n",
       "      <td>0</td>\n",
       "      <td>0</td>\n",
       "      <td>0</td>\n",
       "      <td>0</td>\n",
       "      <td>0</td>\n",
       "      <td>0</td>\n",
       "      <td>0</td>\n",
       "      <td>0</td>\n",
       "      <td>0</td>\n",
       "      <td>1</td>\n",
       "      <td>1</td>\n",
       "    </tr>\n",
       "    <tr>\n",
       "      <th>5</th>\n",
       "      <td>0</td>\n",
       "      <td>0</td>\n",
       "      <td>0</td>\n",
       "      <td>0</td>\n",
       "      <td>0</td>\n",
       "      <td>0</td>\n",
       "      <td>1</td>\n",
       "      <td>0</td>\n",
       "      <td>0</td>\n",
       "      <td>0</td>\n",
       "      <td>0</td>\n",
       "      <td>0</td>\n",
       "      <td>0</td>\n",
       "      <td>0</td>\n",
       "      <td>0</td>\n",
       "      <td>0</td>\n",
       "      <td>0</td>\n",
       "      <td>0</td>\n",
       "      <td>1</td>\n",
       "      <td>1</td>\n",
       "    </tr>\n",
       "  </tbody>\n",
       "</table>\n",
       "</div>"
      ],
      "text/plain": [
       "          Argentina  Australia  Brazil  Canada  China  Europe  France  \\\n",
       "filename                                                                \n",
       "1                 0          0       0       0      0       1       0   \n",
       "2                 0          0       0       0      1       1       0   \n",
       "3                 0          0       0       0      0       0       0   \n",
       "4                 0          0       0       0      0       1       0   \n",
       "5                 0          0       0       0      0       0       1   \n",
       "\n",
       "          Germany  India  Indonesia  Italy  Japan  Korea  Mexico  Russia  \\\n",
       "filename                                                                   \n",
       "1               1      0          0      0      0      0       0       0   \n",
       "2               0      0          0      0      0      0       0       0   \n",
       "3               0      0          0      0      0      0       0       1   \n",
       "4               0      0          0      0      0      0       0       0   \n",
       "5               0      0          0      0      0      0       0       0   \n",
       "\n",
       "          Saudi Arabia  South Africa  Turkey  UK  US  \n",
       "filename                                              \n",
       "1                    0             0       0   0   1  \n",
       "2                    0             0       0   1   1  \n",
       "3                    0             0       0   0   1  \n",
       "4                    0             0       0   1   1  \n",
       "5                    0             0       0   1   1  "
      ]
     },
     "execution_count": 81,
     "metadata": {},
     "output_type": "execute_result"
    }
   ],
   "source": [
    "df2.head()"
   ]
  },
  {
   "cell_type": "code",
   "execution_count": 82,
   "metadata": {},
   "outputs": [
    {
     "data": {
      "text/plain": [
       "(483, 20)"
      ]
     },
     "execution_count": 82,
     "metadata": {},
     "output_type": "execute_result"
    }
   ],
   "source": [
    "df2.shape"
   ]
  },
  {
   "cell_type": "markdown",
   "metadata": {},
   "source": [
    "### No of times each country was implied in total"
   ]
  },
  {
   "cell_type": "code",
   "execution_count": 83,
   "metadata": {},
   "outputs": [
    {
     "data": {
      "text/plain": [
       "Argentina         8\n",
       "Australia        27\n",
       "Brazil           14\n",
       "Canada           16\n",
       "China            71\n",
       "Europe          211\n",
       "France           41\n",
       "Germany          87\n",
       "India            67\n",
       "Indonesia        16\n",
       "Italy            25\n",
       "Japan            61\n",
       "Korea            15\n",
       "Mexico            6\n",
       "Russia           49\n",
       "Saudi Arabia     10\n",
       "South Africa     16\n",
       "Turkey           11\n",
       "UK              170\n",
       "US              283\n",
       "dtype: int64"
      ]
     },
     "execution_count": 83,
     "metadata": {},
     "output_type": "execute_result"
    }
   ],
   "source": [
    "df2.sum(axis = 0, skipna = True)"
   ]
  },
  {
   "cell_type": "markdown",
   "metadata": {},
   "source": [
    "### First article has references to 3 countries, 2nd article to 4 countries and so on"
   ]
  },
  {
   "cell_type": "code",
   "execution_count": 89,
   "metadata": {},
   "outputs": [
    {
     "data": {
      "text/plain": [
       "filename\n",
       "1    3\n",
       "2    4\n",
       "3    2\n",
       "4    3\n",
       "5    3\n",
       "dtype: int64"
      ]
     },
     "execution_count": 89,
     "metadata": {},
     "output_type": "execute_result"
    }
   ],
   "source": [
    "df2.sum(axis=1).head()"
   ]
  },
  {
   "cell_type": "markdown",
   "metadata": {},
   "source": [
    "### Topic Extraction"
   ]
  },
  {
   "cell_type": "code",
   "execution_count": 59,
   "metadata": {},
   "outputs": [],
   "source": [
    "df_topic=df[\"article\"]"
   ]
  },
  {
   "cell_type": "code",
   "execution_count": 60,
   "metadata": {},
   "outputs": [
    {
     "data": {
      "text/plain": [
       "filename\n",
       "1      Ad sales boost Time Warner profit Quarterly pr...\n",
       "2      Dollar gains Greenspan speech dollar hit highe...\n",
       "3      Yukos unit buyer faces loan claim owners embat...\n",
       "4      High fuel prices hit BA profits British Airway...\n",
       "5      Pernod takeover talk lifts Domecq Shares UK dr...\n",
       "6      Japan narrowly escapes recession Japan economy...\n",
       "7      Jobs growth slow US US created fewer jobs expe...\n",
       "8      India calls fair trade rules India attends mee...\n",
       "9      Ethiopia crop production Ethiopia produced mil...\n",
       "10     Court rejects tobacco case US government claim...\n",
       "11     Ask Jeeves tips online ad revival Ask Jeeves l...\n",
       "12     Indonesians face fuel price rise Indonesia gov...\n",
       "13     Peugeot deal boosts Mitsubishi Struggling Japa...\n",
       "14     Telegraph newspapers axe jobs Daily Sunday Tel...\n",
       "15     Air passengers win new EU rights Air passenger...\n",
       "16     China keeps tight rein credit China efforts st...\n",
       "17     Parmalat boasts doubled profits Parmalat Itali...\n",
       "18     India rupee hits high India rupee hit high Sta...\n",
       "19     India widens access telecoms India raised limi...\n",
       "20     Call centre users lose patience Customers tryi...\n",
       "21     Rank set sell film unit Leisure group Rank unv...\n",
       "22     Sluggish economy hits German jobs number peopl...\n",
       "23     Mixed signals French economy French economy pi...\n",
       "24     US trade gap hits record gap US exports import...\n",
       "25     Yukos loses US bankruptcy battle judge dismiss...\n",
       "26     Safety alert GM recalls cars world biggest car...\n",
       "27     Steel firm cut jobs Mittal Steel world largest...\n",
       "28     Strong demand triggers oil rally Crude oil pri...\n",
       "29     UK firm faces Venezuelan land row Venezuelan a...\n",
       "30     Soaring oil hits world economy soaring cost oi...\n",
       "                             ...                        \n",
       "481    Christmas sales worst UK retail sales fell Dec...\n",
       "482    Businesses fail plan HIV Companies fail draw p...\n",
       "483    Ailing EuroDisney vows turnaround EuroDisney E...\n",
       "484    UK young Euro earnings league British children...\n",
       "485    Swiss cement firm buying spree Swiss cement fi...\n",
       "486    India Reliance family feud heats ongoing publi...\n",
       "487    World leaders gather face uncertainty More bus...\n",
       "488    US budget deficit reach US budget deficit set ...\n",
       "489    Criminal probe Citigroup deals Traders US bank...\n",
       "490    Brazil jobless rate hits new low Brazil unempl...\n",
       "491    Indonesia declines debt freeze Indonesia longe...\n",
       "492    Parmalat bank barred suing Bank America banned...\n",
       "493    China continues rapid growth China economy exp...\n",
       "494    SEC rethink post Enron rules US stock market w...\n",
       "495    BBC poll indicates economic gloom Citizens maj...\n",
       "496    Europe asks Asia euro help European leaders As...\n",
       "497    FBI agent colludes analyst FBI agent internet ...\n",
       "498    Millions missing China bank Two senior officia...\n",
       "499    China Aviation seeks rescue deal Scandal hit j...\n",
       "500    Low cost airlines hit Eurotunnel Channel Tunne...\n",
       "501    Water firm Suez Argentina row conflict Argenti...\n",
       "502    Algeria hit gas riots Algeria suffered weekend...\n",
       "503    India Maruti sees profits jump India biggest c...\n",
       "504    Aids climate Davos agenda Climate change fight...\n",
       "505    China trader Japan China overtook US Japan big...\n",
       "506    Trial begins Spain banker trial Emilio Botin c...\n",
       "507    UK economy ends spurt UK economy grew estimate...\n",
       "508    HealthSouth ex boss goes trial head US medical...\n",
       "509    Euro firms miss optimism More large companies ...\n",
       "510    Lacroix label bought US firm Luxury goods grou...\n",
       "Name: article, Length: 510, dtype: object"
      ]
     },
     "execution_count": 60,
     "metadata": {},
     "output_type": "execute_result"
    }
   ],
   "source": [
    "df_topic"
   ]
  },
  {
   "cell_type": "code",
   "execution_count": 94,
   "metadata": {},
   "outputs": [],
   "source": [
    "from nltk.tokenize import word_tokenize, sent_tokenize\n",
    "from functools import reduce\n",
    "\n",
    "def tokenizer(text):\n",
    "    \n",
    "    tokens = [word_tokenize(sent) for sent in sent_tokenize(text)]\n",
    "    tokens = list(reduce(lambda x,y: x+y, tokens))\n",
    "\n",
    "    return tokens"
   ]
  },
  {
   "cell_type": "code",
   "execution_count": 95,
   "metadata": {},
   "outputs": [
    {
     "data": {
      "text/plain": [
       "'Yukos unit buyer faces loan claim owners embattled Russian oil giant Yukos ask buyer production unit pay loan State owned Rosneft bought Yugansk unit sale forced Russia settle tax claim Yukos Yukos owner Menatep Group says ask Rosneft repay loan Yugansk secured assets Rosneft faces similar repayment demand foreign banks Legal experts Rosneft purchase Yugansk include obligations pledged assets Rosneft pay real money creditors avoid seizure Yugansk assets Moscow based US lawyer Jamie Firestone connected case Menatep Group managing director Tim Osborne told Reuters news agency If default fight rule law exists international arbitration clauses credit Rosneft officials unavailable comment company intends action Menatep recover tax claims debts owed Yugansk Yukos filed bankruptcy protection US court attempt prevent forced sale main production arm sale went ahead December Yugansk sold little known shell company turn bought Rosneft Yukos claims downfall punishment political ambitions founder Mikhail Khodorkovsky vowed sue participant sale'"
      ]
     },
     "execution_count": 95,
     "metadata": {},
     "output_type": "execute_result"
    }
   ],
   "source": [
    "df.loc[3][0]"
   ]
  },
  {
   "cell_type": "code",
   "execution_count": 96,
   "metadata": {},
   "outputs": [
    {
     "data": {
      "text/plain": [
       "['Yukos',\n",
       " 'unit',\n",
       " 'buyer',\n",
       " 'faces',\n",
       " 'loan',\n",
       " 'claim',\n",
       " 'owners',\n",
       " 'embattled',\n",
       " 'Russian',\n",
       " 'oil',\n",
       " 'giant',\n",
       " 'Yukos',\n",
       " 'ask',\n",
       " 'buyer',\n",
       " 'production',\n",
       " 'unit',\n",
       " 'pay',\n",
       " 'loan',\n",
       " 'State',\n",
       " 'owned',\n",
       " 'Rosneft',\n",
       " 'bought',\n",
       " 'Yugansk',\n",
       " 'unit',\n",
       " 'sale',\n",
       " 'forced',\n",
       " 'Russia',\n",
       " 'settle',\n",
       " 'tax',\n",
       " 'claim',\n",
       " 'Yukos',\n",
       " 'Yukos',\n",
       " 'owner',\n",
       " 'Menatep',\n",
       " 'Group',\n",
       " 'says',\n",
       " 'ask',\n",
       " 'Rosneft',\n",
       " 'repay',\n",
       " 'loan',\n",
       " 'Yugansk',\n",
       " 'secured',\n",
       " 'assets',\n",
       " 'Rosneft',\n",
       " 'faces',\n",
       " 'similar',\n",
       " 'repayment',\n",
       " 'demand',\n",
       " 'foreign',\n",
       " 'banks',\n",
       " 'Legal',\n",
       " 'experts',\n",
       " 'Rosneft',\n",
       " 'purchase',\n",
       " 'Yugansk',\n",
       " 'include',\n",
       " 'obligations',\n",
       " 'pledged',\n",
       " 'assets',\n",
       " 'Rosneft',\n",
       " 'pay',\n",
       " 'real',\n",
       " 'money',\n",
       " 'creditors',\n",
       " 'avoid',\n",
       " 'seizure',\n",
       " 'Yugansk',\n",
       " 'assets',\n",
       " 'Moscow',\n",
       " 'based',\n",
       " 'US',\n",
       " 'lawyer',\n",
       " 'Jamie',\n",
       " 'Firestone',\n",
       " 'connected',\n",
       " 'case',\n",
       " 'Menatep',\n",
       " 'Group',\n",
       " 'managing',\n",
       " 'director',\n",
       " 'Tim',\n",
       " 'Osborne',\n",
       " 'told',\n",
       " 'Reuters',\n",
       " 'news',\n",
       " 'agency',\n",
       " 'If',\n",
       " 'default',\n",
       " 'fight',\n",
       " 'rule',\n",
       " 'law',\n",
       " 'exists',\n",
       " 'international',\n",
       " 'arbitration',\n",
       " 'clauses',\n",
       " 'credit',\n",
       " 'Rosneft',\n",
       " 'officials',\n",
       " 'unavailable',\n",
       " 'comment',\n",
       " 'company',\n",
       " 'intends',\n",
       " 'action',\n",
       " 'Menatep',\n",
       " 'recover',\n",
       " 'tax',\n",
       " 'claims',\n",
       " 'debts',\n",
       " 'owed',\n",
       " 'Yugansk',\n",
       " 'Yukos',\n",
       " 'filed',\n",
       " 'bankruptcy',\n",
       " 'protection',\n",
       " 'US',\n",
       " 'court',\n",
       " 'attempt',\n",
       " 'prevent',\n",
       " 'forced',\n",
       " 'sale',\n",
       " 'main',\n",
       " 'production',\n",
       " 'arm',\n",
       " 'sale',\n",
       " 'went',\n",
       " 'ahead',\n",
       " 'December',\n",
       " 'Yugansk',\n",
       " 'sold',\n",
       " 'little',\n",
       " 'known',\n",
       " 'shell',\n",
       " 'company',\n",
       " 'turn',\n",
       " 'bought',\n",
       " 'Rosneft',\n",
       " 'Yukos',\n",
       " 'claims',\n",
       " 'downfall',\n",
       " 'punishment',\n",
       " 'political',\n",
       " 'ambitions',\n",
       " 'founder',\n",
       " 'Mikhail',\n",
       " 'Khodorkovsky',\n",
       " 'vowed',\n",
       " 'sue',\n",
       " 'participant',\n",
       " 'sale']"
      ]
     },
     "execution_count": 96,
     "metadata": {},
     "output_type": "execute_result"
    }
   ],
   "source": [
    "tokenizer(df.loc[3][0])"
   ]
  },
  {
   "cell_type": "code",
   "execution_count": 63,
   "metadata": {},
   "outputs": [],
   "source": [
    "df[\"tokens\"]=df[\"article\"].apply(tokenizer)"
   ]
  },
  {
   "cell_type": "code",
   "execution_count": 64,
   "metadata": {},
   "outputs": [],
   "source": [
    "tokenized_words=reduce(lambda x, y: x + y, df[\"tokens\"])"
   ]
  },
  {
   "cell_type": "code",
   "execution_count": 65,
   "metadata": {
    "scrolled": true
   },
   "outputs": [
    {
     "data": {
      "text/plain": [
       "[('US', 804),\n",
       " ('market', 427),\n",
       " ('company', 410),\n",
       " ('growth', 363),\n",
       " ('firm', 362),\n",
       " ('economy', 350),\n",
       " ('government', 329),\n",
       " ('new', 326),\n",
       " ('sales', 292),\n",
       " ('economic', 278)]"
      ]
     },
     "execution_count": 65,
     "metadata": {},
     "output_type": "execute_result"
    }
   ],
   "source": [
    "from collections import Counter\n",
    "counter = Counter(tokenized_words)\n",
    "counter.most_common(10)"
   ]
  },
  {
   "cell_type": "code",
   "execution_count": 97,
   "metadata": {},
   "outputs": [
    {
     "name": "stdout",
     "output_type": "stream",
     "text": [
      "(510, 1605)\n"
     ]
    }
   ],
   "source": [
    "from sklearn.feature_extraction.text import TfidfVectorizer\n",
    "\n",
    "vectorizer = TfidfVectorizer(min_df=10, analyzer='word', ngram_range=(1, 2), stop_words='english')\n",
    "vz = vectorizer.fit_transform(df[\"article\"])\n",
    "\n",
    "print(vz.shape)"
   ]
  },
  {
   "cell_type": "code",
   "execution_count": 67,
   "metadata": {},
   "outputs": [],
   "source": [
    "import warnings\n",
    "warnings.filterwarnings(\"ignore\", category=DeprecationWarning)\n",
    "from sklearn.cluster import MiniBatchKMeans, KMeans\n",
    "from sklearn.metrics import silhouette_score\n",
    "\n",
    "from sklearn.pipeline import make_pipeline\n",
    "from sklearn.preprocessing import Normalizer"
   ]
  },
  {
   "cell_type": "markdown",
   "metadata": {},
   "source": [
    "### Dividing the articles into 10 Clusters"
   ]
  },
  {
   "cell_type": "code",
   "execution_count": 68,
   "metadata": {},
   "outputs": [],
   "source": [
    "num_clusters = 10\n",
    "kmeans_model = MiniBatchKMeans(n_clusters=num_clusters, init='k-means++', n_init=1, random_state=42,                       \n",
    "                         init_size=1000, batch_size=1000, verbose=False, max_iter=1000, )\n",
    "kmeans = kmeans_model.fit(vz)\n",
    "kmeans_clusters = kmeans.predict(vz)\n",
    "kmeans_distances = kmeans.transform(vz)"
   ]
  },
  {
   "cell_type": "code",
   "execution_count": 69,
   "metadata": {},
   "outputs": [
    {
     "name": "stdout",
     "output_type": "stream",
     "text": [
      "Cluster 2: Ad sales boost Time Warner profit Quarterly profits US media giant TimeWarner jumped months December earlier firm biggest investors Google benefited sales high speed internet connections higher advert sales TimeWarner fourth quarter sales rose Its profits buoyed gains offset profit dip Warner Bros users AOL Time Warner Friday owns search engine Google internet business AOL mixed fortunes lost subscribers fourth quarter profits lower preceding quarters However company AOL underlying profit exceptional items rose stronger internet advertising revenues hopes increase subscribers offering online service free TimeWarner internet customers try sign AOL existing customers high speed broadband TimeWarner restate results following probe US Securities Exchange Commission SEC close concluding Time Warner fourth quarter profits slightly better analysts expectations film division saw profits slump helped box office flops Alexander Catwoman sharp contrast earlier final film Lord Rings trilogy boosted results For TimeWarner posted profit performance revenues grew Our financial performance strong meeting exceeding objectives greatly enhancing flexibility chairman chief executive Richard Parsons For TimeWarner projecting operating earnings growth expects higher revenue wider profit margins TimeWarner restate accounts efforts resolve inquiry AOL US market regulators offered pay settle charges deal review SEC company unable estimate needed set aside legal reserves previously set intends adjust way accounts deal German music publisher Bertelsmann purchase stake AOL Europe reported advertising revenue book sale stake AOL Europe loss value stake(distance: 0.8855877704832826)\n",
      "---\n",
      "Cluster 6: Dollar gains Greenspan speech dollar hit highest level euro months Federal Reserve head US trade deficit set stabilise And Alan Greenspan highlighted US government willingness curb spending rising household savings factors help reduce late trading New York dollar reached euro Thursday Market concerns deficit hit greenback recent months On Friday Federal Reserve chairman Greenspan speech London ahead meeting finance ministers sent dollar higher earlier tumbled worse expected US jobs data think chairman taking sanguine view current account deficit taken time Robert Sinche head currency strategy Bank America New York He taking longer term view laying set conditions current account deficit improve Worries deficit concerns China remain China currency remains pegged dollar US currency sharp falls recent months Chinese export prices highly competitive calls shift Beijing policy fallen deaf ears despite recent comments major Chinese newspaper time ripe loosening peg meeting thought unlikely produce meaningful movement Chinese policy meantime US Federal Reserve decision February boost interest rates quarter point sixth months opened differential European rates half point window believe US assets looking attractive help prop dollar recent falls partly result big budget deficits US yawning current account gap need funded buying US bonds assets foreign firms governments White House announce budget Monday commentators believe deficit remain close half trillion dollars(distance: 0.8961678048417747)\n",
      "---\n",
      "Cluster 1: Yukos unit buyer faces loan claim owners embattled Russian oil giant Yukos ask buyer production unit pay loan State owned Rosneft bought Yugansk unit sale forced Russia settle tax claim Yukos Yukos owner Menatep Group says ask Rosneft repay loan Yugansk secured assets Rosneft faces similar repayment demand foreign banks Legal experts Rosneft purchase Yugansk include obligations pledged assets Rosneft pay real money creditors avoid seizure Yugansk assets Moscow based US lawyer Jamie Firestone connected case Menatep Group managing director Tim Osborne told Reuters news agency If default fight rule law exists international arbitration clauses credit Rosneft officials unavailable comment company intends action Menatep recover tax claims debts owed Yugansk Yukos filed bankruptcy protection US court attempt prevent forced sale main production arm sale went ahead December Yugansk sold little known shell company turn bought Rosneft Yukos claims downfall punishment political ambitions founder Mikhail Khodorkovsky vowed sue participant sale(distance: 0.7737541713372065)\n",
      "---\n",
      "Cluster 7: High fuel prices hit BA profits British Airways blamed high fuel prices drop profits Reporting results months December airline pre tax profit compared earlier Rod Eddington BA chief executive results respectable quarter fuel costs rose BA profits better market expectation expects rise revenues To help offset increased price aviation fuel BA introduced fuel surcharge passengers October increased way long haul flights short haul surcharge raised leg Yet aviation analyst Mike Powell Dresdner Kleinwort Wasserstein says BA estimated annual surcharge revenues way short additional fuel costs predicted extra Turnover quarter benefiting rise cargo revenue Looking ahead results March BA warned yields average revenues passenger expected decline continues lower prices face competition low cost carriers However sales better previously forecast For March total revenue outlook slightly better previous guidance improvement anticipated BA chairman Martin Broughton BA previously forecast rise revenue reported Friday passenger numbers rose January Aviation analyst Nick Van den Brul BNP Paribas described BA latest quarterly results pretty modest good revenue shows impact fuel surcharges positive cargo development operating margins cost impact fuel strong Since September attacks United States BA cut jobs major cost cutting drive Our focus remains reducing controllable costs debt whilst continuing invest products Eddington For example taken delivery Airbus aircraft month start improvements Club World flat beds BA shares closed pence pence(distance: 0.9240202157402763)\n",
      "---\n",
      "Cluster 3: Pernod takeover talk lifts Domecq Shares UK drinks food firm Allied Domecq risen speculation target takeover France Pernod Ricard Reports Wall Street Journal Financial Times suggested French spirits firm considering bid contact target Allied Domecq shares London rose GMT Pernod shares Paris slipped Pernod seeking acquisitions refused comment specifics Pernod major purchase US giant Seagram propelled global drinks firms thirds Seagram bought market leader Diageo terms market value Pernod euros smaller Allied Domecq capitalisation euros Last Pernod tried buy Glenmorangie Scotland premier whisky firms lost luxury goods firm LVMH Pernod home brands including Chivas Regal Scotch whisky Havana Club rum Jacob Creek wine Allied Domecq big names include Malibu rum Courvoisier brandy Stolichnaya vodka Ballantine whisky snack food chains Dunkin Donuts Baskin Robbins ice cream WSJ ripe consolidation having dealt problematic parts portfolio Pernod reduced debt took fund Seagram purchase euros Allied improved performance fast food chains(distance: 0.947252047379695)\n",
      "---\n"
     ]
    }
   ],
   "source": [
    "for (i, desc) in (enumerate(df.article)):\n",
    "    if(i < 5):\n",
    "        print(\"Cluster \" + str(kmeans_clusters[i]) + \": \" + desc + \n",
    "              \"(distance: \" + str(kmeans_distances[i][kmeans_clusters[i]]) + \")\")\n",
    "        print('---')"
   ]
  },
  {
   "cell_type": "markdown",
   "metadata": {},
   "source": [
    "### Getting the Hot keywords in those Clusters"
   ]
  },
  {
   "cell_type": "code",
   "execution_count": 70,
   "metadata": {},
   "outputs": [
    {
     "data": {
      "text/html": [
       "<div>\n",
       "<style scoped>\n",
       "    .dataframe tbody tr th:only-of-type {\n",
       "        vertical-align: middle;\n",
       "    }\n",
       "\n",
       "    .dataframe tbody tr th {\n",
       "        vertical-align: top;\n",
       "    }\n",
       "\n",
       "    .dataframe thead th {\n",
       "        text-align: right;\n",
       "    }\n",
       "</style>\n",
       "<table border=\"1\" class=\"dataframe\">\n",
       "  <thead>\n",
       "    <tr style=\"text-align: right;\">\n",
       "      <th></th>\n",
       "      <th>keyword_0</th>\n",
       "      <th>keyword_1</th>\n",
       "      <th>keyword_2</th>\n",
       "      <th>keyword_3</th>\n",
       "      <th>keyword_4</th>\n",
       "      <th>keyword_5</th>\n",
       "      <th>keyword_6</th>\n",
       "      <th>keyword_7</th>\n",
       "      <th>keyword_8</th>\n",
       "      <th>keyword_9</th>\n",
       "      <th>keyword_10</th>\n",
       "      <th>keyword_11</th>\n",
       "      <th>keyword_12</th>\n",
       "      <th>keyword_13</th>\n",
       "      <th>keyword_14</th>\n",
       "    </tr>\n",
       "  </thead>\n",
       "  <tbody>\n",
       "    <tr>\n",
       "      <th>topic_0</th>\n",
       "      <td>prices</td>\n",
       "      <td>crude</td>\n",
       "      <td>oil</td>\n",
       "      <td>house</td>\n",
       "      <td>mortgage</td>\n",
       "      <td>barrel</td>\n",
       "      <td>price</td>\n",
       "      <td>housing</td>\n",
       "      <td>house prices</td>\n",
       "      <td>market</td>\n",
       "      <td>lending</td>\n",
       "      <td>figures</td>\n",
       "      <td>uk</td>\n",
       "      <td>oil prices</td>\n",
       "      <td>rose</td>\n",
       "    </tr>\n",
       "    <tr>\n",
       "      <th>topic_1</th>\n",
       "      <td>yukos</td>\n",
       "      <td>russian</td>\n",
       "      <td>gazprom</td>\n",
       "      <td>yugansk</td>\n",
       "      <td>oil</td>\n",
       "      <td>rosneft</td>\n",
       "      <td>russia</td>\n",
       "      <td>court</td>\n",
       "      <td>khodorkovsky</td>\n",
       "      <td>tax</td>\n",
       "      <td>auction</td>\n",
       "      <td>bankruptcy</td>\n",
       "      <td>yuganskneftegas</td>\n",
       "      <td>sale</td>\n",
       "      <td>unit</td>\n",
       "    </tr>\n",
       "    <tr>\n",
       "      <th>topic_2</th>\n",
       "      <td>sales</td>\n",
       "      <td>profits</td>\n",
       "      <td>gm</td>\n",
       "      <td>car</td>\n",
       "      <td>euros</td>\n",
       "      <td>profit</td>\n",
       "      <td>growth</td>\n",
       "      <td>retail</td>\n",
       "      <td>company</td>\n",
       "      <td>executive</td>\n",
       "      <td>quarter</td>\n",
       "      <td>christmas</td>\n",
       "      <td>chief executive</td>\n",
       "      <td>strong</td>\n",
       "      <td>stores</td>\n",
       "    </tr>\n",
       "    <tr>\n",
       "      <th>topic_3</th>\n",
       "      <td>firm</td>\n",
       "      <td>company</td>\n",
       "      <td>shares</td>\n",
       "      <td>deal</td>\n",
       "      <td>offer</td>\n",
       "      <td>takeover</td>\n",
       "      <td>new</td>\n",
       "      <td>bid</td>\n",
       "      <td>worldcom</td>\n",
       "      <td>club</td>\n",
       "      <td>ebbers</td>\n",
       "      <td>financial</td>\n",
       "      <td>group</td>\n",
       "      <td>uk</td>\n",
       "      <td>euros</td>\n",
       "    </tr>\n",
       "    <tr>\n",
       "      <th>topic_4</th>\n",
       "      <td>economy</td>\n",
       "      <td>growth</td>\n",
       "      <td>rate</td>\n",
       "      <td>rates</td>\n",
       "      <td>economic</td>\n",
       "      <td>consumer</td>\n",
       "      <td>manufacturing</td>\n",
       "      <td>bank</td>\n",
       "      <td>spending</td>\n",
       "      <td>figures</td>\n",
       "      <td>quarter</td>\n",
       "      <td>unemployment</td>\n",
       "      <td>jobs</td>\n",
       "      <td>rise</td>\n",
       "      <td>january</td>\n",
       "    </tr>\n",
       "    <tr>\n",
       "      <th>topic_5</th>\n",
       "      <td>insurance</td>\n",
       "      <td>stock</td>\n",
       "      <td>bank</td>\n",
       "      <td>sec</td>\n",
       "      <td>market</td>\n",
       "      <td>sri</td>\n",
       "      <td>sri lanka</td>\n",
       "      <td>lanka</td>\n",
       "      <td>stock market</td>\n",
       "      <td>shares</td>\n",
       "      <td>firms</td>\n",
       "      <td>indonesia</td>\n",
       "      <td>tsunami</td>\n",
       "      <td>disaster</td>\n",
       "      <td>damage</td>\n",
       "    </tr>\n",
       "    <tr>\n",
       "      <th>topic_6</th>\n",
       "      <td>dollar</td>\n",
       "      <td>eu</td>\n",
       "      <td>deficit</td>\n",
       "      <td>budget</td>\n",
       "      <td>economic</td>\n",
       "      <td>trade</td>\n",
       "      <td>countries</td>\n",
       "      <td>economy</td>\n",
       "      <td>euro</td>\n",
       "      <td>bush</td>\n",
       "      <td>european</td>\n",
       "      <td>currency</td>\n",
       "      <td>imf</td>\n",
       "      <td>growth</td>\n",
       "      <td>president</td>\n",
       "    </tr>\n",
       "    <tr>\n",
       "      <th>topic_7</th>\n",
       "      <td>airline</td>\n",
       "      <td>boeing</td>\n",
       "      <td>airlines</td>\n",
       "      <td>air</td>\n",
       "      <td>airbus</td>\n",
       "      <td>aircraft</td>\n",
       "      <td>planes</td>\n",
       "      <td>fuel</td>\n",
       "      <td>costs</td>\n",
       "      <td>passengers</td>\n",
       "      <td>carrier</td>\n",
       "      <td>staff</td>\n",
       "      <td>india</td>\n",
       "      <td>euros</td>\n",
       "      <td>company</td>\n",
       "    </tr>\n",
       "    <tr>\n",
       "      <th>topic_8</th>\n",
       "      <td>india</td>\n",
       "      <td>oil</td>\n",
       "      <td>indian</td>\n",
       "      <td>gas</td>\n",
       "      <td>company</td>\n",
       "      <td>rupees</td>\n",
       "      <td>foreign</td>\n",
       "      <td>car</td>\n",
       "      <td>government</td>\n",
       "      <td>market</td>\n",
       "      <td>production</td>\n",
       "      <td>investment</td>\n",
       "      <td>deal</td>\n",
       "      <td>country</td>\n",
       "      <td>firm</td>\n",
       "    </tr>\n",
       "    <tr>\n",
       "      <th>topic_9</th>\n",
       "      <td>china</td>\n",
       "      <td>chinese</td>\n",
       "      <td>yuan</td>\n",
       "      <td>beijing</td>\n",
       "      <td>projects</td>\n",
       "      <td>banking</td>\n",
       "      <td>government</td>\n",
       "      <td>trade</td>\n",
       "      <td>economy</td>\n",
       "      <td>state</td>\n",
       "      <td>growth</td>\n",
       "      <td>oil</td>\n",
       "      <td>bank</td>\n",
       "      <td>prices</td>\n",
       "      <td>environmental</td>\n",
       "    </tr>\n",
       "  </tbody>\n",
       "</table>\n",
       "</div>"
      ],
      "text/plain": [
       "         keyword_0 keyword_1 keyword_2 keyword_3 keyword_4 keyword_5  \\\n",
       "topic_0     prices     crude       oil     house  mortgage    barrel   \n",
       "topic_1      yukos   russian   gazprom   yugansk       oil   rosneft   \n",
       "topic_2      sales   profits        gm       car     euros    profit   \n",
       "topic_3       firm   company    shares      deal     offer  takeover   \n",
       "topic_4    economy    growth      rate     rates  economic  consumer   \n",
       "topic_5  insurance     stock      bank       sec    market       sri   \n",
       "topic_6     dollar        eu   deficit    budget  economic     trade   \n",
       "topic_7    airline    boeing  airlines       air    airbus  aircraft   \n",
       "topic_8      india       oil    indian       gas   company    rupees   \n",
       "topic_9      china   chinese      yuan   beijing  projects   banking   \n",
       "\n",
       "             keyword_6 keyword_7     keyword_8   keyword_9  keyword_10  \\\n",
       "topic_0          price   housing  house prices      market     lending   \n",
       "topic_1         russia     court  khodorkovsky         tax     auction   \n",
       "topic_2         growth    retail       company   executive     quarter   \n",
       "topic_3            new       bid      worldcom        club      ebbers   \n",
       "topic_4  manufacturing      bank      spending     figures     quarter   \n",
       "topic_5      sri lanka     lanka  stock market      shares       firms   \n",
       "topic_6      countries   economy          euro        bush    european   \n",
       "topic_7         planes      fuel         costs  passengers     carrier   \n",
       "topic_8        foreign       car    government      market  production   \n",
       "topic_9     government     trade       economy       state      growth   \n",
       "\n",
       "           keyword_11       keyword_12  keyword_13     keyword_14  \n",
       "topic_0       figures               uk  oil prices           rose  \n",
       "topic_1    bankruptcy  yuganskneftegas        sale           unit  \n",
       "topic_2     christmas  chief executive      strong         stores  \n",
       "topic_3     financial            group          uk          euros  \n",
       "topic_4  unemployment             jobs        rise        january  \n",
       "topic_5     indonesia          tsunami    disaster         damage  \n",
       "topic_6      currency              imf      growth      president  \n",
       "topic_7         staff            india       euros        company  \n",
       "topic_8    investment             deal     country           firm  \n",
       "topic_9           oil             bank      prices  environmental  "
      ]
     },
     "execution_count": 70,
     "metadata": {},
     "output_type": "execute_result"
    }
   ],
   "source": [
    "sorted_centroids = kmeans.cluster_centers_.argsort()[:, ::-1]\n",
    "terms = vectorizer.get_feature_names()\n",
    "all_keywords = []\n",
    "for i in range(num_clusters):\n",
    "    topic_keywords = []\n",
    "    for j in sorted_centroids[i, :15]:\n",
    "        topic_keywords.append(terms[j])\n",
    "    all_keywords.append(topic_keywords)\n",
    "\n",
    "keywords_df = pd.DataFrame(index=['topic_{0}'.format(i) for i in range(num_clusters)], \n",
    "                           columns=['keyword_{0}'.format(i) for i in range(15)],\n",
    "                           data=all_keywords)\n",
    "keywords_df"
   ]
  },
  {
   "cell_type": "markdown",
   "metadata": {},
   "source": [
    "### 10 Most common Topics"
   ]
  },
  {
   "cell_type": "markdown",
   "metadata": {},
   "source": [
    "Topic-0\n",
    "Oil prices, house prices\n",
    "\n",
    "Topic-1\n",
    "Russia's Oil Production\n",
    "\n",
    "Topic-2\n",
    "Europe Automotive industry results \n",
    "\n",
    "Topic-3\n",
    "UK company shares and bidding\n",
    "\n",
    "Topic-4\n",
    "Growth in Economy, Unemployement and Jobs\n",
    "\n",
    "Topic-5\n",
    "South East Asia market \n",
    "\n",
    "Topic-6\n",
    "Trade and Budget deficits\n",
    "\n",
    "Topic-7\n",
    "Airlines, costs and passengers\n",
    "\n",
    "Topic-8\n",
    "India Oil and Gas production\n",
    "\n",
    "Topic-9\n",
    "China government,trade and economy"
   ]
  },
  {
   "cell_type": "code",
   "execution_count": null,
   "metadata": {},
   "outputs": [],
   "source": []
  },
  {
   "cell_type": "code",
   "execution_count": null,
   "metadata": {},
   "outputs": [],
   "source": []
  },
  {
   "cell_type": "code",
   "execution_count": null,
   "metadata": {},
   "outputs": [],
   "source": []
  }
 ],
 "metadata": {
  "kernelspec": {
   "display_name": "Python 3",
   "language": "python",
   "name": "python3"
  },
  "language_info": {
   "codemirror_mode": {
    "name": "ipython",
    "version": 3
   },
   "file_extension": ".py",
   "mimetype": "text/x-python",
   "name": "python",
   "nbconvert_exporter": "python",
   "pygments_lexer": "ipython3",
   "version": "3.7.3"
  }
 },
 "nbformat": 4,
 "nbformat_minor": 2
}
