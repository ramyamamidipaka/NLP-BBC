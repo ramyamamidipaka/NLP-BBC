{
 "cells": [
  {
   "cell_type": "code",
   "execution_count": 1,
   "metadata": {},
   "outputs": [],
   "source": [
    "import requests\n",
    "from bs4 import BeautifulSoup\n",
    "\n",
    "import spacy\n",
    "nlp=spacy.load(\"en_core_web_sm\")\n",
    "\n",
    "import warnings\n",
    "warnings.filterwarnings(\"ignore\")\n",
    "\n",
    "import re\n",
    "\n",
    "import pandas as pd\n",
    "\n",
    "from nltk.corpus import stopwords\n",
    "stop_words = stopwords.words('english')\n",
    "from nltk import FreqDist\n",
    "\n",
    "import matplotlib.pyplot as plt\n",
    "import seaborn as sns\n",
    "%matplotlib inline"
   ]
  },
  {
   "cell_type": "markdown",
   "metadata": {},
   "source": [
    "## Extracting the products"
   ]
  },
  {
   "cell_type": "code",
   "execution_count": 2,
   "metadata": {},
   "outputs": [],
   "source": [
    "tr_link1=\"https://www.trustradius.com/crm?f=0&s=237\"\n",
    "link1=requests.get(tr_link1).text\n",
    "\n",
    "tr_link2=\"https://www.trustradius.com/crm?f=100&s=237\"\n",
    "link2=requests.get(tr_link2).text\n",
    "\n",
    "tr_link3=\"https://www.trustradius.com/crm?f=200&s=100\"\n",
    "link3=requests.get(tr_link3).text\n",
    "\n",
    "links=[link1,link2,link3]\n",
    "\n",
    "product_list=[]\n",
    "\n",
    "for i in links:\n",
    "    soup=BeautifulSoup(i,\"lxml\")\n",
    "    for tag in soup.find_all(True, {'class':['product-link']}):\n",
    "    \n",
    "        if tag.name==\"a\" and tag.string!=None: \n",
    "            product_list.append(tag.string)"
   ]
  },
  {
   "cell_type": "code",
   "execution_count": 3,
   "metadata": {},
   "outputs": [
    {
     "data": {
      "text/plain": [
       "0"
      ]
     },
     "execution_count": 3,
     "metadata": {},
     "output_type": "execute_result"
    }
   ],
   "source": [
    "len(list(set(product_list)))"
   ]
  },
  {
   "cell_type": "markdown",
   "metadata": {},
   "source": [
    "## Product \"Insightly\" Features"
   ]
  },
  {
   "cell_type": "code",
   "execution_count": 4,
   "metadata": {},
   "outputs": [],
   "source": [
    "feature_url=\"https://www.trustradius.com/products/insightly/reviews#1\"\n",
    "soup=BeautifulSoup(requests.get(feature_url).text,\"lxml\")"
   ]
  },
  {
   "cell_type": "code",
   "execution_count": 5,
   "metadata": {},
   "outputs": [],
   "source": [
    "features=[]\n",
    "for tag in soup.find_all(True, {'class':['feature-group-name','supported-feature']}):\n",
    "    if tag.name==\"b\" :        \n",
    "        k=tag.text\n",
    "    if tag.name==\"h5\" :        \n",
    "        k=tag.text\n",
    "    if tag.name==\"div\":\n",
    "        features.append((k+tag.text[11:]).replace(\"Features\",\"\").replace(\"management\",\"\"))"
   ]
  },
  {
   "cell_type": "code",
   "execution_count": 6,
   "metadata": {},
   "outputs": [
    {
     "data": {
      "text/plain": [
       "['Sales Force Automation Customer data  / contact ',\n",
       " 'Sales Force Automation Workflow ',\n",
       " 'Sales Force Automation Territory ',\n",
       " 'Sales Force Automation Opportunity ',\n",
       " 'Sales Force Automation Integration with email client (e.g., Outlook or Gmail)',\n",
       " 'Sales Force Automation Quote & order ',\n",
       " 'Sales Force Automation Interaction tracking',\n",
       " 'Marketing Automation Lead ',\n",
       " 'Marketing Automation Email marketing',\n",
       " 'CRM Project Management Task ',\n",
       " 'CRM Project Management Reporting',\n",
       " 'CRM Reporting & Analytics Pipeline visualization',\n",
       " 'CRM Reporting & Analytics Customizable reports',\n",
       " 'Customization Custom fields',\n",
       " 'Customization Custom objects',\n",
       " 'Customization API for custom integration',\n",
       " 'Security Role-based user permissions',\n",
       " 'Security Single sign-on capability',\n",
       " 'Integrations with 3rd-party Software Marketing automation',\n",
       " 'Platform Mobile access',\n",
       " 'Additional AICPA SOC II Type 1 and Type 2 audited and accredited, and US/EU Privacy Shield and US/Swiss Privacy Shield certified.',\n",
       " 'Additional Data import & export',\n",
       " 'Additional Two-factor Authentication (2FA)',\n",
       " 'Additional SAML-based Single Sign-On (SSO)',\n",
       " 'Additional OAuth Single Sign-On (SSO)']"
      ]
     },
     "execution_count": 6,
     "metadata": {},
     "output_type": "execute_result"
    }
   ],
   "source": [
    "features"
   ]
  },
  {
   "cell_type": "markdown",
   "metadata": {},
   "source": [
    "## Reviews Extraction"
   ]
  },
  {
   "cell_type": "code",
   "execution_count": 7,
   "metadata": {},
   "outputs": [],
   "source": [
    "reviews_url=\"https://www.trustradius.com/products/insightly/reviews?f=\"\n",
    "reviews_url1=requests.get(reviews_url).text"
   ]
  },
  {
   "cell_type": "code",
   "execution_count": 8,
   "metadata": {},
   "outputs": [],
   "source": [
    "list_of_links=[]\n",
    "for i in range(0,350,25):\n",
    "    \n",
    "    final_link=(reviews_url+str(i))\n",
    "    final_link=requests.get(final_link).text\n",
    "    list_of_links.append(final_link)   "
   ]
  },
  {
   "cell_type": "code",
   "execution_count": 9,
   "metadata": {},
   "outputs": [
    {
     "data": {
      "text/plain": [
       "317"
      ]
     },
     "execution_count": 9,
     "metadata": {},
     "output_type": "execute_result"
    }
   ],
   "source": [
    "reviews=[]\n",
    "for i in list_of_links:\n",
    "    soup=BeautifulSoup(i,\"lxml\")\n",
    "    for tag in soup.find_all(True,{'class':['review-questions']}):\n",
    "\n",
    "        if tag.name==\"div\":   \n",
    "            reviews.append(tag.text[30:].replace(\"Likelihood to Recommend\",\" \").replace(\"Pros and Cons\",\" \"))            \n",
    "len(reviews)"
   ]
  },
  {
   "cell_type": "code",
   "execution_count": 10,
   "metadata": {},
   "outputs": [
    {
     "data": {
      "text/plain": [
       "'We\\'re using Insightly primarily for our sales team as a CRM system, tracking organisations, contacts, opportunities and in the future, projects.This information is coupled with our budgets to provide the proverbial \"BIGGER PICTURE\" Organizational, contact and opportunity management. We\\'re able to store relevant data about all three specific information areas. In particular, the progression of opportunities through custom phases is a big plus for us.Great reports that are customizable to my department\\'s needs.The easy user interface made the transition from our previous product relatively pain free for our users. Not to say what we used, but you had to be a wise old \\'sage\\' to use it...EditIntegration to Xero should allow us to quote directly from Insightly, or be able to view our Xero quotes in Insightly.It would also be great to be able to track quotes against a budget or target! Well suited to client management.Not too well suited to quoting!Read Jeremy Grant\\'s full review'"
      ]
     },
     "execution_count": 10,
     "metadata": {},
     "output_type": "execute_result"
    }
   ],
   "source": [
    "reviews[1]"
   ]
  },
  {
   "cell_type": "markdown",
   "metadata": {},
   "source": [
    "## Removing Stopwords and tokenisation"
   ]
  },
  {
   "cell_type": "code",
   "execution_count": 11,
   "metadata": {},
   "outputs": [],
   "source": [
    "final_feature_list=[]\n",
    "for i in features:\n",
    "    token_words=[]\n",
    "    i=re.sub(\"\\W+\",\" \",i)\n",
    "    for j in i.split(\" \"):\n",
    "        if j not in stop_words and len(j)>2:\n",
    "            token_words.append(j)\n",
    "    final_feature_list.append(token_words)"
   ]
  },
  {
   "cell_type": "code",
   "execution_count": 12,
   "metadata": {},
   "outputs": [
    {
     "data": {
      "text/plain": [
       "['Sales', 'Force', 'Automation', 'Quote', 'order']"
      ]
     },
     "execution_count": 12,
     "metadata": {},
     "output_type": "execute_result"
    }
   ],
   "source": [
    "final_feature_list[5]"
   ]
  },
  {
   "cell_type": "code",
   "execution_count": 27,
   "metadata": {},
   "outputs": [],
   "source": [
    "final_review_list=[]\n",
    "for i in reviews:\n",
    "    token_words=[]\n",
    "    i=re.sub(\"\\W+\",\" \",i)\n",
    "    for j in i.split(\" \"):\n",
    "        if j not in stop_words and len(j)>2 and j.lower()!=\"insightly\":\n",
    "            token_words.append(j)\n",
    "    final_review_list.append(token_words)"
   ]
  },
  {
   "cell_type": "code",
   "execution_count": 25,
   "metadata": {},
   "outputs": [
    {
     "data": {
      "text/plain": [
       "317"
      ]
     },
     "execution_count": 25,
     "metadata": {},
     "output_type": "execute_result"
    }
   ],
   "source": [
    "len(final_review_list)"
   ]
  },
  {
   "cell_type": "markdown",
   "metadata": {},
   "source": [
    "## Plotting Most Frequent words"
   ]
  },
  {
   "cell_type": "code",
   "execution_count": 15,
   "metadata": {},
   "outputs": [],
   "source": [
    "def freq_words(x, terms = 30):\n",
    "    words=\" \"\n",
    "    for j in x:\n",
    "        for i in j:\n",
    "            words=words+i+\" \"\n",
    "    \n",
    "    words = words.split()\n",
    "\n",
    "    fdist = FreqDist(words)\n",
    "    words_df = pd.DataFrame({'word':list(fdist.keys()), 'count':list(fdist.values())})\n",
    "\n",
    "    # selecting top 20 most frequent words\n",
    "    d = words_df.nlargest(columns=\"count\", n = terms) \n",
    "    plt.figure(figsize=(20,5))\n",
    "    ax = sns.barplot(data=d, x= \"word\", y = \"count\")\n",
    "    ax.set(ylabel = 'Count')\n",
    "    plt.show()"
   ]
  },
  {
   "cell_type": "code",
   "execution_count": 16,
   "metadata": {},
   "outputs": [
    {
     "data": {
      "image/png": "[encoded data removed]",
      "text/plain": [
       "<Figure size 1440x360 with 1 Axes>"
      ]
     },
     "metadata": {
      "needs_background": "light"
     },
     "output_type": "display_data"
    }
   ],
   "source": [
    "freq_words(final_feature_list,terms=20)"
   ]
  },
  {
   "cell_type": "code",
   "execution_count": 17,
   "metadata": {},
   "outputs": [
    {
     "data": {
      "image/png": "[encoded data removed]",
      "text/plain": [
       "<Figure size 1440x360 with 1 Axes>"
      ]
     },
     "metadata": {
      "needs_background": "light"
     },
     "output_type": "display_data"
    }
   ],
   "source": [
    "freq_words(final_review_list,terms=20)"
   ]
  },
  {
   "cell_type": "code",
   "execution_count": null,
   "metadata": {},
   "outputs": [],
   "source": []
  }
 ],
 "metadata": {
  "kernelspec": {
   "display_name": "Python 3",
   "language": "python",
   "name": "python3"
  },
  "language_info": {
   "codemirror_mode": {
    "name": "ipython",
    "version": 3
   },
   "file_extension": ".py",
   "mimetype": "text/x-python",
   "name": "python",
   "nbconvert_exporter": "python",
   "pygments_lexer": "ipython3",
   "version": "3.7.3"
  }
 },
 "nbformat": 4,
 "nbformat_minor": 4
}
