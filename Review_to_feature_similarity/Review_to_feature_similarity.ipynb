{
 "cells": [
  {
   "cell_type": "markdown",
   "metadata": {},
   "source": [
    "**USE CASE:**\n",
    "    \n",
    "There will be thousands of reviews, you would like to know how much is a review relavant to the product feature.\n",
    "\n",
    "Suppose you get a review : \"The phone camera is awesome\"\n",
    "    \n",
    "Your product features/specs mentioned has (camera, NETWORK, MEMORY,SOUND, Battery etc).\n",
    "By finding the similarity between the review and product feature you can know the most reviewed feature and how positive and nagative(sentiment analysis, in other project)"
   ]
  },
  {
   "cell_type": "code",
   "execution_count": 1,
   "metadata": {},
   "outputs": [],
   "source": [
    "import requests\n",
    "from bs4 import BeautifulSoup\n",
    "\n",
    "import spacy\n",
    "nlp=spacy.load(\"en_core_web_sm\")\n",
    "\n",
    "import warnings\n",
    "warnings.filterwarnings(\"ignore\")\n",
    "\n",
    "import re\n",
    "from numpy.linalg import norm\n",
    "from numpy import dot\n",
    "\n",
    "import pandas as pd\n",
    "import numpy as np\n",
    "\n",
    "from nltk.corpus import stopwords\n",
    "stop_words = stopwords.words('english')\n",
    "from nltk import FreqDist\n",
    "\n",
    "import matplotlib.pyplot as plt\n",
    "import seaborn as sns\n",
    "%matplotlib inline"
   ]
  },
  {
   "cell_type": "markdown",
   "metadata": {},
   "source": [
    "## Extracting the products"
   ]
  },
  {
   "cell_type": "code",
   "execution_count": 2,
   "metadata": {},
   "outputs": [],
   "source": [
    "tr_link1=\"https://www.trustradius.com/crm?f=0&s=237\"\n",
    "link1=requests.get(tr_link1).text\n",
    "\n",
    "tr_link2=\"https://www.trustradius.com/crm?f=100&s=237\"\n",
    "link2=requests.get(tr_link2).text\n",
    "\n",
    "tr_link3=\"https://www.trustradius.com/crm?f=200&s=100\"\n",
    "link3=requests.get(tr_link3).text\n",
    "\n",
    "links=[link1,link2,link3]\n",
    "\n",
    "product_list=[]\n",
    "\n",
    "for i in links:\n",
    "    soup=BeautifulSoup(i,\"lxml\")\n",
    "    for tag in soup.find_all(True, {'class':['product-link']}):\n",
    "    \n",
    "        if tag.name==\"a\" and tag.string!=None: \n",
    "            product_list.append(tag.string)"
   ]
  },
  {
   "cell_type": "code",
   "execution_count": 3,
   "metadata": {},
   "outputs": [
    {
     "data": {
      "text/plain": [
       "0"
      ]
     },
     "execution_count": 3,
     "metadata": {},
     "output_type": "execute_result"
    }
   ],
   "source": [
    "len(list(set(product_list)))"
   ]
  },
  {
   "cell_type": "markdown",
   "metadata": {},
   "source": [
    "## Product \"Insightly\" Features"
   ]
  },
  {
   "cell_type": "code",
   "execution_count": 4,
   "metadata": {},
   "outputs": [],
   "source": [
    "feature_url=\"https://www.trustradius.com/products/insightly/reviews#1\"\n",
    "soup=BeautifulSoup(requests.get(feature_url).text,\"lxml\")"
   ]
  },
  {
   "cell_type": "code",
   "execution_count": 5,
   "metadata": {},
   "outputs": [],
   "source": [
    "features=[]\n",
    "for tag in soup.find_all(True, {'class':['feature-group-name','supported-feature']}):\n",
    "    if tag.name==\"b\" :        \n",
    "        k=tag.text\n",
    "    if tag.name==\"h5\" :        \n",
    "        k=tag.text\n",
    "    if tag.name==\"div\":\n",
    "        features.append((k+tag.text[11:]).replace(\"Features\",\"\").replace(\"management\",\"\"))"
   ]
  },
  {
   "cell_type": "code",
   "execution_count": 6,
   "metadata": {},
   "outputs": [
    {
     "data": {
      "text/plain": [
       "['Sales Force Automation Customer data  / contact ',\n",
       " 'Sales Force Automation Workflow ',\n",
       " 'Sales Force Automation Territory ',\n",
       " 'Sales Force Automation Opportunity ',\n",
       " 'Sales Force Automation Integration with email client (e.g., Outlook or Gmail)',\n",
       " 'Sales Force Automation Quote & order ',\n",
       " 'Sales Force Automation Interaction tracking',\n",
       " 'Marketing Automation Lead ',\n",
       " 'Marketing Automation Email marketing',\n",
       " 'CRM Project Management Task ',\n",
       " 'CRM Project Management Reporting',\n",
       " 'CRM Reporting & Analytics Pipeline visualization',\n",
       " 'CRM Reporting & Analytics Customizable reports',\n",
       " 'Customization Custom fields',\n",
       " 'Customization Custom objects',\n",
       " 'Customization API for custom integration',\n",
       " 'Security Role-based user permissions',\n",
       " 'Security Single sign-on capability',\n",
       " 'Integrations with 3rd-party Software Marketing automation',\n",
       " 'Platform Mobile access',\n",
       " 'Additional AICPA SOC II Type 1 and Type 2 audited and accredited, and US/EU Privacy Shield and US/Swiss Privacy Shield certified.',\n",
       " 'Additional Data import & export',\n",
       " 'Additional Two-factor Authentication (2FA)',\n",
       " 'Additional SAML-based Single Sign-On (SSO)',\n",
       " 'Additional OAuth Single Sign-On (SSO)',\n",
       " 'Additional Audit Logs']"
      ]
     },
     "execution_count": 6,
     "metadata": {},
     "output_type": "execute_result"
    }
   ],
   "source": [
    "features"
   ]
  },
  {
   "cell_type": "markdown",
   "metadata": {},
   "source": [
    "## Reviews Extraction"
   ]
  },
  {
   "cell_type": "code",
   "execution_count": 7,
   "metadata": {},
   "outputs": [],
   "source": [
    "reviews_url=\"https://www.trustradius.com/products/insightly/reviews?f=\"\n",
    "reviews_url1=requests.get(reviews_url).text"
   ]
  },
  {
   "cell_type": "code",
   "execution_count": 8,
   "metadata": {},
   "outputs": [],
   "source": [
    "list_of_links=[]\n",
    "for i in range(0,350,25):\n",
    "    \n",
    "    final_link=(reviews_url+str(i))\n",
    "    final_link=requests.get(final_link).text\n",
    "    list_of_links.append(final_link)   "
   ]
  },
  {
   "cell_type": "code",
   "execution_count": 9,
   "metadata": {},
   "outputs": [
    {
     "data": {
      "text/plain": [
       "317"
      ]
     },
     "execution_count": 9,
     "metadata": {},
     "output_type": "execute_result"
    }
   ],
   "source": [
    "reviews=[]\n",
    "for i in list_of_links:\n",
    "    soup=BeautifulSoup(i,\"lxml\")\n",
    "    for tag in soup.find_all(True,{'class':['review-questions']}):\n",
    "\n",
    "        if tag.name==\"div\":   \n",
    "            reviews.append(tag.text[30:].replace(\"Likelihood to Recommend\",\" \").replace(\"Pros and Cons\",\" \"))            \n",
    "len(reviews)"
   ]
  },
  {
   "cell_type": "code",
   "execution_count": 10,
   "metadata": {},
   "outputs": [
    {
     "data": {
      "text/plain": [
       "'We\\'re using Insightly primarily for our sales team as a CRM system, tracking organisations, contacts, opportunities and in the future, projects.This information is coupled with our budgets to provide the proverbial \"BIGGER PICTURE\" Organizational, contact and opportunity management. We\\'re able to store relevant data about all three specific information areas. In particular, the progression of opportunities through custom phases is a big plus for us.Great reports that are customizable to my department\\'s needs.The easy user interface made the transition from our previous product relatively pain free for our users. Not to say what we used, but you had to be a wise old \\'sage\\' to use it...EditIntegration to Xero should allow us to quote directly from Insightly, or be able to view our Xero quotes in Insightly.It would also be great to be able to track quotes against a budget or target! Well suited to client management.Not too well suited to quoting!Read Jeremy Grant\\'s full review'"
      ]
     },
     "execution_count": 10,
     "metadata": {},
     "output_type": "execute_result"
    }
   ],
   "source": [
    "reviews[1]"
   ]
  },
  {
   "cell_type": "markdown",
   "metadata": {},
   "source": [
    "## Removing Stopwords and tokenisation"
   ]
  },
  {
   "cell_type": "code",
   "execution_count": 11,
   "metadata": {},
   "outputs": [],
   "source": [
    "final_feature_list=[]\n",
    "final_feature=[]\n",
    "for i in features:\n",
    "    token_words=[]\n",
    "    i=re.sub(\"\\W+\",\" \",i)\n",
    "    for j in i.split(\" \"):\n",
    "        if j not in stop_words and len(j)>2:\n",
    "            token_words.append(j)\n",
    "    final_feature_list.append(token_words)\n",
    "    final_feature.append(\" \".join(token_words))"
   ]
  },
  {
   "cell_type": "code",
   "execution_count": 12,
   "metadata": {},
   "outputs": [
    {
     "data": {
      "text/plain": [
       "['Sales Force Automation Customer data contact',\n",
       " 'Sales Force Automation Workflow',\n",
       " 'Sales Force Automation Territory',\n",
       " 'Sales Force Automation Opportunity',\n",
       " 'Sales Force Automation Integration email client Outlook Gmail',\n",
       " 'Sales Force Automation Quote order',\n",
       " 'Sales Force Automation Interaction tracking',\n",
       " 'Marketing Automation Lead',\n",
       " 'Marketing Automation Email marketing',\n",
       " 'CRM Project Management Task',\n",
       " 'CRM Project Management Reporting',\n",
       " 'CRM Reporting Analytics Pipeline visualization',\n",
       " 'CRM Reporting Analytics Customizable reports',\n",
       " 'Customization Custom fields',\n",
       " 'Customization Custom objects',\n",
       " 'Customization API custom integration',\n",
       " 'Security Role based user permissions',\n",
       " 'Security Single sign capability',\n",
       " 'Integrations 3rd party Software Marketing automation',\n",
       " 'Platform Mobile access',\n",
       " 'Additional AICPA SOC Type Type audited accredited Privacy Shield Swiss Privacy Shield certified',\n",
       " 'Additional Data import export',\n",
       " 'Additional Two factor Authentication 2FA',\n",
       " 'Additional SAML based Single Sign SSO',\n",
       " 'Additional OAuth Single Sign SSO',\n",
       " 'Additional Audit Logs']"
      ]
     },
     "execution_count": 12,
     "metadata": {},
     "output_type": "execute_result"
    }
   ],
   "source": [
    "final_feature"
   ]
  },
  {
   "cell_type": "code",
   "execution_count": 13,
   "metadata": {},
   "outputs": [],
   "source": [
    "final_review_list=[]\n",
    "final_review=[]\n",
    "\n",
    "for i in reviews:\n",
    "    token_words=[]\n",
    "    i=re.sub(\"\\W+\",\" \",i)\n",
    "    for j in i.split(\" \"):\n",
    "        if j not in stop_words and len(j)>2 and j.lower()!=\"insightly\":\n",
    "            token_words.append(j)\n",
    "    final_review_list.append(token_words)\n",
    "    final_review.append(\" \".join(token_words))"
   ]
  },
  {
   "cell_type": "markdown",
   "metadata": {},
   "source": [
    "## Plotting Most Frequent words"
   ]
  },
  {
   "cell_type": "code",
   "execution_count": 14,
   "metadata": {},
   "outputs": [],
   "source": [
    "def freq_words(x, terms = 30):\n",
    "    words=\" \"\n",
    "    for j in x:\n",
    "        for i in j:\n",
    "            words=words+i+\" \"\n",
    "    \n",
    "    words = words.split()\n",
    "\n",
    "    fdist = FreqDist(words)\n",
    "    words_df = pd.DataFrame({'word':list(fdist.keys()), 'count':list(fdist.values())})\n",
    "\n",
    "    # selecting top 20 most frequent words\n",
    "    d = words_df.nlargest(columns=\"count\", n = terms) \n",
    "    plt.figure(figsize=(20,5))\n",
    "    ax = sns.barplot(data=d, x= \"word\", y = \"count\")\n",
    "    ax.set(ylabel = 'Count')\n",
    "    plt.show()"
   ]
  },
  {
   "cell_type": "code",
   "execution_count": 15,
   "metadata": {},
   "outputs": [
    {
     "data": {
      "image/png": "[encoded data removed]",
      "text/plain": [
       "<Figure size 1440x360 with 1 Axes>"
      ]
     },
     "metadata": {
      "needs_background": "light"
     },
     "output_type": "display_data"
    }
   ],
   "source": [
    "freq_words(final_feature_list,terms=20)"
   ]
  },
  {
   "cell_type": "code",
   "execution_count": 16,
   "metadata": {},
   "outputs": [
    {
     "data": {
      "image/png": "[encoded data removed]",
      "text/plain": [
       "<Figure size 1440x360 with 1 Axes>"
      ]
     },
     "metadata": {
      "needs_background": "light"
     },
     "output_type": "display_data"
    }
   ],
   "source": [
    "freq_words(final_review_list,terms=20)"
   ]
  },
  {
   "cell_type": "markdown",
   "metadata": {},
   "source": [
    "## Finding the correlation between a review and a particular Feature of the product"
   ]
  },
  {
   "cell_type": "markdown",
   "metadata": {},
   "source": [
    "There are differet methods to get the sentence vectors :\\\n",
    "\n",
    "**Doc2Vec** : you can train your dataset using Doc2Vec and then use the sentence vectors.\n",
    "\n",
    "**Average of Word2Vec vectors**: You can just take the average of all the word vectors in a sentence. This average vector will represent your sentence vector.(Using this)\n",
    "\n",
    "**Average of Word2Vec vectors with TF-IDF** : this is one of the best approach which I will recommend. Just take the word vectors and multiply it with their TF-IDF scores. Just take the average and it will represent your sentence vector."
   ]
  },
  {
   "cell_type": "code",
   "execution_count": 17,
   "metadata": {},
   "outputs": [],
   "source": [
    "##https://gist.github.com/aparrish/2f562e3737544cf29aaf1af30362f469\n",
    "\n",
    "EMBEDDING_FILE=\"C:/Users/ramya/Downloads/glove.6B/glove.6B.100d.txt\"\n",
    "\n",
    "# this embedding file can be downloaded online https://nlp.stanford.edu/projects/glove/\n",
    "\n",
    "def get_coefs(word, *arr): \n",
    "    return word, np.asarray(arr, dtype='float32')\n",
    "embeddings_index = dict(get_coefs(*o.rstrip().rsplit(' ')) for o in open(EMBEDDING_FILE,encoding='utf-8'))"
   ]
  },
  {
   "cell_type": "code",
   "execution_count": 18,
   "metadata": {},
   "outputs": [],
   "source": [
    "def vec(s):\n",
    "    return embeddings_index[s.lower()]"
   ]
  },
  {
   "cell_type": "code",
   "execution_count": 19,
   "metadata": {},
   "outputs": [],
   "source": [
    "\n",
    "def meanv_sent(coords):\n",
    "    # assumes every item in coords has same length as item 0\n",
    "    a=0\n",
    "    running_sum=0\n",
    "    for w in coords.split():\n",
    "        if w.lower() in embeddings_index.keys():\n",
    "            a=a+1\n",
    "            running_sum=running_sum+vec(w.lower())\n",
    "        \n",
    "    return (running_sum/max(a,1))"
   ]
  },
  {
   "cell_type": "code",
   "execution_count": 20,
   "metadata": {},
   "outputs": [
    {
     "data": {
      "text/plain": [
       "array([-4.0561500e-01,  3.3013499e-01,  4.2058501e-01, -3.7959993e-02,\n",
       "       -2.4814050e-01, -6.9466501e-02, -3.4714502e-01,  2.2136500e-01,\n",
       "       -3.0033001e-01, -9.9291503e-01, -1.1006950e+00,  6.5036500e-01,\n",
       "        5.8976001e-01,  4.6939999e-01,  1.8093389e-01,  7.0989996e-02,\n",
       "       -2.5589001e-01,  2.3566499e-01,  2.3278500e-01,  4.2712000e-01,\n",
       "        1.3359851e-01,  7.8539002e-01,  3.7312502e-01, -3.4635001e-01,\n",
       "        5.9943497e-01,  7.8926498e-01, -6.0883498e-01,  5.5585998e-01,\n",
       "       -2.3996499e-01,  3.4034997e-01,  1.2107998e-01,  3.5529500e-01,\n",
       "        5.4617500e-01,  4.3185502e-01,  8.5548997e-02, -1.2937000e-01,\n",
       "       -1.6336000e-01,  3.8295001e-01,  2.7146500e-01, -6.9993496e-01,\n",
       "        1.2568000e-01, -1.7098500e-01, -7.1828496e-01, -3.9222500e-01,\n",
       "        2.3403251e-01,  8.7463498e-01, -8.3482996e-02, -9.8019993e-01,\n",
       "       -7.6495498e-02, -6.6744998e-02, -1.2110500e-01, -5.3388500e-01,\n",
       "       -3.4731501e-01,  3.8390499e-01, -8.1520998e-01, -2.6416999e-01,\n",
       "        4.4395500e-01,  5.3831500e-01,  2.3482500e-01,  4.7944497e-02,\n",
       "        3.4755000e-01,  6.6728497e-01,  5.0096351e-01,  8.3829999e-01,\n",
       "        4.1441000e-01,  2.5394002e-01, -6.4029998e-01, -4.3760002e-01,\n",
       "        1.8830009e-02,  2.2420004e-02, -4.4918501e-01, -8.5776001e-01,\n",
       "       -4.3368500e-01,  1.7422000e-01, -5.3349882e-04,  1.6931920e-01,\n",
       "       -3.0443001e-01,  7.6122999e-01, -1.9650000e-01,  3.4907502e-01,\n",
       "       -2.0785004e-02,  2.2057250e-01,  2.9448500e-01, -1.6864951e-01,\n",
       "        1.4095500e-01, -1.6512001e-01,  5.2297997e-01, -3.1910002e-02,\n",
       "        1.7310008e-02,  6.3160002e-01, -3.6363500e-01, -7.3012000e-01,\n",
       "        1.3373999e-01, -5.8192003e-01, -9.8414999e-01, -6.2278998e-01,\n",
       "       -1.2209500e+00,  2.6610035e-01, -6.1320001e-01, -2.3343500e-01],\n",
       "      dtype=float32)"
      ]
     },
     "execution_count": 20,
     "metadata": {},
     "output_type": "execute_result"
    }
   ],
   "source": [
    "meanv_sent(\"goose geese\")"
   ]
  },
  {
   "cell_type": "code",
   "execution_count": 21,
   "metadata": {},
   "outputs": [],
   "source": [
    "# cosine similarity\n",
    "\n",
    "def cosine(v1, v2):\n",
    "    if norm(v1) > 0 and norm(v2) > 0:\n",
    "        return dot(v1, v2) / (norm(v1) * norm(v2))\n",
    "    else:\n",
    "        return 0.0"
   ]
  },
  {
   "cell_type": "code",
   "execution_count": 22,
   "metadata": {},
   "outputs": [],
   "source": [
    "v=\"initially started whole organization scaled back use sales department works great putting information new leads one central location tracking use follow process initial contact sales beyond helps know currently importantly next fairly intuitive seems function well helps keep track new contacts Share information multiple users contacts updated able open see potential customer sales process Assigning tasks simple check EditWe issues contacts trouble integrating Google contacts sure bigger problem use plan limited data issues running space learned use better problem disappeared hit big problem The activity sets option nice feature found difficult learn The rest fairly straightforward took time functioned differently worth taking time learn guess process could simplified really liked tracking sales process well great place keep information new leads weed determine likely become sale really like activity sets well These allow set repeated activity use bit tweaking stated trouble figuring initially worth effort would stay away contacts want sync Google contacts two worked well Read Bil Thompson full review\""
   ]
  },
  {
   "cell_type": "code",
   "execution_count": 23,
   "metadata": {},
   "outputs": [
    {
     "data": {
      "text/plain": [
       "0.7360215"
      ]
     },
     "execution_count": 23,
     "metadata": {},
     "output_type": "execute_result"
    }
   ],
   "source": [
    "cosine((meanv_sent('Sales Force Automation Territory')), (meanv_sent(v)))"
   ]
  },
  {
   "cell_type": "markdown",
   "metadata": {},
   "source": [
    "### Building the Matrix"
   ]
  },
  {
   "cell_type": "code",
   "execution_count": 24,
   "metadata": {},
   "outputs": [],
   "source": [
    "df = pd.DataFrame(columns = final_feature)"
   ]
  },
  {
   "cell_type": "code",
   "execution_count": 25,
   "metadata": {},
   "outputs": [],
   "source": [
    "for i in range(len(final_review)):\n",
    "    df = df.append({'Security Single sign capability': i}, ignore_index=True)"
   ]
  },
  {
   "cell_type": "code",
   "execution_count": 26,
   "metadata": {},
   "outputs": [],
   "source": [
    "df.index=final_review"
   ]
  },
  {
   "cell_type": "code",
   "execution_count": 28,
   "metadata": {},
   "outputs": [
    {
     "data": {
      "text/plain": [
       "'Sales Force Automation Customer data contact'"
      ]
     },
     "execution_count": 28,
     "metadata": {},
     "output_type": "execute_result"
    }
   ],
   "source": [
    "df.columns[0]"
   ]
  },
  {
   "cell_type": "code",
   "execution_count": 29,
   "metadata": {},
   "outputs": [
    {
     "data": {
      "text/plain": [
       "'initially started whole organization scaled back use sales department works great putting information new leads one central location tracking use follow process initial contact sales beyond helps know currently importantly next fairly intuitive seems function well helps keep track new contacts Share information multiple users contacts updated able open see potential customer sales process Assigning tasks simple check EditWe issues contacts trouble integrating Google contacts sure bigger problem use plan limited data issues running space learned use better problem disappeared hit big problem The activity sets option nice feature found difficult learn The rest fairly straightforward took time functioned differently worth taking time learn guess process could simplified really liked tracking sales process well great place keep information new leads weed determine likely become sale really like activity sets well These allow set repeated activity use bit tweaking stated trouble figuring initially worth effort would stay away contacts want sync Google contacts two worked well Read Bil Thompson full review'"
      ]
     },
     "execution_count": 29,
     "metadata": {},
     "output_type": "execute_result"
    }
   ],
   "source": [
    "df.index[0]"
   ]
  },
  {
   "cell_type": "code",
   "execution_count": 31,
   "metadata": {},
   "outputs": [],
   "source": [
    "for i in range(0,len(df.columns)):\n",
    "    for j in range(0,len(df)):\n",
    "        df.iloc[j][i]=cosine(meanv_sent(df.index[j]), meanv_sent(df.columns[i])) "
   ]
  },
  {
   "cell_type": "code",
   "execution_count": 32,
   "metadata": {
    "scrolled": false
   },
   "outputs": [
    {
     "data": {
      "text/html": [
       "<div>\n",
       "<style scoped>\n",
       "    .dataframe tbody tr th:only-of-type {\n",
       "        vertical-align: middle;\n",
       "    }\n",
       "\n",
       "    .dataframe tbody tr th {\n",
       "        vertical-align: top;\n",
       "    }\n",
       "\n",
       "    .dataframe thead th {\n",
       "        text-align: right;\n",
       "    }\n",
       "</style>\n",
       "<table border=\"1\" class=\"dataframe\">\n",
       "  <thead>\n",
       "    <tr style=\"text-align: right;\">\n",
       "      <th></th>\n",
       "      <th>Sales Force Automation Customer data contact</th>\n",
       "      <th>Sales Force Automation Workflow</th>\n",
       "      <th>Sales Force Automation Territory</th>\n",
       "      <th>Sales Force Automation Opportunity</th>\n",
       "      <th>Sales Force Automation Integration email client Outlook Gmail</th>\n",
       "      <th>Sales Force Automation Quote order</th>\n",
       "      <th>Sales Force Automation Interaction tracking</th>\n",
       "      <th>Marketing Automation Lead</th>\n",
       "      <th>Marketing Automation Email marketing</th>\n",
       "      <th>CRM Project Management Task</th>\n",
       "      <th>...</th>\n",
       "      <th>Security Role based user permissions</th>\n",
       "      <th>Security Single sign capability</th>\n",
       "      <th>Integrations 3rd party Software Marketing automation</th>\n",
       "      <th>Platform Mobile access</th>\n",
       "      <th>Additional AICPA SOC Type Type audited accredited Privacy Shield Swiss Privacy Shield certified</th>\n",
       "      <th>Additional Data import export</th>\n",
       "      <th>Additional Two factor Authentication 2FA</th>\n",
       "      <th>Additional SAML based Single Sign SSO</th>\n",
       "      <th>Additional OAuth Single Sign SSO</th>\n",
       "      <th>Additional Audit Logs</th>\n",
       "    </tr>\n",
       "  </thead>\n",
       "  <tbody>\n",
       "    <tr>\n",
       "      <th>initially started whole organization scaled back use sales department works great putting information new leads one central location tracking use follow process initial contact sales beyond helps know currently importantly next fairly intuitive seems function well helps keep track new contacts Share information multiple users contacts updated able open see potential customer sales process Assigning tasks simple check EditWe issues contacts trouble integrating Google contacts sure bigger problem use plan limited data issues running space learned use better problem disappeared hit big problem The activity sets option nice feature found difficult learn The rest fairly straightforward took time functioned differently worth taking time learn guess process could simplified really liked tracking sales process well great place keep information new leads weed determine likely become sale really like activity sets well These allow set repeated activity use bit tweaking stated trouble figuring initially worth effort would stay away contacts want sync Google contacts two worked well Read Bil Thompson full review</th>\n",
       "      <td>0.802219</td>\n",
       "      <td>0.607808</td>\n",
       "      <td>0.736022</td>\n",
       "      <td>0.799392</td>\n",
       "      <td>0.707514</td>\n",
       "      <td>0.806870</td>\n",
       "      <td>0.750199</td>\n",
       "      <td>0.676338</td>\n",
       "      <td>0.556912</td>\n",
       "      <td>0.661721</td>\n",
       "      <td>...</td>\n",
       "      <td>0.821237</td>\n",
       "      <td>0.840217</td>\n",
       "      <td>0.659010</td>\n",
       "      <td>0.665413</td>\n",
       "      <td>0.651022</td>\n",
       "      <td>0.704456</td>\n",
       "      <td>0.800172</td>\n",
       "      <td>0.742397</td>\n",
       "      <td>0.654031</td>\n",
       "      <td>0.609618</td>\n",
       "    </tr>\n",
       "    <tr>\n",
       "      <th>using primarily sales team CRM system tracking organisations contacts opportunities future projects This information coupled budgets provide proverbial BIGGER PICTURE Organizational contact opportunity management able store relevant data three specific information areas particular progression opportunities custom phases big plus Great reports customizable department needs The easy user interface made transition previous product relatively pain free users Not say used wise old sage use EditIntegration Xero allow quote directly able view Xero quotes would also great able track quotes budget target Well suited client management Not well suited quoting Read Jeremy Grant full review</th>\n",
       "      <td>0.826542</td>\n",
       "      <td>0.647071</td>\n",
       "      <td>0.736574</td>\n",
       "      <td>0.810256</td>\n",
       "      <td>0.752699</td>\n",
       "      <td>0.824230</td>\n",
       "      <td>0.771297</td>\n",
       "      <td>0.698863</td>\n",
       "      <td>0.611353</td>\n",
       "      <td>0.699571</td>\n",
       "      <td>...</td>\n",
       "      <td>0.866792</td>\n",
       "      <td>0.849949</td>\n",
       "      <td>0.704812</td>\n",
       "      <td>0.714322</td>\n",
       "      <td>0.700232</td>\n",
       "      <td>0.749015</td>\n",
       "      <td>0.821416</td>\n",
       "      <td>0.776864</td>\n",
       "      <td>0.680909</td>\n",
       "      <td>0.653635</td>\n",
       "    </tr>\n",
       "    <tr>\n",
       "      <th>used whole sales department people Customer Success process manage Inbound Leads another process Outbound prospecting based Cold Emails The problem good tools prospecting cold emails every salesman create tasks follow ups That main reason changed CRM For Customer Success used Project tab allowed Project Manager Account Manager communicate process implementation salesman Link Sales Project ManagersStages opportunitiesEditManaging LeadsWorkflows task assignment well suited low budget small sales team work tasks manually much better working spreadsheet history leads lot integrations scale grow Read Ignacio Cruz full review</th>\n",
       "      <td>0.837457</td>\n",
       "      <td>0.684624</td>\n",
       "      <td>0.764918</td>\n",
       "      <td>0.833559</td>\n",
       "      <td>0.760574</td>\n",
       "      <td>0.825018</td>\n",
       "      <td>0.789942</td>\n",
       "      <td>0.744004</td>\n",
       "      <td>0.648484</td>\n",
       "      <td>0.754444</td>\n",
       "      <td>...</td>\n",
       "      <td>0.837091</td>\n",
       "      <td>0.832662</td>\n",
       "      <td>0.728918</td>\n",
       "      <td>0.674854</td>\n",
       "      <td>0.641189</td>\n",
       "      <td>0.731394</td>\n",
       "      <td>0.786942</td>\n",
       "      <td>0.744839</td>\n",
       "      <td>0.649087</td>\n",
       "      <td>0.648338</td>\n",
       "    </tr>\n",
       "    <tr>\n",
       "      <th>entertainment field always looking leads quarterly magazine really need way follow contacts keep information order Our social media team used needs little year starting free trial version switching Pro Simple point click lead creation Although people use sales use keep list contacts notes lot contacts featured magazine may met festival event Easy keep notes individual information EditThe mobile app lacking You need study system bit know use would recommend great project management tool large small businesses speak sales side software far project management great The reason would give email mobile work seeking You could time send email mobile app Since always feature must Read Ashia Ackov full review</th>\n",
       "      <td>0.793161</td>\n",
       "      <td>0.602710</td>\n",
       "      <td>0.724265</td>\n",
       "      <td>0.799701</td>\n",
       "      <td>0.727394</td>\n",
       "      <td>0.810489</td>\n",
       "      <td>0.731656</td>\n",
       "      <td>0.682670</td>\n",
       "      <td>0.590129</td>\n",
       "      <td>0.668376</td>\n",
       "      <td>...</td>\n",
       "      <td>0.823533</td>\n",
       "      <td>0.841427</td>\n",
       "      <td>0.689365</td>\n",
       "      <td>0.705370</td>\n",
       "      <td>0.675605</td>\n",
       "      <td>0.693119</td>\n",
       "      <td>0.783868</td>\n",
       "      <td>0.763202</td>\n",
       "      <td>0.665930</td>\n",
       "      <td>0.605860</td>\n",
       "    </tr>\n",
       "    <tr>\n",
       "      <th>use manage tasks projects keep track opportunities store information clients helps establish workflows clients acquisition delivery used whole organization Task ManagementGoogle Apps IntegrationLow barrier entryEditWould love mailing automationOur organization started free plan upgraded paid plan downgrade This immediately clear signed information said upgrade downgrade necessary Apparently true want move away paid service need automated sales solution may worth trying free option see fits company Infusionsoft might speed looking automated sales help Read Nicholas Salvo full review</th>\n",
       "      <td>0.827254</td>\n",
       "      <td>0.651664</td>\n",
       "      <td>0.757229</td>\n",
       "      <td>0.832740</td>\n",
       "      <td>0.759820</td>\n",
       "      <td>0.841292</td>\n",
       "      <td>0.759875</td>\n",
       "      <td>0.700128</td>\n",
       "      <td>0.621559</td>\n",
       "      <td>0.707113</td>\n",
       "      <td>...</td>\n",
       "      <td>0.836545</td>\n",
       "      <td>0.864699</td>\n",
       "      <td>0.693458</td>\n",
       "      <td>0.707066</td>\n",
       "      <td>0.683617</td>\n",
       "      <td>0.739991</td>\n",
       "      <td>0.787796</td>\n",
       "      <td>0.771419</td>\n",
       "      <td>0.685263</td>\n",
       "      <td>0.645326</td>\n",
       "    </tr>\n",
       "    <tr>\n",
       "      <th>used across departments part sales sales processes helped collect manage data across services integrated portal web page pull potential client data arranged data system manually per category business forwarded specific team carry sales function managed process via pipelines reports feature portal also used filter data marketing campaigns integrated external systems like Mailchimp Being SME helped business lot organise data streamline operations Notifications reminders helps top things phone application useful user friendly efficient EditMass emails restricts number emails one Look feel organised perfect CRM system capture organise data efficient marketing activities well allows send emails save documents attachments system every contact respectively good tool company draw execute sales sales processes multiple levels functions makes easier allocate access data different levels organisation Read Saurabh More full review</th>\n",
       "      <td>0.883749</td>\n",
       "      <td>0.720477</td>\n",
       "      <td>0.770781</td>\n",
       "      <td>0.829438</td>\n",
       "      <td>0.811040</td>\n",
       "      <td>0.839370</td>\n",
       "      <td>0.835343</td>\n",
       "      <td>0.728535</td>\n",
       "      <td>0.688465</td>\n",
       "      <td>0.708489</td>\n",
       "      <td>...</td>\n",
       "      <td>0.866767</td>\n",
       "      <td>0.822766</td>\n",
       "      <td>0.759224</td>\n",
       "      <td>0.760385</td>\n",
       "      <td>0.711082</td>\n",
       "      <td>0.783637</td>\n",
       "      <td>0.818926</td>\n",
       "      <td>0.763801</td>\n",
       "      <td>0.671284</td>\n",
       "      <td>0.706519</td>\n",
       "    </tr>\n",
       "    <tr>\n",
       "      <th>use organize universities work also use task management system helpful use daily basis Each school different really easy look information Task ManagementHub informationEditThe design could little appealing little user friendly pretty use also tech savvy Well suited task management organizing information universities able add notes comments certain segments Read Cassandra Begin full review</th>\n",
       "      <td>0.783670</td>\n",
       "      <td>0.612874</td>\n",
       "      <td>0.699738</td>\n",
       "      <td>0.785819</td>\n",
       "      <td>0.707090</td>\n",
       "      <td>0.794341</td>\n",
       "      <td>0.737433</td>\n",
       "      <td>0.684380</td>\n",
       "      <td>0.603863</td>\n",
       "      <td>0.698898</td>\n",
       "      <td>...</td>\n",
       "      <td>0.840190</td>\n",
       "      <td>0.817082</td>\n",
       "      <td>0.687799</td>\n",
       "      <td>0.674263</td>\n",
       "      <td>0.682889</td>\n",
       "      <td>0.692534</td>\n",
       "      <td>0.787277</td>\n",
       "      <td>0.734805</td>\n",
       "      <td>0.633196</td>\n",
       "      <td>0.630215</td>\n",
       "    </tr>\n",
       "    <tr>\n",
       "      <th>used Microsoft Office suite integrations aiding project management tracking emails addresses well CRM tools Out box integrations major communication office tools Inbuilt reporting tools useful viewing data glance Low cost useful start ups medium businesses EditIts target audience seems smaller businesses despite tools available applicable larger industries Different account levels filter much tools allowing users access less intended Some free tools offer functionality despite losing professional aesthetic For start ups medium sized businesses tool perfect CRM project management wish people knew However large businesses infrastructure contracts already place may issue migrate Read Alexander Cooper full review</th>\n",
       "      <td>0.853056</td>\n",
       "      <td>0.698770</td>\n",
       "      <td>0.762596</td>\n",
       "      <td>0.836578</td>\n",
       "      <td>0.782453</td>\n",
       "      <td>0.825880</td>\n",
       "      <td>0.809412</td>\n",
       "      <td>0.728663</td>\n",
       "      <td>0.661455</td>\n",
       "      <td>0.717400</td>\n",
       "      <td>...</td>\n",
       "      <td>0.847656</td>\n",
       "      <td>0.826405</td>\n",
       "      <td>0.743027</td>\n",
       "      <td>0.752231</td>\n",
       "      <td>0.700076</td>\n",
       "      <td>0.763868</td>\n",
       "      <td>0.820102</td>\n",
       "      <td>0.750537</td>\n",
       "      <td>0.660305</td>\n",
       "      <td>0.668369</td>\n",
       "    </tr>\n",
       "    <tr>\n",
       "      <th>The product used Marketing Sales team manage lead data prospect information sales forecasting well pipeline management For visibility fiscal quarter important lack tool like posed problem Therefore decided use necessary features wanted Seamless management Marketing Sales processIntegration MailChimpDashboards allow take knowledge based actionsCross functional team communication smoothEditIt needs visual overhaul user experience sometimes affected due outdated designLimitations around restricting access certain parts application unrelated usersThe calendar buggy times pick information based meetings calls scheduled outside allows companies manage sales contacts projects opportunities client fulfillment clean efficient user friendly way For companies managing lots clients different stages fulfillment pipeline feature helps team members involved know exactly need Read Kunal Garg full review</th>\n",
       "      <td>0.851144</td>\n",
       "      <td>0.695063</td>\n",
       "      <td>0.773190</td>\n",
       "      <td>0.846251</td>\n",
       "      <td>0.776276</td>\n",
       "      <td>0.832470</td>\n",
       "      <td>0.803761</td>\n",
       "      <td>0.751073</td>\n",
       "      <td>0.660635</td>\n",
       "      <td>0.735958</td>\n",
       "      <td>...</td>\n",
       "      <td>0.866003</td>\n",
       "      <td>0.843630</td>\n",
       "      <td>0.737397</td>\n",
       "      <td>0.720676</td>\n",
       "      <td>0.688346</td>\n",
       "      <td>0.766428</td>\n",
       "      <td>0.812246</td>\n",
       "      <td>0.758370</td>\n",
       "      <td>0.658417</td>\n",
       "      <td>0.653558</td>\n",
       "    </tr>\n",
       "    <tr>\n",
       "      <th>Our team lookout one marketing tool years ago heard immediately inquired demo immediately got onboard mainly use communication tool clients prospective clients also internally love reports generated manually track campaigns definitely say decision get board rewarding Lead journey smart tracking Reporting EditAutomated reporting Software integration works well organization things manually The application help create track campaigns ease provide great reporting The email features great addition well would say one features would like see application software integration API branding capabilities For works organization Read Michael Rubio full review</th>\n",
       "      <td>0.805974</td>\n",
       "      <td>0.636742</td>\n",
       "      <td>0.732015</td>\n",
       "      <td>0.806302</td>\n",
       "      <td>0.746503</td>\n",
       "      <td>0.808802</td>\n",
       "      <td>0.758355</td>\n",
       "      <td>0.707470</td>\n",
       "      <td>0.625646</td>\n",
       "      <td>0.714733</td>\n",
       "      <td>...</td>\n",
       "      <td>0.856065</td>\n",
       "      <td>0.840018</td>\n",
       "      <td>0.709687</td>\n",
       "      <td>0.704946</td>\n",
       "      <td>0.679981</td>\n",
       "      <td>0.698126</td>\n",
       "      <td>0.798615</td>\n",
       "      <td>0.762102</td>\n",
       "      <td>0.661666</td>\n",
       "      <td>0.635828</td>\n",
       "    </tr>\n",
       "  </tbody>\n",
       "</table>\n",
       "<p>10 rows × 26 columns</p>\n",
       "</div>"
      ],
      "text/plain": [
       "                                                    Sales Force Automation Customer data contact  \\\n",
       "initially started whole organization scaled bac...                                      0.802219   \n",
       "using primarily sales team CRM system tracking ...                                      0.826542   \n",
       "used whole sales department people Customer Suc...                                      0.837457   \n",
       "entertainment field always looking leads quarte...                                      0.793161   \n",
       "use manage tasks projects keep track opportunit...                                      0.827254   \n",
       "used across departments part sales sales proces...                                      0.883749   \n",
       "use organize universities work also use task ma...                                      0.783670   \n",
       "used Microsoft Office suite integrations aiding...                                      0.853056   \n",
       "The product used Marketing Sales team manage le...                                      0.851144   \n",
       "Our team lookout one marketing tool years ago h...                                      0.805974   \n",
       "\n",
       "                                                    Sales Force Automation Workflow  \\\n",
       "initially started whole organization scaled bac...                         0.607808   \n",
       "using primarily sales team CRM system tracking ...                         0.647071   \n",
       "used whole sales department people Customer Suc...                         0.684624   \n",
       "entertainment field always looking leads quarte...                         0.602710   \n",
       "use manage tasks projects keep track opportunit...                         0.651664   \n",
       "used across departments part sales sales proces...                         0.720477   \n",
       "use organize universities work also use task ma...                         0.612874   \n",
       "used Microsoft Office suite integrations aiding...                         0.698770   \n",
       "The product used Marketing Sales team manage le...                         0.695063   \n",
       "Our team lookout one marketing tool years ago h...                         0.636742   \n",
       "\n",
       "                                                    Sales Force Automation Territory  \\\n",
       "initially started whole organization scaled bac...                          0.736022   \n",
       "using primarily sales team CRM system tracking ...                          0.736574   \n",
       "used whole sales department people Customer Suc...                          0.764918   \n",
       "entertainment field always looking leads quarte...                          0.724265   \n",
       "use manage tasks projects keep track opportunit...                          0.757229   \n",
       "used across departments part sales sales proces...                          0.770781   \n",
       "use organize universities work also use task ma...                          0.699738   \n",
       "used Microsoft Office suite integrations aiding...                          0.762596   \n",
       "The product used Marketing Sales team manage le...                          0.773190   \n",
       "Our team lookout one marketing tool years ago h...                          0.732015   \n",
       "\n",
       "                                                    Sales Force Automation Opportunity  \\\n",
       "initially started whole organization scaled bac...                            0.799392   \n",
       "using primarily sales team CRM system tracking ...                            0.810256   \n",
       "used whole sales department people Customer Suc...                            0.833559   \n",
       "entertainment field always looking leads quarte...                            0.799701   \n",
       "use manage tasks projects keep track opportunit...                            0.832740   \n",
       "used across departments part sales sales proces...                            0.829438   \n",
       "use organize universities work also use task ma...                            0.785819   \n",
       "used Microsoft Office suite integrations aiding...                            0.836578   \n",
       "The product used Marketing Sales team manage le...                            0.846251   \n",
       "Our team lookout one marketing tool years ago h...                            0.806302   \n",
       "\n",
       "                                                    Sales Force Automation Integration email client Outlook Gmail  \\\n",
       "initially started whole organization scaled bac...                                           0.707514               \n",
       "using primarily sales team CRM system tracking ...                                           0.752699               \n",
       "used whole sales department people Customer Suc...                                           0.760574               \n",
       "entertainment field always looking leads quarte...                                           0.727394               \n",
       "use manage tasks projects keep track opportunit...                                           0.759820               \n",
       "used across departments part sales sales proces...                                           0.811040               \n",
       "use organize universities work also use task ma...                                           0.707090               \n",
       "used Microsoft Office suite integrations aiding...                                           0.782453               \n",
       "The product used Marketing Sales team manage le...                                           0.776276               \n",
       "Our team lookout one marketing tool years ago h...                                           0.746503               \n",
       "\n",
       "                                                    Sales Force Automation Quote order  \\\n",
       "initially started whole organization scaled bac...                            0.806870   \n",
       "using primarily sales team CRM system tracking ...                            0.824230   \n",
       "used whole sales department people Customer Suc...                            0.825018   \n",
       "entertainment field always looking leads quarte...                            0.810489   \n",
       "use manage tasks projects keep track opportunit...                            0.841292   \n",
       "used across departments part sales sales proces...                            0.839370   \n",
       "use organize universities work also use task ma...                            0.794341   \n",
       "used Microsoft Office suite integrations aiding...                            0.825880   \n",
       "The product used Marketing Sales team manage le...                            0.832470   \n",
       "Our team lookout one marketing tool years ago h...                            0.808802   \n",
       "\n",
       "                                                    Sales Force Automation Interaction tracking  \\\n",
       "initially started whole organization scaled bac...                                     0.750199   \n",
       "using primarily sales team CRM system tracking ...                                     0.771297   \n",
       "used whole sales department people Customer Suc...                                     0.789942   \n",
       "entertainment field always looking leads quarte...                                     0.731656   \n",
       "use manage tasks projects keep track opportunit...                                     0.759875   \n",
       "used across departments part sales sales proces...                                     0.835343   \n",
       "use organize universities work also use task ma...                                     0.737433   \n",
       "used Microsoft Office suite integrations aiding...                                     0.809412   \n",
       "The product used Marketing Sales team manage le...                                     0.803761   \n",
       "Our team lookout one marketing tool years ago h...                                     0.758355   \n",
       "\n",
       "                                                    Marketing Automation Lead  \\\n",
       "initially started whole organization scaled bac...                   0.676338   \n",
       "using primarily sales team CRM system tracking ...                   0.698863   \n",
       "used whole sales department people Customer Suc...                   0.744004   \n",
       "entertainment field always looking leads quarte...                   0.682670   \n",
       "use manage tasks projects keep track opportunit...                   0.700128   \n",
       "used across departments part sales sales proces...                   0.728535   \n",
       "use organize universities work also use task ma...                   0.684380   \n",
       "used Microsoft Office suite integrations aiding...                   0.728663   \n",
       "The product used Marketing Sales team manage le...                   0.751073   \n",
       "Our team lookout one marketing tool years ago h...                   0.707470   \n",
       "\n",
       "                                                    Marketing Automation Email marketing  \\\n",
       "initially started whole organization scaled bac...                              0.556912   \n",
       "using primarily sales team CRM system tracking ...                              0.611353   \n",
       "used whole sales department people Customer Suc...                              0.648484   \n",
       "entertainment field always looking leads quarte...                              0.590129   \n",
       "use manage tasks projects keep track opportunit...                              0.621559   \n",
       "used across departments part sales sales proces...                              0.688465   \n",
       "use organize universities work also use task ma...                              0.603863   \n",
       "used Microsoft Office suite integrations aiding...                              0.661455   \n",
       "The product used Marketing Sales team manage le...                              0.660635   \n",
       "Our team lookout one marketing tool years ago h...                              0.625646   \n",
       "\n",
       "                                                    CRM Project Management Task  \\\n",
       "initially started whole organization scaled bac...                     0.661721   \n",
       "using primarily sales team CRM system tracking ...                     0.699571   \n",
       "used whole sales department people Customer Suc...                     0.754444   \n",
       "entertainment field always looking leads quarte...                     0.668376   \n",
       "use manage tasks projects keep track opportunit...                     0.707113   \n",
       "used across departments part sales sales proces...                     0.708489   \n",
       "use organize universities work also use task ma...                     0.698898   \n",
       "used Microsoft Office suite integrations aiding...                     0.717400   \n",
       "The product used Marketing Sales team manage le...                     0.735958   \n",
       "Our team lookout one marketing tool years ago h...                     0.714733   \n",
       "\n",
       "                                                    ...  \\\n",
       "initially started whole organization scaled bac...  ...   \n",
       "using primarily sales team CRM system tracking ...  ...   \n",
       "used whole sales department people Customer Suc...  ...   \n",
       "entertainment field always looking leads quarte...  ...   \n",
       "use manage tasks projects keep track opportunit...  ...   \n",
       "used across departments part sales sales proces...  ...   \n",
       "use organize universities work also use task ma...  ...   \n",
       "used Microsoft Office suite integrations aiding...  ...   \n",
       "The product used Marketing Sales team manage le...  ...   \n",
       "Our team lookout one marketing tool years ago h...  ...   \n",
       "\n",
       "                                                    Security Role based user permissions  \\\n",
       "initially started whole organization scaled bac...                              0.821237   \n",
       "using primarily sales team CRM system tracking ...                              0.866792   \n",
       "used whole sales department people Customer Suc...                              0.837091   \n",
       "entertainment field always looking leads quarte...                              0.823533   \n",
       "use manage tasks projects keep track opportunit...                              0.836545   \n",
       "used across departments part sales sales proces...                              0.866767   \n",
       "use organize universities work also use task ma...                              0.840190   \n",
       "used Microsoft Office suite integrations aiding...                              0.847656   \n",
       "The product used Marketing Sales team manage le...                              0.866003   \n",
       "Our team lookout one marketing tool years ago h...                              0.856065   \n",
       "\n",
       "                                                    Security Single sign capability  \\\n",
       "initially started whole organization scaled bac...                         0.840217   \n",
       "using primarily sales team CRM system tracking ...                         0.849949   \n",
       "used whole sales department people Customer Suc...                         0.832662   \n",
       "entertainment field always looking leads quarte...                         0.841427   \n",
       "use manage tasks projects keep track opportunit...                         0.864699   \n",
       "used across departments part sales sales proces...                         0.822766   \n",
       "use organize universities work also use task ma...                         0.817082   \n",
       "used Microsoft Office suite integrations aiding...                         0.826405   \n",
       "The product used Marketing Sales team manage le...                         0.843630   \n",
       "Our team lookout one marketing tool years ago h...                         0.840018   \n",
       "\n",
       "                                                    Integrations 3rd party Software Marketing automation  \\\n",
       "initially started whole organization scaled bac...                                           0.659010      \n",
       "using primarily sales team CRM system tracking ...                                           0.704812      \n",
       "used whole sales department people Customer Suc...                                           0.728918      \n",
       "entertainment field always looking leads quarte...                                           0.689365      \n",
       "use manage tasks projects keep track opportunit...                                           0.693458      \n",
       "used across departments part sales sales proces...                                           0.759224      \n",
       "use organize universities work also use task ma...                                           0.687799      \n",
       "used Microsoft Office suite integrations aiding...                                           0.743027      \n",
       "The product used Marketing Sales team manage le...                                           0.737397      \n",
       "Our team lookout one marketing tool years ago h...                                           0.709687      \n",
       "\n",
       "                                                    Platform Mobile access  \\\n",
       "initially started whole organization scaled bac...                0.665413   \n",
       "using primarily sales team CRM system tracking ...                0.714322   \n",
       "used whole sales department people Customer Suc...                0.674854   \n",
       "entertainment field always looking leads quarte...                0.705370   \n",
       "use manage tasks projects keep track opportunit...                0.707066   \n",
       "used across departments part sales sales proces...                0.760385   \n",
       "use organize universities work also use task ma...                0.674263   \n",
       "used Microsoft Office suite integrations aiding...                0.752231   \n",
       "The product used Marketing Sales team manage le...                0.720676   \n",
       "Our team lookout one marketing tool years ago h...                0.704946   \n",
       "\n",
       "                                                    Additional AICPA SOC Type Type audited accredited Privacy Shield Swiss Privacy Shield certified  \\\n",
       "initially started whole organization scaled bac...                                           0.651022                                                 \n",
       "using primarily sales team CRM system tracking ...                                           0.700232                                                 \n",
       "used whole sales department people Customer Suc...                                           0.641189                                                 \n",
       "entertainment field always looking leads quarte...                                           0.675605                                                 \n",
       "use manage tasks projects keep track opportunit...                                           0.683617                                                 \n",
       "used across departments part sales sales proces...                                           0.711082                                                 \n",
       "use organize universities work also use task ma...                                           0.682889                                                 \n",
       "used Microsoft Office suite integrations aiding...                                           0.700076                                                 \n",
       "The product used Marketing Sales team manage le...                                           0.688346                                                 \n",
       "Our team lookout one marketing tool years ago h...                                           0.679981                                                 \n",
       "\n",
       "                                                    Additional Data import export  \\\n",
       "initially started whole organization scaled bac...                       0.704456   \n",
       "using primarily sales team CRM system tracking ...                       0.749015   \n",
       "used whole sales department people Customer Suc...                       0.731394   \n",
       "entertainment field always looking leads quarte...                       0.693119   \n",
       "use manage tasks projects keep track opportunit...                       0.739991   \n",
       "used across departments part sales sales proces...                       0.783637   \n",
       "use organize universities work also use task ma...                       0.692534   \n",
       "used Microsoft Office suite integrations aiding...                       0.763868   \n",
       "The product used Marketing Sales team manage le...                       0.766428   \n",
       "Our team lookout one marketing tool years ago h...                       0.698126   \n",
       "\n",
       "                                                    Additional Two factor Authentication 2FA  \\\n",
       "initially started whole organization scaled bac...                                  0.800172   \n",
       "using primarily sales team CRM system tracking ...                                  0.821416   \n",
       "used whole sales department people Customer Suc...                                  0.786942   \n",
       "entertainment field always looking leads quarte...                                  0.783868   \n",
       "use manage tasks projects keep track opportunit...                                  0.787796   \n",
       "used across departments part sales sales proces...                                  0.818926   \n",
       "use organize universities work also use task ma...                                  0.787277   \n",
       "used Microsoft Office suite integrations aiding...                                  0.820102   \n",
       "The product used Marketing Sales team manage le...                                  0.812246   \n",
       "Our team lookout one marketing tool years ago h...                                  0.798615   \n",
       "\n",
       "                                                    Additional SAML based Single Sign SSO  \\\n",
       "initially started whole organization scaled bac...                               0.742397   \n",
       "using primarily sales team CRM system tracking ...                               0.776864   \n",
       "used whole sales department people Customer Suc...                               0.744839   \n",
       "entertainment field always looking leads quarte...                               0.763202   \n",
       "use manage tasks projects keep track opportunit...                               0.771419   \n",
       "used across departments part sales sales proces...                               0.763801   \n",
       "use organize universities work also use task ma...                               0.734805   \n",
       "used Microsoft Office suite integrations aiding...                               0.750537   \n",
       "The product used Marketing Sales team manage le...                               0.758370   \n",
       "Our team lookout one marketing tool years ago h...                               0.762102   \n",
       "\n",
       "                                                    Additional OAuth Single Sign SSO  \\\n",
       "initially started whole organization scaled bac...                          0.654031   \n",
       "using primarily sales team CRM system tracking ...                          0.680909   \n",
       "used whole sales department people Customer Suc...                          0.649087   \n",
       "entertainment field always looking leads quarte...                          0.665930   \n",
       "use manage tasks projects keep track opportunit...                          0.685263   \n",
       "used across departments part sales sales proces...                          0.671284   \n",
       "use organize universities work also use task ma...                          0.633196   \n",
       "used Microsoft Office suite integrations aiding...                          0.660305   \n",
       "The product used Marketing Sales team manage le...                          0.658417   \n",
       "Our team lookout one marketing tool years ago h...                          0.661666   \n",
       "\n",
       "                                                    Additional Audit Logs  \n",
       "initially started whole organization scaled bac...               0.609618  \n",
       "using primarily sales team CRM system tracking ...               0.653635  \n",
       "used whole sales department people Customer Suc...               0.648338  \n",
       "entertainment field always looking leads quarte...               0.605860  \n",
       "use manage tasks projects keep track opportunit...               0.645326  \n",
       "used across departments part sales sales proces...               0.706519  \n",
       "use organize universities work also use task ma...               0.630215  \n",
       "used Microsoft Office suite integrations aiding...               0.668369  \n",
       "The product used Marketing Sales team manage le...               0.653558  \n",
       "Our team lookout one marketing tool years ago h...               0.635828  \n",
       "\n",
       "[10 rows x 26 columns]"
      ]
     },
     "execution_count": 32,
     "metadata": {},
     "output_type": "execute_result"
    }
   ],
   "source": [
    "df.head(10)"
   ]
  },
  {
   "cell_type": "code",
   "execution_count": null,
   "metadata": {},
   "outputs": [],
   "source": []
  }
 ],
 "metadata": {
  "kernelspec": {
   "display_name": "Python 3",
   "language": "python",
   "name": "python3"
  },
  "language_info": {
   "codemirror_mode": {
    "name": "ipython",
    "version": 3
   },
   "file_extension": ".py",
   "mimetype": "text/x-python",
   "name": "python",
   "nbconvert_exporter": "python",
   "pygments_lexer": "ipython3",
   "version": "3.7.3"
  }
 },
 "nbformat": 4,
 "nbformat_minor": 4
}
