{
 "cells": [
  {
   "cell_type": "markdown",
   "metadata": {},
   "source": [
    "**USE CASE:**\n",
    "    \n",
    "There will be thousands of reviews, you would like to know how much is a review relavant to the product feature.\n",
    "\n",
    "Suppose you get a review : \"The phone camera is awesome\"\n",
    "    \n",
    "Your product features/specs mentioned has (camera, NETWORK, MEMORY,SOUND, Battery etc).\n",
    "By finding the similarity between the review and product feature you can know the most reviewed feature and how positive and nagative(sentiment analysis, in other project)"
   ]
  },
  {
   "cell_type": "code",
   "execution_count": 1,
   "metadata": {},
   "outputs": [],
   "source": [
    "import requests\n",
    "from bs4 import BeautifulSoup\n",
    "\n",
    "import spacy\n",
    "nlp=spacy.load(\"en_core_web_sm\")\n",
    "\n",
    "import warnings\n",
    "warnings.filterwarnings(\"ignore\")\n",
    "\n",
    "import re\n",
    "from numpy.linalg import norm\n",
    "from numpy import dot\n",
    "\n",
    "import pandas as pd\n",
    "import numpy as np\n",
    "\n",
    "from nltk.corpus import stopwords\n",
    "stop_words = stopwords.words('english')\n",
    "from nltk import FreqDist\n",
    "\n",
    "import matplotlib.pyplot as plt\n",
    "import seaborn as sns\n",
    "%matplotlib inline"
   ]
  },
  {
   "cell_type": "markdown",
   "metadata": {},
   "source": [
    "## Extracting the products"
   ]
  },
  {
   "cell_type": "code",
   "execution_count": 2,
   "metadata": {},
   "outputs": [],
   "source": [
    "tr_link1=\"https://www.trustradius.com/crm?f=0&s=237\"\n",
    "link1=requests.get(tr_link1).text\n",
    "\n",
    "tr_link2=\"https://www.trustradius.com/crm?f=100&s=237\"\n",
    "link2=requests.get(tr_link2).text\n",
    "\n",
    "tr_link3=\"https://www.trustradius.com/crm?f=200&s=100\"\n",
    "link3=requests.get(tr_link3).text\n",
    "\n",
    "links=[link1,link2,link3]\n",
    "\n",
    "product_list=[]\n",
    "\n",
    "for i in links:\n",
    "    soup=BeautifulSoup(i,\"lxml\")\n",
    "    for tag in soup.find_all(True, {'class':['product-link']}):\n",
    "    \n",
    "        if tag.name==\"a\" and tag.string!=None: \n",
    "            product_list.append(tag.string)"
   ]
  },
  {
   "cell_type": "code",
   "execution_count": 3,
   "metadata": {},
   "outputs": [
    {
     "data": {
      "text/plain": [
       "0"
      ]
     },
     "execution_count": 3,
     "metadata": {},
     "output_type": "execute_result"
    }
   ],
   "source": [
    "len(list(set(product_list)))"
   ]
  },
  {
   "cell_type": "markdown",
   "metadata": {},
   "source": [
    "## Product \"Insightly\" Features"
   ]
  },
  {
   "cell_type": "code",
   "execution_count": 4,
   "metadata": {},
   "outputs": [],
   "source": [
    "feature_url=\"https://www.trustradius.com/products/insightly/reviews#1\"\n",
    "soup=BeautifulSoup(requests.get(feature_url).text,\"lxml\")"
   ]
  },
  {
   "cell_type": "code",
   "execution_count": 5,
   "metadata": {},
   "outputs": [],
   "source": [
    "features=[]\n",
    "\n",
    "for tag in soup.find_all(True, {'class':'supported-feature'}):\n",
    "    \n",
    "    if tag.name==\"div\":\n",
    "        features.append(tag.text[11:])    "
   ]
  },
  {
   "cell_type": "code",
   "execution_count": 6,
   "metadata": {},
   "outputs": [
    {
     "data": {
      "text/plain": [
       "['Customer data management / contact management',\n",
       " 'Workflow management',\n",
       " 'Territory management',\n",
       " 'Opportunity management',\n",
       " 'Integration with email client (e.g., Outlook or Gmail)',\n",
       " 'Quote & order management',\n",
       " 'Interaction tracking',\n",
       " 'Lead management',\n",
       " 'Email marketing',\n",
       " 'Task management',\n",
       " 'Reporting',\n",
       " 'Pipeline visualization',\n",
       " 'Customizable reports',\n",
       " 'Custom fields',\n",
       " 'Custom objects',\n",
       " 'API for custom integration',\n",
       " 'Role-based user permissions',\n",
       " 'Single sign-on capability',\n",
       " 'Marketing automation',\n",
       " 'Mobile access',\n",
       " 'AICPA SOC II Type 1 and Type 2 audited and accredited, and US/EU Privacy Shield and US/Swiss Privacy Shield certified.',\n",
       " 'Data import & export',\n",
       " 'Two-factor Authentication (2FA)',\n",
       " 'SAML-based Single Sign-On (SSO)',\n",
       " 'OAuth Single Sign-On (SSO)',\n",
       " 'Audit Logs']"
      ]
     },
     "execution_count": 6,
     "metadata": {},
     "output_type": "execute_result"
    }
   ],
   "source": [
    "features"
   ]
  },
  {
   "cell_type": "markdown",
   "metadata": {},
   "source": [
    "## Reviews Extraction"
   ]
  },
  {
   "cell_type": "code",
   "execution_count": 7,
   "metadata": {},
   "outputs": [],
   "source": [
    "reviews_url=\"https://www.trustradius.com/products/insightly/reviews?f=\"\n",
    "reviews_url1=requests.get(reviews_url).text"
   ]
  },
  {
   "cell_type": "code",
   "execution_count": 8,
   "metadata": {},
   "outputs": [],
   "source": [
    "list_of_links=[]\n",
    "for i in range(0,350,25):\n",
    "    \n",
    "    final_link=(reviews_url+str(i))\n",
    "    final_link=requests.get(final_link).text\n",
    "    list_of_links.append(final_link)   "
   ]
  },
  {
   "cell_type": "code",
   "execution_count": 9,
   "metadata": {},
   "outputs": [
    {
     "data": {
      "text/plain": [
       "317"
      ]
     },
     "execution_count": 9,
     "metadata": {},
     "output_type": "execute_result"
    }
   ],
   "source": [
    "reviews=[]\n",
    "for i in list_of_links:\n",
    "    soup=BeautifulSoup(i,\"lxml\")\n",
    "    for tag in soup.find_all(True,{'class':['review-questions']}):\n",
    "\n",
    "        if tag.name==\"div\":   \n",
    "            reviews.append(tag.text[30:].replace(\"Likelihood to Recommend\",\" \").replace(\"Pros and Cons\",\" \"))            \n",
    "len(reviews)"
   ]
  },
  {
   "cell_type": "code",
   "execution_count": 10,
   "metadata": {},
   "outputs": [
    {
     "data": {
      "text/plain": [
       "'We\\'re using Insightly primarily for our sales team as a CRM system, tracking organisations, contacts, opportunities and in the future, projects.This information is coupled with our budgets to provide the proverbial \"BIGGER PICTURE\" Organizational, contact and opportunity management. We\\'re able to store relevant data about all three specific information areas. In particular, the progression of opportunities through custom phases is a big plus for us.Great reports that are customizable to my department\\'s needs.The easy user interface made the transition from our previous product relatively pain free for our users. Not to say what we used, but you had to be a wise old \\'sage\\' to use it...EditIntegration to Xero should allow us to quote directly from Insightly, or be able to view our Xero quotes in Insightly.It would also be great to be able to track quotes against a budget or target! Well suited to client management.Not too well suited to quoting!Read Jeremy Grant\\'s full review'"
      ]
     },
     "execution_count": 10,
     "metadata": {},
     "output_type": "execute_result"
    }
   ],
   "source": [
    "reviews[1]"
   ]
  },
  {
   "cell_type": "markdown",
   "metadata": {},
   "source": [
    "## Removing Stopwords and tokenisation"
   ]
  },
  {
   "cell_type": "code",
   "execution_count": 11,
   "metadata": {},
   "outputs": [],
   "source": [
    "final_feature_list=[]\n",
    "final_feature=[]\n",
    "for i in features:\n",
    "    token_words=[]\n",
    "    i=re.sub(\"\\W+\",\" \",i)\n",
    "    for j in i.split(\" \"):\n",
    "        if j not in stop_words and len(j)>2:\n",
    "            token_words.append(j)\n",
    "    final_feature_list.append(token_words)\n",
    "    final_feature.append(\" \".join(token_words))"
   ]
  },
  {
   "cell_type": "code",
   "execution_count": 12,
   "metadata": {},
   "outputs": [
    {
     "data": {
      "text/plain": [
       "['Customer data management contact management',\n",
       " 'Workflow management',\n",
       " 'Territory management',\n",
       " 'Opportunity management',\n",
       " 'Integration email client Outlook Gmail',\n",
       " 'Quote order management',\n",
       " 'Interaction tracking',\n",
       " 'Lead management',\n",
       " 'Email marketing',\n",
       " 'Task management',\n",
       " 'Reporting',\n",
       " 'Pipeline visualization',\n",
       " 'Customizable reports',\n",
       " 'Custom fields',\n",
       " 'Custom objects',\n",
       " 'API custom integration',\n",
       " 'Role based user permissions',\n",
       " 'Single sign capability',\n",
       " 'Marketing automation',\n",
       " 'Mobile access',\n",
       " 'AICPA SOC Type Type audited accredited Privacy Shield Swiss Privacy Shield certified',\n",
       " 'Data import export',\n",
       " 'Two factor Authentication 2FA',\n",
       " 'SAML based Single Sign SSO',\n",
       " 'OAuth Single Sign SSO',\n",
       " 'Audit Logs']"
      ]
     },
     "execution_count": 12,
     "metadata": {},
     "output_type": "execute_result"
    }
   ],
   "source": [
    "final_feature"
   ]
  },
  {
   "cell_type": "code",
   "execution_count": 13,
   "metadata": {},
   "outputs": [],
   "source": [
    "final_review_list=[]\n",
    "final_review=[]\n",
    "\n",
    "for i in reviews:\n",
    "    token_words=[]\n",
    "    i=re.sub(\"\\W+\",\" \",i)\n",
    "    for j in i.split(\" \"):\n",
    "        if j not in stop_words and len(j)>2 and j.lower()!=\"insightly\":\n",
    "            token_words.append(j)\n",
    "    final_review_list.append(token_words)\n",
    "    final_review.append(\" \".join(token_words))"
   ]
  },
  {
   "cell_type": "markdown",
   "metadata": {},
   "source": [
    "## Plotting Most Frequent words"
   ]
  },
  {
   "cell_type": "code",
   "execution_count": 14,
   "metadata": {},
   "outputs": [],
   "source": [
    "def freq_words(x, terms = 30):\n",
    "    words=\" \"\n",
    "    for j in x:\n",
    "        for i in j:\n",
    "            words=words+i+\" \"\n",
    "    \n",
    "    words = words.split()\n",
    "\n",
    "    fdist = FreqDist(words)\n",
    "    words_df = pd.DataFrame({'word':list(fdist.keys()), 'count':list(fdist.values())})\n",
    "\n",
    "    # selecting top 20 most frequent words\n",
    "    d = words_df.nlargest(columns=\"count\", n = terms) \n",
    "    plt.figure(figsize=(20,5))\n",
    "    ax = sns.barplot(data=d, x= \"word\", y = \"count\")\n",
    "    ax.set(ylabel = 'Count')\n",
    "    plt.show()"
   ]
  },
  {
   "cell_type": "code",
   "execution_count": 15,
   "metadata": {},
   "outputs": [
    {
     "data": {
      "image/png": "[encoded data removed]",
      "text/plain": [
       "<Figure size 1440x360 with 1 Axes>"
      ]
     },
     "metadata": {
      "needs_background": "light"
     },
     "output_type": "display_data"
    }
   ],
   "source": [
    "freq_words(final_feature_list,terms=20)"
   ]
  },
  {
   "cell_type": "code",
   "execution_count": 16,
   "metadata": {},
   "outputs": [
    {
     "data": {
      "image/png": "[encoded data removed]",
      "text/plain": [
       "<Figure size 1440x360 with 1 Axes>"
      ]
     },
     "metadata": {
      "needs_background": "light"
     },
     "output_type": "display_data"
    }
   ],
   "source": [
    "freq_words(final_review_list,terms=20)"
   ]
  },
  {
   "cell_type": "markdown",
   "metadata": {},
   "source": [
    "## Finding the correlation between a review and a particular Feature of the product"
   ]
  },
  {
   "cell_type": "markdown",
   "metadata": {},
   "source": [
    "There are differet methods to get the sentence vectors :\\\n",
    "\n",
    "**Doc2Vec** : you can train your dataset using Doc2Vec and then use the sentence vectors.\n",
    "\n",
    "**Average of Word2Vec vectors**: You can just take the average of all the word vectors in a sentence. This average vector will represent your sentence vector.(Using this)\n",
    "\n",
    "**Average of Word2Vec vectors with TF-IDF** : this is one of the best approach which I will recommend. Just take the word vectors and multiply it with their TF-IDF scores. Just take the average and it will represent your sentence vector."
   ]
  },
  {
   "cell_type": "code",
   "execution_count": 17,
   "metadata": {},
   "outputs": [],
   "source": [
    "##https://gist.github.com/aparrish/2f562e3737544cf29aaf1af30362f469\n",
    "\n",
    "EMBEDDING_FILE='C:/Users/ramya/Desktop/Santa Clara University/Projects/glove.6B/glove.6B.100d.txt'\n",
    "\n",
    "# this embedding file can be downloaded online https://nlp.stanford.edu/projects/glove/\n",
    "\n",
    "def get_coefs(word, *arr): \n",
    "    return word, np.asarray(arr, dtype='float32')\n",
    "embeddings_index = dict(get_coefs(*o.rstrip().rsplit(' ')) for o in open(EMBEDDING_FILE,encoding='utf-8'))"
   ]
  },
  {
   "cell_type": "code",
   "execution_count": 18,
   "metadata": {},
   "outputs": [],
   "source": [
    "def vec(s):\n",
    "    return embeddings_index.get(s.lower(), np.zeros((100,)))"
   ]
  },
  {
   "cell_type": "code",
   "execution_count": 19,
   "metadata": {},
   "outputs": [],
   "source": [
    "\n",
    "def meanv_sent(coords):\n",
    "    # assumes every item in coords has same length as item 0\n",
    "    a=0\n",
    "    running_sum=0\n",
    "    for w in coords.split():\n",
    "        if w.lower() in embeddings_index.keys():\n",
    "            a=a+1\n",
    "            running_sum=running_sum+vec(w.lower())\n",
    "        \n",
    "    return (running_sum/max(a,1))"
   ]
  },
  {
   "cell_type": "code",
   "execution_count": 20,
   "metadata": {},
   "outputs": [
    {
     "data": {
      "text/plain": [
       "array([-4.0561500e-01,  3.3013499e-01,  4.2058501e-01, -3.7959993e-02,\n",
       "       -2.4814050e-01, -6.9466501e-02, -3.4714502e-01,  2.2136500e-01,\n",
       "       -3.0033001e-01, -9.9291503e-01, -1.1006950e+00,  6.5036500e-01,\n",
       "        5.8976001e-01,  4.6939999e-01,  1.8093389e-01,  7.0989996e-02,\n",
       "       -2.5589001e-01,  2.3566499e-01,  2.3278500e-01,  4.2712000e-01,\n",
       "        1.3359851e-01,  7.8539002e-01,  3.7312502e-01, -3.4635001e-01,\n",
       "        5.9943497e-01,  7.8926498e-01, -6.0883498e-01,  5.5585998e-01,\n",
       "       -2.3996499e-01,  3.4034997e-01,  1.2107998e-01,  3.5529500e-01,\n",
       "        5.4617500e-01,  4.3185502e-01,  8.5548997e-02, -1.2937000e-01,\n",
       "       -1.6336000e-01,  3.8295001e-01,  2.7146500e-01, -6.9993496e-01,\n",
       "        1.2568000e-01, -1.7098500e-01, -7.1828496e-01, -3.9222500e-01,\n",
       "        2.3403251e-01,  8.7463498e-01, -8.3482996e-02, -9.8019993e-01,\n",
       "       -7.6495498e-02, -6.6744998e-02, -1.2110500e-01, -5.3388500e-01,\n",
       "       -3.4731501e-01,  3.8390499e-01, -8.1520998e-01, -2.6416999e-01,\n",
       "        4.4395500e-01,  5.3831500e-01,  2.3482500e-01,  4.7944497e-02,\n",
       "        3.4755000e-01,  6.6728497e-01,  5.0096351e-01,  8.3829999e-01,\n",
       "        4.1441000e-01,  2.5394002e-01, -6.4029998e-01, -4.3760002e-01,\n",
       "        1.8830009e-02,  2.2420004e-02, -4.4918501e-01, -8.5776001e-01,\n",
       "       -4.3368500e-01,  1.7422000e-01, -5.3349882e-04,  1.6931920e-01,\n",
       "       -3.0443001e-01,  7.6122999e-01, -1.9650000e-01,  3.4907502e-01,\n",
       "       -2.0785004e-02,  2.2057250e-01,  2.9448500e-01, -1.6864951e-01,\n",
       "        1.4095500e-01, -1.6512001e-01,  5.2297997e-01, -3.1910002e-02,\n",
       "        1.7310008e-02,  6.3160002e-01, -3.6363500e-01, -7.3012000e-01,\n",
       "        1.3373999e-01, -5.8192003e-01, -9.8414999e-01, -6.2278998e-01,\n",
       "       -1.2209500e+00,  2.6610035e-01, -6.1320001e-01, -2.3343500e-01],\n",
       "      dtype=float32)"
      ]
     },
     "execution_count": 20,
     "metadata": {},
     "output_type": "execute_result"
    }
   ],
   "source": [
    "meanv_sent(\"goose geese\")"
   ]
  },
  {
   "cell_type": "code",
   "execution_count": 21,
   "metadata": {},
   "outputs": [],
   "source": [
    "# cosine similarity\n",
    "\n",
    "def cosine(v1, v2):\n",
    "    if norm(v1) > 0 and norm(v2) > 0:\n",
    "        return dot(v1, v2) / (norm(v1) * norm(v2))\n",
    "    else:\n",
    "        return 0.0"
   ]
  },
  {
   "cell_type": "code",
   "execution_count": 22,
   "metadata": {},
   "outputs": [],
   "source": [
    "v=\"initially started whole organization scaled back use sales department works great putting information new leads one central location tracking use follow process initial contact sales beyond helps know currently importantly next fairly intuitive seems function well helps keep track new contacts Share information multiple users contacts updated able open see potential customer sales process Assigning tasks simple check EditWe issues contacts trouble integrating Google contacts sure bigger problem use plan limited data issues running space learned use better problem disappeared hit big problem The activity sets option nice feature found difficult learn The rest fairly straightforward took time functioned differently worth taking time learn guess process could simplified really liked tracking sales process well great place keep information new leads weed determine likely become sale really like activity sets well These allow set repeated activity use bit tweaking stated trouble figuring initially worth effort would stay away contacts want sync Google contacts two worked well Read Bil Thompson full review\""
   ]
  },
  {
   "cell_type": "code",
   "execution_count": 23,
   "metadata": {},
   "outputs": [
    {
     "data": {
      "text/plain": [
       "0.7360215"
      ]
     },
     "execution_count": 23,
     "metadata": {},
     "output_type": "execute_result"
    }
   ],
   "source": [
    "cosine((meanv_sent('Sales Force Automation Territory')), (meanv_sent(v)))"
   ]
  },
  {
   "cell_type": "markdown",
   "metadata": {},
   "source": [
    "### Building the Matrix"
   ]
  },
  {
   "cell_type": "code",
   "execution_count": 24,
   "metadata": {},
   "outputs": [],
   "source": [
    "df = pd.DataFrame(columns = final_feature)"
   ]
  },
  {
   "cell_type": "code",
   "execution_count": 25,
   "metadata": {},
   "outputs": [],
   "source": [
    "for i in range(len(final_review)):\n",
    "    df = df.append({'Security Single sign capability': i}, ignore_index=True)"
   ]
  },
  {
   "cell_type": "code",
   "execution_count": 27,
   "metadata": {},
   "outputs": [],
   "source": [
    "df.index=final_review"
   ]
  },
  {
   "cell_type": "code",
   "execution_count": 28,
   "metadata": {},
   "outputs": [
    {
     "data": {
      "text/plain": [
       "0.79105896"
      ]
     },
     "execution_count": 28,
     "metadata": {},
     "output_type": "execute_result"
    }
   ],
   "source": [
    "cosine(meanv_sent(df.index[0]), meanv_sent(df.columns[0]))"
   ]
  },
  {
   "cell_type": "code",
   "execution_count": 29,
   "metadata": {},
   "outputs": [],
   "source": [
    "for i in range(0,len(df.columns)):\n",
    "    #df[df.columns[i]] = df[df.columns[i]].astype(float)\n",
    "    for j in range(0,len(df)):\n",
    "         df.at[df.index[j], df.columns[i]]=cosine(meanv_sent(df.index[j]), meanv_sent(df.columns[i]))"
   ]
  },
  {
   "cell_type": "code",
   "execution_count": 30,
   "metadata": {
    "scrolled": false
   },
   "outputs": [
    {
     "data": {
      "text/html": [
       "<div>\n",
       "<style scoped>\n",
       "    .dataframe tbody tr th:only-of-type {\n",
       "        vertical-align: middle;\n",
       "    }\n",
       "\n",
       "    .dataframe tbody tr th {\n",
       "        vertical-align: top;\n",
       "    }\n",
       "\n",
       "    .dataframe thead th {\n",
       "        text-align: right;\n",
       "    }\n",
       "</style>\n",
       "<table border=\"1\" class=\"dataframe\">\n",
       "  <thead>\n",
       "    <tr style=\"text-align: right;\">\n",
       "      <th></th>\n",
       "      <th>Customer data management contact management</th>\n",
       "      <th>Workflow management</th>\n",
       "      <th>Territory management</th>\n",
       "      <th>Opportunity management</th>\n",
       "      <th>Integration email client Outlook Gmail</th>\n",
       "      <th>Quote order management</th>\n",
       "      <th>Interaction tracking</th>\n",
       "      <th>Lead management</th>\n",
       "      <th>Email marketing</th>\n",
       "      <th>Task management</th>\n",
       "      <th>...</th>\n",
       "      <th>Single sign capability</th>\n",
       "      <th>Marketing automation</th>\n",
       "      <th>Mobile access</th>\n",
       "      <th>AICPA SOC Type Type audited accredited Privacy Shield Swiss Privacy Shield certified</th>\n",
       "      <th>Data import export</th>\n",
       "      <th>Two factor Authentication 2FA</th>\n",
       "      <th>SAML based Single Sign SSO</th>\n",
       "      <th>OAuth Single Sign SSO</th>\n",
       "      <th>Audit Logs</th>\n",
       "      <th>Security Single sign capability</th>\n",
       "    </tr>\n",
       "  </thead>\n",
       "  <tbody>\n",
       "    <tr>\n",
       "      <th>initially started whole organization scaled back use sales department works great putting information new leads one central location tracking use follow process initial contact sales beyond helps know currently importantly next fairly intuitive seems function well helps keep track new contacts Share information multiple users contacts updated able open see potential customer sales process Assigning tasks simple check EditWe issues contacts trouble integrating Google contacts sure bigger problem use plan limited data issues running space learned use better problem disappeared hit big problem The activity sets option nice feature found difficult learn The rest fairly straightforward took time functioned differently worth taking time learn guess process could simplified really liked tracking sales process well great place keep information new leads weed determine likely become sale really like activity sets well These allow set repeated activity use bit tweaking stated trouble figuring initially worth effort would stay away contacts want sync Google contacts two worked well Read Bil Thompson full review</th>\n",
       "      <td>0.791059</td>\n",
       "      <td>0.442427</td>\n",
       "      <td>0.70992</td>\n",
       "      <td>0.785405</td>\n",
       "      <td>0.561818</td>\n",
       "      <td>0.800213</td>\n",
       "      <td>0.604507</td>\n",
       "      <td>0.761966</td>\n",
       "      <td>0.553273</td>\n",
       "      <td>0.714872</td>\n",
       "      <td>...</td>\n",
       "      <td>0.814327</td>\n",
       "      <td>0.48447</td>\n",
       "      <td>0.653488</td>\n",
       "      <td>0.595491</td>\n",
       "      <td>0.625378</td>\n",
       "      <td>0.746891</td>\n",
       "      <td>0.649672</td>\n",
       "      <td>0.494099</td>\n",
       "      <td>0.393449</td>\n",
       "      <td>0.840217</td>\n",
       "    </tr>\n",
       "    <tr>\n",
       "      <th>using primarily sales team CRM system tracking organisations contacts opportunities future projects This information coupled budgets provide proverbial BIGGER PICTURE Organizational contact opportunity management able store relevant data three specific information areas particular progression opportunities custom phases big plus Great reports customizable department needs The easy user interface made transition previous product relatively pain free users Not say used wise old sage use EditIntegration Xero allow quote directly able view Xero quotes would also great able track quotes budget target Well suited client management Not well suited quoting Read Jeremy Grant full review</th>\n",
       "      <td>0.83304</td>\n",
       "      <td>0.516662</td>\n",
       "      <td>0.720067</td>\n",
       "      <td>0.812604</td>\n",
       "      <td>0.617846</td>\n",
       "      <td>0.834334</td>\n",
       "      <td>0.627749</td>\n",
       "      <td>0.773927</td>\n",
       "      <td>0.607793</td>\n",
       "      <td>0.735281</td>\n",
       "      <td>...</td>\n",
       "      <td>0.817541</td>\n",
       "      <td>0.531393</td>\n",
       "      <td>0.700778</td>\n",
       "      <td>0.644162</td>\n",
       "      <td>0.669854</td>\n",
       "      <td>0.760981</td>\n",
       "      <td>0.680607</td>\n",
       "      <td>0.513479</td>\n",
       "      <td>0.434752</td>\n",
       "      <td>0.849949</td>\n",
       "    </tr>\n",
       "    <tr>\n",
       "      <th>used whole sales department people Customer Success process manage Inbound Leads another process Outbound prospecting based Cold Emails The problem good tools prospecting cold emails every salesman create tasks follow ups That main reason changed CRM For Customer Success used Project tab allowed Project Manager Account Manager communicate process implementation salesman Link Sales Project ManagersStages opportunitiesEditManaging LeadsWorkflows task assignment well suited low budget small sales team work tasks manually much better working spreadsheet history leads lot integrations scale grow Read Ignacio Cruz full review</th>\n",
       "      <td>0.836448</td>\n",
       "      <td>0.543436</td>\n",
       "      <td>0.733724</td>\n",
       "      <td>0.81691</td>\n",
       "      <td>0.604296</td>\n",
       "      <td>0.807491</td>\n",
       "      <td>0.614061</td>\n",
       "      <td>0.794907</td>\n",
       "      <td>0.625872</td>\n",
       "      <td>0.776839</td>\n",
       "      <td>...</td>\n",
       "      <td>0.809247</td>\n",
       "      <td>0.58253</td>\n",
       "      <td>0.652475</td>\n",
       "      <td>0.587238</td>\n",
       "      <td>0.664265</td>\n",
       "      <td>0.736243</td>\n",
       "      <td>0.658603</td>\n",
       "      <td>0.49555</td>\n",
       "      <td>0.456801</td>\n",
       "      <td>0.832662</td>\n",
       "    </tr>\n",
       "    <tr>\n",
       "      <th>entertainment field always looking leads quarterly magazine really need way follow contacts keep information order Our social media team used needs little year starting free trial version switching Pro Simple point click lead creation Although people use sales use keep list contacts notes lot contacts featured magazine may met festival event Easy keep notes individual information EditThe mobile app lacking You need study system bit know use would recommend great project management tool large small businesses speak sales side software far project management great The reason would give email mobile work seeking You could time send email mobile app Since always feature must Read Ashia Ackov full review</th>\n",
       "      <td>0.791739</td>\n",
       "      <td>0.45016</td>\n",
       "      <td>0.705735</td>\n",
       "      <td>0.801767</td>\n",
       "      <td>0.594501</td>\n",
       "      <td>0.81862</td>\n",
       "      <td>0.570708</td>\n",
       "      <td>0.766153</td>\n",
       "      <td>0.601873</td>\n",
       "      <td>0.708857</td>\n",
       "      <td>...</td>\n",
       "      <td>0.819408</td>\n",
       "      <td>0.497745</td>\n",
       "      <td>0.68954</td>\n",
       "      <td>0.62436</td>\n",
       "      <td>0.615802</td>\n",
       "      <td>0.730889</td>\n",
       "      <td>0.68046</td>\n",
       "      <td>0.516486</td>\n",
       "      <td>0.39638</td>\n",
       "      <td>0.841427</td>\n",
       "    </tr>\n",
       "    <tr>\n",
       "      <th>use manage tasks projects keep track opportunities store information clients helps establish workflows clients acquisition delivery used whole organization Task ManagementGoogle Apps IntegrationLow barrier entryEditWould love mailing automationOur organization started free plan upgraded paid plan downgrade This immediately clear signed information said upgrade downgrade necessary Apparently true want move away paid service need automated sales solution may worth trying free option see fits company Infusionsoft might speed looking automated sales help Read Nicholas Salvo full review</th>\n",
       "      <td>0.822671</td>\n",
       "      <td>0.495552</td>\n",
       "      <td>0.727121</td>\n",
       "      <td>0.822111</td>\n",
       "      <td>0.613491</td>\n",
       "      <td>0.837961</td>\n",
       "      <td>0.570042</td>\n",
       "      <td>0.772957</td>\n",
       "      <td>0.623174</td>\n",
       "      <td>0.746666</td>\n",
       "      <td>...</td>\n",
       "      <td>0.83567</td>\n",
       "      <td>0.535024</td>\n",
       "      <td>0.696318</td>\n",
       "      <td>0.626711</td>\n",
       "      <td>0.660095</td>\n",
       "      <td>0.717417</td>\n",
       "      <td>0.67543</td>\n",
       "      <td>0.521382</td>\n",
       "      <td>0.425871</td>\n",
       "      <td>0.864699</td>\n",
       "    </tr>\n",
       "  </tbody>\n",
       "</table>\n",
       "<p>5 rows × 27 columns</p>\n",
       "</div>"
      ],
      "text/plain": [
       "                                                   Customer data management contact management  \\\n",
       "initially started whole organization scaled bac...                                    0.791059   \n",
       "using primarily sales team CRM system tracking ...                                     0.83304   \n",
       "used whole sales department people Customer Suc...                                    0.836448   \n",
       "entertainment field always looking leads quarte...                                    0.791739   \n",
       "use manage tasks projects keep track opportunit...                                    0.822671   \n",
       "\n",
       "                                                   Workflow management  \\\n",
       "initially started whole organization scaled bac...            0.442427   \n",
       "using primarily sales team CRM system tracking ...            0.516662   \n",
       "used whole sales department people Customer Suc...            0.543436   \n",
       "entertainment field always looking leads quarte...             0.45016   \n",
       "use manage tasks projects keep track opportunit...            0.495552   \n",
       "\n",
       "                                                   Territory management  \\\n",
       "initially started whole organization scaled bac...              0.70992   \n",
       "using primarily sales team CRM system tracking ...             0.720067   \n",
       "used whole sales department people Customer Suc...             0.733724   \n",
       "entertainment field always looking leads quarte...             0.705735   \n",
       "use manage tasks projects keep track opportunit...             0.727121   \n",
       "\n",
       "                                                   Opportunity management  \\\n",
       "initially started whole organization scaled bac...               0.785405   \n",
       "using primarily sales team CRM system tracking ...               0.812604   \n",
       "used whole sales department people Customer Suc...                0.81691   \n",
       "entertainment field always looking leads quarte...               0.801767   \n",
       "use manage tasks projects keep track opportunit...               0.822111   \n",
       "\n",
       "                                                   Integration email client Outlook Gmail  \\\n",
       "initially started whole organization scaled bac...                               0.561818   \n",
       "using primarily sales team CRM system tracking ...                               0.617846   \n",
       "used whole sales department people Customer Suc...                               0.604296   \n",
       "entertainment field always looking leads quarte...                               0.594501   \n",
       "use manage tasks projects keep track opportunit...                               0.613491   \n",
       "\n",
       "                                                   Quote order management  \\\n",
       "initially started whole organization scaled bac...               0.800213   \n",
       "using primarily sales team CRM system tracking ...               0.834334   \n",
       "used whole sales department people Customer Suc...               0.807491   \n",
       "entertainment field always looking leads quarte...                0.81862   \n",
       "use manage tasks projects keep track opportunit...               0.837961   \n",
       "\n",
       "                                                   Interaction tracking  \\\n",
       "initially started whole organization scaled bac...             0.604507   \n",
       "using primarily sales team CRM system tracking ...             0.627749   \n",
       "used whole sales department people Customer Suc...             0.614061   \n",
       "entertainment field always looking leads quarte...             0.570708   \n",
       "use manage tasks projects keep track opportunit...             0.570042   \n",
       "\n",
       "                                                   Lead management  \\\n",
       "initially started whole organization scaled bac...        0.761966   \n",
       "using primarily sales team CRM system tracking ...        0.773927   \n",
       "used whole sales department people Customer Suc...        0.794907   \n",
       "entertainment field always looking leads quarte...        0.766153   \n",
       "use manage tasks projects keep track opportunit...        0.772957   \n",
       "\n",
       "                                                   Email marketing  \\\n",
       "initially started whole organization scaled bac...        0.553273   \n",
       "using primarily sales team CRM system tracking ...        0.607793   \n",
       "used whole sales department people Customer Suc...        0.625872   \n",
       "entertainment field always looking leads quarte...        0.601873   \n",
       "use manage tasks projects keep track opportunit...        0.623174   \n",
       "\n",
       "                                                   Task management  ...  \\\n",
       "initially started whole organization scaled bac...        0.714872  ...   \n",
       "using primarily sales team CRM system tracking ...        0.735281  ...   \n",
       "used whole sales department people Customer Suc...        0.776839  ...   \n",
       "entertainment field always looking leads quarte...        0.708857  ...   \n",
       "use manage tasks projects keep track opportunit...        0.746666  ...   \n",
       "\n",
       "                                                   Single sign capability  \\\n",
       "initially started whole organization scaled bac...               0.814327   \n",
       "using primarily sales team CRM system tracking ...               0.817541   \n",
       "used whole sales department people Customer Suc...               0.809247   \n",
       "entertainment field always looking leads quarte...               0.819408   \n",
       "use manage tasks projects keep track opportunit...                0.83567   \n",
       "\n",
       "                                                   Marketing automation  \\\n",
       "initially started whole organization scaled bac...              0.48447   \n",
       "using primarily sales team CRM system tracking ...             0.531393   \n",
       "used whole sales department people Customer Suc...              0.58253   \n",
       "entertainment field always looking leads quarte...             0.497745   \n",
       "use manage tasks projects keep track opportunit...             0.535024   \n",
       "\n",
       "                                                   Mobile access  \\\n",
       "initially started whole organization scaled bac...      0.653488   \n",
       "using primarily sales team CRM system tracking ...      0.700778   \n",
       "used whole sales department people Customer Suc...      0.652475   \n",
       "entertainment field always looking leads quarte...       0.68954   \n",
       "use manage tasks projects keep track opportunit...      0.696318   \n",
       "\n",
       "                                                   AICPA SOC Type Type audited accredited Privacy Shield Swiss Privacy Shield certified  \\\n",
       "initially started whole organization scaled bac...                                           0.595491                                     \n",
       "using primarily sales team CRM system tracking ...                                           0.644162                                     \n",
       "used whole sales department people Customer Suc...                                           0.587238                                     \n",
       "entertainment field always looking leads quarte...                                            0.62436                                     \n",
       "use manage tasks projects keep track opportunit...                                           0.626711                                     \n",
       "\n",
       "                                                   Data import export  \\\n",
       "initially started whole organization scaled bac...           0.625378   \n",
       "using primarily sales team CRM system tracking ...           0.669854   \n",
       "used whole sales department people Customer Suc...           0.664265   \n",
       "entertainment field always looking leads quarte...           0.615802   \n",
       "use manage tasks projects keep track opportunit...           0.660095   \n",
       "\n",
       "                                                   Two factor Authentication 2FA  \\\n",
       "initially started whole organization scaled bac...                      0.746891   \n",
       "using primarily sales team CRM system tracking ...                      0.760981   \n",
       "used whole sales department people Customer Suc...                      0.736243   \n",
       "entertainment field always looking leads quarte...                      0.730889   \n",
       "use manage tasks projects keep track opportunit...                      0.717417   \n",
       "\n",
       "                                                   SAML based Single Sign SSO  \\\n",
       "initially started whole organization scaled bac...                   0.649672   \n",
       "using primarily sales team CRM system tracking ...                   0.680607   \n",
       "used whole sales department people Customer Suc...                   0.658603   \n",
       "entertainment field always looking leads quarte...                    0.68046   \n",
       "use manage tasks projects keep track opportunit...                    0.67543   \n",
       "\n",
       "                                                   OAuth Single Sign SSO  \\\n",
       "initially started whole organization scaled bac...              0.494099   \n",
       "using primarily sales team CRM system tracking ...              0.513479   \n",
       "used whole sales department people Customer Suc...               0.49555   \n",
       "entertainment field always looking leads quarte...              0.516486   \n",
       "use manage tasks projects keep track opportunit...              0.521382   \n",
       "\n",
       "                                                   Audit Logs  \\\n",
       "initially started whole organization scaled bac...   0.393449   \n",
       "using primarily sales team CRM system tracking ...   0.434752   \n",
       "used whole sales department people Customer Suc...   0.456801   \n",
       "entertainment field always looking leads quarte...    0.39638   \n",
       "use manage tasks projects keep track opportunit...   0.425871   \n",
       "\n",
       "                                                   Security Single sign capability  \n",
       "initially started whole organization scaled bac...                        0.840217  \n",
       "using primarily sales team CRM system tracking ...                        0.849949  \n",
       "used whole sales department people Customer Suc...                        0.832662  \n",
       "entertainment field always looking leads quarte...                        0.841427  \n",
       "use manage tasks projects keep track opportunit...                        0.864699  \n",
       "\n",
       "[5 rows x 27 columns]"
      ]
     },
     "execution_count": 30,
     "metadata": {},
     "output_type": "execute_result"
    }
   ],
   "source": [
    "df.head()"
   ]
  }
 ],
 "metadata": {
  "kernelspec": {
   "display_name": "Python 3",
   "language": "python",
   "name": "python3"
  },
  "language_info": {
   "codemirror_mode": {
    "name": "ipython",
    "version": 3
   },
   "file_extension": ".py",
   "mimetype": "text/x-python",
   "name": "python",
   "nbconvert_exporter": "python",
   "pygments_lexer": "ipython3",
   "version": "3.7.3"
  }
 },
 "nbformat": 4,
 "nbformat_minor": 4
}
